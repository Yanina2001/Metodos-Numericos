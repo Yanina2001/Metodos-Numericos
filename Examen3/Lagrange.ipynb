{
 "cells": [
  {
   "cell_type": "markdown",
   "metadata": {},
   "source": [
    "# Interpolación de Lagrange\n",
    "\n",
    "\n",
    "Supongamos que contamos con un conjunto de datos discretos conformados por los puntos siguientes:\n",
    "\n",
    "\n",
    "\\begin{equation*}\n",
    "\t\\left\\lbrace \\left(x_0, y_0\\right), \\left(x_1, y_1\\right), \\left(x_2, y_2\\right), \\dots, \\left(x_n, y_n\\right) \\right\\rbrace.\n",
    "\\end{equation*}\n",
    "\n",
    "\n",
    "Notemos que estamos definiendo ciertos polinomios interpoladores de tal forma que dependen de $L^{(k)}_i$, los cuales llamamos como **polinomios de Lagrange**, es decir:\n",
    "\n",
    "\n",
    "\\begin{equation}\n",
    "\tL^{(n)}_j\\left(x\\right)  = \\prod_{\\substack{i=0\\\\ i\\neq j}}^n \\frac{x - x_i}{x_j - x_i} = \\frac{\\left(x - x_0\\right)\\left(x - x_1\\right)\\cdots\\left(x - x_{j-1}\\right)\\left(x - x_{j+1}\\right)\\cdots\\left(x - x_{n-1}\\right)\\left(x - x_n\\right)}{\\left(x_j - x_0\\right)\\left(x_j - x_1\\right)\\cdots\\left(x_j - x_{j-1}\\right)\\left(x_j - x_{j+1}\\right)\\cdots\\left(x_j - x_{n-1}\\right)\\left(x_j - x_n\\right)}\n",
    "\\end{equation}\n",
    "\n",
    "\n",
    "Cabe señalar, que siempre y cuando este claro el orden del polinomio de Lagrange, podremos omitir el superíndice $n$ y sólo denotar los polinomios por:\n",
    "\n",
    "\n",
    "\\begin{equation*}\n",
    "\tL_j \\left(x\\right) = \\prod_{\\substack{i=0\\\\ i\\neq j}}^n \\frac{x - x_i}{x_j - x_i}\n",
    "\\end{equation*}\n",
    "\n",
    "\n",
    "Ahora bien, denotaremos el polinomio interpolador de orden $n$ como sigue:\n",
    "\n",
    "\n",
    "\\begin{equation*}\n",
    "\tf\\left(x\\right) = y_0 L_0\\left(x\\right) + y_1 L_1\\left(x\\right) + \\cdots + y_n L_n\\left(x\\right) = \\sum_{i = 0}^n y_i L_i\\left(x\\right)\n",
    "\\end{equation*}"
   ]
  },
  {
   "cell_type": "code",
   "execution_count": 10,
   "metadata": {},
   "outputs": [],
   "source": [
    "# Procederemos a determinar este tipo de interpolación en Scipy\n",
    "import sympy as sp\n",
    "\n",
    "# También importaremos numpy para tener el cálculo numérico\n",
    "import numpy as np\n",
    "\n",
    "# También importamos la libreria de graficación\n",
    "import matplotlib.pyplot as plt\n",
    "\n",
    "# Importamos la libreria de pandas\n",
    "import pandas as pd"
   ]
  },
  {
   "cell_type": "code",
   "execution_count": 11,
   "metadata": {},
   "outputs": [],
   "source": [
    "# Definimos un simbolo con el cual vamos a trabajar\n",
    "x = sp.Symbol('x')"
   ]
  },
  {
   "cell_type": "code",
   "execution_count": 12,
   "metadata": {},
   "outputs": [],
   "source": [
    "# Importamos la información mediante un archivo en csv\n",
    "data = pd.read_csv('LagrangeDatos.csv')\n",
    "\n",
    "# Visualizamos la información mediante un arreglo\n",
    "arreglo = data.values"
   ]
  },
  {
   "cell_type": "code",
   "execution_count": 13,
   "metadata": {},
   "outputs": [
    {
     "data": {
      "text/latex": [
       "$\\displaystyle - 1.20925833333274 x^{5} + 2.15797083333473 x^{4} - 1.15943791666177 x^{3} + 1.2181097916623 x^{2} + 0.503435554999669 x - 0.85272796000018$"
      ],
      "text/plain": [
       "-1.20925833333274*x**5 + 2.15797083333473*x**4 - 1.15943791666177*x**3 + 1.2181097916623*x**2 + 0.503435554999669*x - 0.85272796000018"
      ]
     },
     "execution_count": 13,
     "metadata": {},
     "output_type": "execute_result"
    }
   ],
   "source": [
    "# Determinamos cuantos datos tenemos\n",
    "n = len(arreglo)\n",
    "\n",
    "# Definiremos una lista donde guardaremos las funciones\n",
    "lagrange = []\n",
    "\n",
    "# Determinamos las funciones de lagrange\n",
    "for i in range(n):\n",
    "    \n",
    "    exp = 1\n",
    "    \n",
    "    # Calculamos los polinomios de lagrange\n",
    "    for j in range(n):\n",
    "        \n",
    "        # Evitamos cuando i = j\n",
    "        if i != j:\n",
    "            \n",
    "            # Termino del producto\n",
    "            lagran = (x - arreglo[j,0]) / (arreglo[i,0] - arreglo[j,0])\n",
    "            \n",
    "            exp = exp * lagran\n",
    "    \n",
    "    # Agregamos la función\n",
    "    lagrange.append(sp.expand(exp))\n",
    "    \n",
    "# Ahora determinamos el polinomio interpolador\n",
    "\n",
    "# Definimos el interpolador\n",
    "interpolador = 0\n",
    "\n",
    "# Calculamos el polinomio\n",
    "for i in range(n):\n",
    "    \n",
    "    # Sumamos\n",
    "    interpolador = interpolador + arreglo[i,1] * lagrange[i]\n",
    "    \n",
    "interpolador"
   ]
  },
  {
   "cell_type": "code",
   "execution_count": 19,
   "metadata": {},
   "outputs": [
    {
     "data": {
      "text/latex": [
       "$\\displaystyle 2.55193128440023 \\cdot 10^{-6}$"
      ],
      "text/plain": [
       "2.55193128440023e-6"
      ]
     },
     "execution_count": 19,
     "metadata": {},
     "output_type": "execute_result"
    }
   ],
   "source": [
    "# Evaluamos la expresión\n",
    "abs(interpolador.subs(x,0.85000000) - np.sin(np.exp(0.85000000) -2))"
   ]
  },
  {
   "cell_type": "code",
   "execution_count": 15,
   "metadata": {},
   "outputs": [],
   "source": [
    "# Convertimos la expresión a numpy\n",
    "fxn = sp.lambdify(x,interpolador,'numpy')"
   ]
  },
  {
   "cell_type": "code",
   "execution_count": 16,
   "metadata": {},
   "outputs": [
    {
     "data": {
      "image/png": "[encoded data removed]",
      "text/plain": [
       "<Figure size 1080x432 with 1 Axes>"
      ]
     },
     "metadata": {},
     "output_type": "display_data"
    }
   ],
   "source": [
    "# Creamos la gráfica de forma que podamos modificarla\n",
    "fig = plt.figure(figsize = [15,6], facecolor = 'orange', edgecolor = 'c', linewidth = 10)\n",
    "# Titulo de la grafica\n",
    "fig.suptitle('Interpolación de Lagrange', fontsize = 20)\n",
    "# Creamos los ejes\n",
    "ax = plt.axes()\n",
    "# Creamos una secuencia de puntos desde el 1 al 5\n",
    "x1 = np.linspace(1, 5, 100)\n",
    "# Evaluamos la función en el polinomio interpolador\n",
    "y = fxn(x1)\n",
    "# Creamos los subplots para el primero\n",
    "g1 = ax.plot(x1, y)\n",
    "# Asignamos las propiedades de la primer gráfica\n",
    "g1[0].set_color('c')\n",
    "g1[0].set_linestyle('-.')\n",
    "g1[0].set_linewidth(2)\n",
    "g1[0].set_drawstyle('default')\n",
    "g1[0].set_label('Lagrange')\n",
    "\n",
    "# Creamos los subplots para el segundo\n",
    "g2 = ax.plot(x1, 1 / x1)\n",
    "\n",
    "# Asignamos las propiedades de la primer gráfica\n",
    "g2[0].set_color('blue')\n",
    "g2[0].set_linestyle('-.')\n",
    "g2[0].set_linewidth(2)\n",
    "g2[0].set_drawstyle('default')\n",
    "g2[0].set_label('Exacta')\n",
    "\n",
    "# Mostramos las leyendas\n",
    "plt.legend()\n",
    "\n",
    "# Mostramos la malla\n",
    "plt.grid(True)\n",
    "\n",
    "# Mostramos la gráfica\n",
    "plt.show()"
   ]
  },
  {
   "cell_type": "code",
   "execution_count": null,
   "metadata": {},
   "outputs": [],
   "source": []
  }
 ],
 "metadata": {
  "kernelspec": {
   "display_name": "Python 3",
   "language": "python",
   "name": "python3"
  },
  "language_info": {
   "codemirror_mode": {
    "name": "ipython",
    "version": 3
   },
   "file_extension": ".py",
   "mimetype": "text/x-python",
   "name": "python",
   "nbconvert_exporter": "python",
   "pygments_lexer": "ipython3",
   "version": "3.8.8"
  }
 },
 "nbformat": 4,
 "nbformat_minor": 4
}
