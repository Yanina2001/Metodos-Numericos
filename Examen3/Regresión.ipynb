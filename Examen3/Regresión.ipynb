{
 "cells": [
  {
   "cell_type": "markdown",
   "metadata": {},
   "source": [
    "# Regresión lineal\n",
    "\n",
    "\n"
   ]
  },
  {
   "cell_type": "markdown",
   "metadata": {},
   "source": [
    "Ajustaremos con una línea recta a un conjunto de observaciones (de datos discretos) definidos por los puntos:\n",
    "\n",
    "\n",
    "$$(x_1, y_1), (x_2, y_2), (x_3, y_3), \\dots, (x_n, y_n);$$\n",
    "\n",
    "\n",
    "por lo que, la ecuación de la recta que debe de aproximar el conjunto de datos es:\n",
    "\n",
    "\n",
    "\\begin{equation}\n",
    "\ty = a_0 + a_1 x + e,\n",
    "\\end{equation}\n",
    "\n",
    "\n",
    "donde $a_0$ y $a_1$ son los coeficiente que representan la intersección con el eje $y$ y la pendiente de la recta, asimismo, $e$ es el error, es decir, la diferencia entre el modelo y las observaciones, entonces:\n",
    "\n",
    "\n",
    "\\begin{equation*}\n",
    "\te = y - a_0 - a_1x.\n",
    "\\end{equation*}\n",
    "\n",
    "\n",
    "Entonces la estrategia es minimizar la suma de todos los errores de aproximación con la recta lineal y el valor de la medicion, entonces tenemos la siguiente función por minimizar:\n",
    "\n",
    "\n",
    "\\begin{equation}\n",
    "\tE = \\sum_{i = 1}^n e_i^2 = \\sum_{i =1}^n \\left( y_i - \\overline{y}_i \\right)^2 = \\sum_{i =1}^n \\left( y_i - a_0 - a_1 x_i \\right)^2,\n",
    "\\end{equation}\n",
    "\n",
    "\n",
    "Así que los coeficientes del modelo son\n",
    "\n",
    "\n",
    "\\begin{equation}\n",
    "\t\\begin{split}\n",
    "\t\ta_1 & = \\frac{n\\sum_{i =1}^n y_i x_i  - \\left(\\sum_{i = 1}^n x_i\\right)\\left(\\sum_{i = 1}^n y_i\\right)}{n\\sum_{i =1}^n x^2_i - \\left(\\sum_{i =1}^n x_i \\right)^2} \\\\\n",
    "\t\ta_0 & = \\overline{y} - a_1 \\overline{x}\n",
    "\t\\end{split}\n",
    "\\end{equation}\n",
    "\n",
    "\n",
    "Por ultimo describimos el coeficiente de bondad $r^2$\n",
    "\n",
    "\n",
    "\\begin{equation}\n",
    "\tr^2 = \\left(\\frac{n\\sum_{i =1}^n x_i y_i - \\left(\\sum_{i =1}^n x_i\\right)\\left(\\sum_{i =1}^n y_i\\right)}{\\sqrt{n\\sum_{i =1}x_i^2 - \\left(\\sum_{i =1}^n x_i\\right)^2}\\sqrt{n\\sum_{i =1}y_i^2 - \\left(\\sum_{i =1}^n y_i\\right)^2}}\\right)^2.\n",
    "\\end{equation}"
   ]
  },
  {
   "cell_type": "code",
   "execution_count": 1,
   "metadata": {},
   "outputs": [],
   "source": [
    "# A fin de facilitar la carga de los datos emplearemos la libreria de pandas\n",
    "import pandas as pd\n",
    "\n",
    "# Importamos numpy en caso de ocuparlo\n",
    "import numpy as np\n",
    "\n",
    "# Libreria para graficar\n",
    "import matplotlib.pyplot as plt\n",
    "from matplotlib import style\n",
    "import seaborn as sns\n",
    "\n",
    "# Configuramos los warnings\n",
    "import warnings\n",
    "warnings.filterwarnings('ignore')"
   ]
  },
  {
   "cell_type": "code",
   "execution_count": 2,
   "metadata": {},
   "outputs": [
    {
     "data": {
      "text/html": [
       "<div>\n",
       "<style scoped>\n",
       "    .dataframe tbody tr th:only-of-type {\n",
       "        vertical-align: middle;\n",
       "    }\n",
       "\n",
       "    .dataframe tbody tr th {\n",
       "        vertical-align: top;\n",
       "    }\n",
       "\n",
       "    .dataframe thead th {\n",
       "        text-align: right;\n",
       "    }\n",
       "</style>\n",
       "<table border=\"1\" class=\"dataframe\">\n",
       "  <thead>\n",
       "    <tr style=\"text-align: right;\">\n",
       "      <th></th>\n",
       "      <th>x</th>\n",
       "      <th>y</th>\n",
       "    </tr>\n",
       "  </thead>\n",
       "  <tbody>\n",
       "    <tr>\n",
       "      <th>0</th>\n",
       "      <td>4.0</td>\n",
       "      <td>102.56</td>\n",
       "    </tr>\n",
       "    <tr>\n",
       "      <th>1</th>\n",
       "      <td>4.2</td>\n",
       "      <td>113.18</td>\n",
       "    </tr>\n",
       "    <tr>\n",
       "      <th>2</th>\n",
       "      <td>4.5</td>\n",
       "      <td>130.11</td>\n",
       "    </tr>\n",
       "    <tr>\n",
       "      <th>3</th>\n",
       "      <td>4.7</td>\n",
       "      <td>142.05</td>\n",
       "    </tr>\n",
       "    <tr>\n",
       "      <th>4</th>\n",
       "      <td>5.1</td>\n",
       "      <td>167.53</td>\n",
       "    </tr>\n",
       "    <tr>\n",
       "      <th>5</th>\n",
       "      <td>5.5</td>\n",
       "      <td>195.14</td>\n",
       "    </tr>\n",
       "    <tr>\n",
       "      <th>6</th>\n",
       "      <td>5.9</td>\n",
       "      <td>224.87</td>\n",
       "    </tr>\n",
       "    <tr>\n",
       "      <th>7</th>\n",
       "      <td>6.3</td>\n",
       "      <td>256.73</td>\n",
       "    </tr>\n",
       "    <tr>\n",
       "      <th>8</th>\n",
       "      <td>6.8</td>\n",
       "      <td>299.50</td>\n",
       "    </tr>\n",
       "    <tr>\n",
       "      <th>9</th>\n",
       "      <td>7.1</td>\n",
       "      <td>326.77</td>\n",
       "    </tr>\n",
       "  </tbody>\n",
       "</table>\n",
       "</div>"
      ],
      "text/plain": [
       "     x       y\n",
       "0  4.0  102.56\n",
       "1  4.2  113.18\n",
       "2  4.5  130.11\n",
       "3  4.7  142.05\n",
       "4  5.1  167.53\n",
       "5  5.5  195.14\n",
       "6  5.9  224.87\n",
       "7  6.3  256.73\n",
       "8  6.8  299.50\n",
       "9  7.1  326.77"
      ]
     },
     "execution_count": 2,
     "metadata": {},
     "output_type": "execute_result"
    }
   ],
   "source": [
    "# Importamos la información mediante un archivo en csv\n",
    "data = pd.read_csv('RegresionL.csv')\n",
    "\n",
    "# Visualizamos la información\n",
    "data"
   ]
  },
  {
   "cell_type": "code",
   "execution_count": 3,
   "metadata": {},
   "outputs": [],
   "source": [
    "# Ahora procederemos a determinar el modelo, por lo que,\n",
    "# determinamos la longitud de los datos\n",
    "n = len(data)"
   ]
  },
  {
   "cell_type": "code",
   "execution_count": 4,
   "metadata": {},
   "outputs": [
    {
     "data": {
      "text/plain": [
       "x      54.10\n",
       "y    1958.44\n",
       "dtype: float64"
      ]
     },
     "execution_count": 4,
     "metadata": {},
     "output_type": "execute_result"
    }
   ],
   "source": [
    "# Calculamos la suma de datos en x\n",
    "data.sum()"
   ]
  },
  {
   "cell_type": "code",
   "execution_count": 5,
   "metadata": {},
   "outputs": [],
   "source": [
    "# Asignamos la suma de 'x' y de 'y'\n",
    "sumx = data.sum()['x']\n",
    "sumy = data.sum()['y']"
   ]
  },
  {
   "cell_type": "code",
   "execution_count": 6,
   "metadata": {},
   "outputs": [],
   "source": [
    "# Calculamos el cuadrado del dataframe\n",
    "datacuadrado = data ** 2"
   ]
  },
  {
   "cell_type": "code",
   "execution_count": 7,
   "metadata": {},
   "outputs": [
    {
     "data": {
      "text/html": [
       "<div>\n",
       "<style scoped>\n",
       "    .dataframe tbody tr th:only-of-type {\n",
       "        vertical-align: middle;\n",
       "    }\n",
       "\n",
       "    .dataframe tbody tr th {\n",
       "        vertical-align: top;\n",
       "    }\n",
       "\n",
       "    .dataframe thead th {\n",
       "        text-align: right;\n",
       "    }\n",
       "</style>\n",
       "<table border=\"1\" class=\"dataframe\">\n",
       "  <thead>\n",
       "    <tr style=\"text-align: right;\">\n",
       "      <th></th>\n",
       "      <th>x</th>\n",
       "      <th>y</th>\n",
       "    </tr>\n",
       "  </thead>\n",
       "  <tbody>\n",
       "    <tr>\n",
       "      <th>0</th>\n",
       "      <td>16.00</td>\n",
       "      <td>10518.5536</td>\n",
       "    </tr>\n",
       "    <tr>\n",
       "      <th>1</th>\n",
       "      <td>17.64</td>\n",
       "      <td>12809.7124</td>\n",
       "    </tr>\n",
       "    <tr>\n",
       "      <th>2</th>\n",
       "      <td>20.25</td>\n",
       "      <td>16928.6121</td>\n",
       "    </tr>\n",
       "    <tr>\n",
       "      <th>3</th>\n",
       "      <td>22.09</td>\n",
       "      <td>20178.2025</td>\n",
       "    </tr>\n",
       "    <tr>\n",
       "      <th>4</th>\n",
       "      <td>26.01</td>\n",
       "      <td>28066.3009</td>\n",
       "    </tr>\n",
       "    <tr>\n",
       "      <th>5</th>\n",
       "      <td>30.25</td>\n",
       "      <td>38079.6196</td>\n",
       "    </tr>\n",
       "    <tr>\n",
       "      <th>6</th>\n",
       "      <td>34.81</td>\n",
       "      <td>50566.5169</td>\n",
       "    </tr>\n",
       "    <tr>\n",
       "      <th>7</th>\n",
       "      <td>39.69</td>\n",
       "      <td>65910.2929</td>\n",
       "    </tr>\n",
       "    <tr>\n",
       "      <th>8</th>\n",
       "      <td>46.24</td>\n",
       "      <td>89700.2500</td>\n",
       "    </tr>\n",
       "    <tr>\n",
       "      <th>9</th>\n",
       "      <td>50.41</td>\n",
       "      <td>106778.6329</td>\n",
       "    </tr>\n",
       "  </tbody>\n",
       "</table>\n",
       "</div>"
      ],
      "text/plain": [
       "       x            y\n",
       "0  16.00   10518.5536\n",
       "1  17.64   12809.7124\n",
       "2  20.25   16928.6121\n",
       "3  22.09   20178.2025\n",
       "4  26.01   28066.3009\n",
       "5  30.25   38079.6196\n",
       "6  34.81   50566.5169\n",
       "7  39.69   65910.2929\n",
       "8  46.24   89700.2500\n",
       "9  50.41  106778.6329"
      ]
     },
     "execution_count": 7,
     "metadata": {},
     "output_type": "execute_result"
    }
   ],
   "source": [
    "# Imprimimos el cuadrado\n",
    "datacuadrado"
   ]
  },
  {
   "cell_type": "code",
   "execution_count": 8,
   "metadata": {},
   "outputs": [],
   "source": [
    "# Asignamos la suma\n",
    "sumxx = datacuadrado.sum()['x']\n",
    "sumyy = datacuadrado.sum()['y']"
   ]
  },
  {
   "cell_type": "code",
   "execution_count": 9,
   "metadata": {},
   "outputs": [
    {
     "data": {
      "text/plain": [
       "0     410.240\n",
       "1     475.356\n",
       "2     585.495\n",
       "3     667.635\n",
       "4     854.403\n",
       "5    1073.270\n",
       "6    1326.733\n",
       "7    1617.399\n",
       "8    2036.600\n",
       "9    2320.067\n",
       "dtype: float64"
      ]
     },
     "execution_count": 9,
     "metadata": {},
     "output_type": "execute_result"
    }
   ],
   "source": [
    "# Calculamos el producto cruzado\n",
    "data['x'] * data['y']"
   ]
  },
  {
   "cell_type": "code",
   "execution_count": 10,
   "metadata": {},
   "outputs": [],
   "source": [
    "# Calculamos y asignamos el cuadrado\n",
    "sumxy = (data['x'] * data['y']).sum()"
   ]
  },
  {
   "cell_type": "code",
   "execution_count": 11,
   "metadata": {},
   "outputs": [
    {
     "name": "stdout",
     "output_type": "stream",
     "text": [
      "El coeficiente de la pendiente es 72.09240825473908 y el de la intersección es -194.1759286581384\n"
     ]
    }
   ],
   "source": [
    "# Con todos los valores, determinamos los coeficientes\n",
    "a1 = (n * sumxy - sumx * sumy) / (n * sumxx - sumx ** 2)\n",
    "a0 = (sumy / n) - a1 * (sumx / n)\n",
    "\n",
    "# Imprimimos los coeficientes\n",
    "print('El coeficiente de la pendiente es {} y el de la intersección es {}'.format(a1, a0))"
   ]
  },
  {
   "cell_type": "code",
   "execution_count": 12,
   "metadata": {},
   "outputs": [
    {
     "name": "stdout",
     "output_type": "stream",
     "text": [
      "0     94.193704\n",
      "1    108.612186\n",
      "2    130.239908\n",
      "3    144.658390\n",
      "4    173.495353\n",
      "5    202.332317\n",
      "6    231.169280\n",
      "7    260.006243\n",
      "8    296.052447\n",
      "9    317.680170\n",
      "Name: x, dtype: float64\n"
     ]
    }
   ],
   "source": [
    "# Ahora calculamos las estimaciones con el modelo\n",
    "estimados = a0 + a1 * data['x']\n",
    "\n",
    "# Imprimimos los estimados\n",
    "print(estimados)"
   ]
  },
  {
   "cell_type": "code",
   "execution_count": 13,
   "metadata": {},
   "outputs": [],
   "source": [
    "# Ahora calculamos los errores\n",
    "E = ((estimados - data['y']) ** 2).sum()"
   ]
  },
  {
   "cell_type": "code",
   "execution_count": 14,
   "metadata": {},
   "outputs": [
    {
     "name": "stdout",
     "output_type": "stream",
     "text": [
      "6.421843512488355\n"
     ]
    }
   ],
   "source": [
    "# Estandarizamos el error\n",
    "S = np.sqrt(E / (n - 2))\n",
    "\n",
    "# Imprimimos el valor del error estandarizado\n",
    "print(S)"
   ]
  },
  {
   "cell_type": "code",
   "execution_count": 15,
   "metadata": {},
   "outputs": [
    {
     "name": "stdout",
     "output_type": "stream",
     "text": [
      "El coeficiente de bondad es:  0.9941072950100157\n"
     ]
    }
   ],
   "source": [
    "# Calculamos el coeficiente de la bondad\n",
    "bondad = ((n * sumxy - sumx * sumy) / (np.sqrt(n * sumxx - sumx ** 2) * np.sqrt(n * sumyy - sumy ** 2))) ** 2\n",
    "\n",
    "# Imprimimos el coeficiente de bondad\n",
    "print('El coeficiente de bondad es: ', bondad)"
   ]
  },
  {
   "cell_type": "code",
   "execution_count": 16,
   "metadata": {},
   "outputs": [],
   "source": [
    "# Ahora sistematizaremos el procedo anterior\n",
    "def regresionlineal(data):\n",
    "    \n",
    "    # Calculamos el numero de datos\n",
    "    n = len(data)\n",
    "    \n",
    "    # Calculamos los coeficientes de las sumas necesarios\n",
    "    sumx = data.sum()['x']\n",
    "    sumy = data.sum()['y']\n",
    "    \n",
    "    # Asignamos la suma de los cuadrados\n",
    "    sumxx = datacuadrado.sum()['x']\n",
    "    sumyy = datacuadrado.sum()['y']\n",
    "    \n",
    "    # Asignamos la suma cruzada\n",
    "    sumxy = (data['x'] * data['y']).sum()\n",
    "    \n",
    "    # Calculamos los coeficientes\n",
    "    a1 = (n * sumxy - sumx * sumy) / (n * sumxx - sumx ** 2)\n",
    "    a0 = (sumy / n) - a1 * (sumx / n)\n",
    "    \n",
    "    # Imprimimos los coeficientes\n",
    "    print('El coeficiente de la pendiente es {} y el de la intersección es {}'.format(a1, a0))\n",
    "    \n",
    "    # Ahora calculamos las estimaciones con el modelo\n",
    "    estimados = a0 + a1 * data['x']\n",
    "    \n",
    "    # Ahora calculamos los errores\n",
    "    E = ((estimados - data['y']) ** 2).sum()\n",
    "    \n",
    "    # Estandarizamos el error\n",
    "    S = np.sqrt(E / (n - 2))\n",
    "    \n",
    "    # Imprimimos el valor del error estandarizado\n",
    "    print('El error estandarizado del modelo de regresion lineal es: ',S)\n",
    "    \n",
    "    # Calculamos el coeficiente de la bondad\n",
    "    bondad = ((n * sumxy - sumx * sumy) / (np.sqrt(n * sumxx - sumx ** 2) * np.sqrt(n * sumyy - sumy ** 2))) ** 2\n",
    "\n",
    "    # Imprimimos el coeficiente de bondad\n",
    "    print('El coeficiente de bondad es: ', bondad)\n",
    "    \n",
    "    return a0, a1, S, bondad"
   ]
  },
  {
   "cell_type": "code",
   "execution_count": 17,
   "metadata": {},
   "outputs": [
    {
     "name": "stdout",
     "output_type": "stream",
     "text": [
      "El coeficiente de la pendiente es 72.09240825473908 y el de la intersección es -194.1759286581384\n",
      "El error estandarizado del modelo de regresion lineal es:  6.421843512488355\n",
      "El coeficiente de bondad es:  0.9941072950100157\n"
     ]
    }
   ],
   "source": [
    "# Llamamos los datos\n",
    "a0, a1, S, bondad = regresionlineal(data)"
   ]
  },
  {
   "cell_type": "code",
   "execution_count": 18,
   "metadata": {},
   "outputs": [],
   "source": [
    "# Ahora analizaremos como se efectua de forma directa con el código de python\n",
    "\n",
    "# Importamos la libreria de modelos estadisticos\n",
    "import statsmodels.api as sm"
   ]
  },
  {
   "cell_type": "code",
   "execution_count": 19,
   "metadata": {},
   "outputs": [
    {
     "name": "stdout",
     "output_type": "stream",
     "text": [
      "                            OLS Regression Results                            \n",
      "==============================================================================\n",
      "Dep. Variable:                      y   R-squared:                       0.994\n",
      "Model:                            OLS   Adj. R-squared:                  0.993\n",
      "Method:                 Least Squares   F-statistic:                     1350.\n",
      "Date:                Wed, 15 Dec 2021   Prob (F-statistic):           3.30e-10\n",
      "Time:                        14:52:33   Log-Likelihood:                -31.671\n",
      "No. Observations:                  10   AIC:                             67.34\n",
      "Df Residuals:                       8   BIC:                             67.95\n",
      "Df Model:                           1                                         \n",
      "Covariance Type:            nonrobust                                         \n",
      "==============================================================================\n",
      "                 coef    std err          t      P>|t|      [0.025      0.975]\n",
      "------------------------------------------------------------------------------\n",
      "const       -194.1759     10.809    -17.964      0.000    -219.102    -169.250\n",
      "x             72.0924      1.962     36.737      0.000      67.567      76.618\n",
      "==============================================================================\n",
      "Omnibus:                        1.929   Durbin-Watson:                   0.432\n",
      "Prob(Omnibus):                  0.381   Jarque-Bera (JB):                0.916\n",
      "Skew:                           0.309   Prob(JB):                        0.632\n",
      "Kurtosis:                       1.652   Cond. No.                         30.3\n",
      "==============================================================================\n",
      "\n",
      "Notes:\n",
      "[1] Standard Errors assume that the covariance matrix of the errors is correctly specified.\n"
     ]
    }
   ],
   "source": [
    "# Asignamos las variables\n",
    "x = data[['x']]\n",
    "y = data['y']\n",
    "\n",
    "# Variable para predecir\n",
    "x1 = data[['x']]\n",
    "\n",
    "# Agregamos una constante al conjunto x\n",
    "x = sm.add_constant(x, prepend = True)\n",
    "\n",
    "# Ajustamos el modelo\n",
    "modelo = sm.OLS(y,x)\n",
    "\n",
    "# Ajustamos el modelo\n",
    "modelo = modelo.fit()\n",
    "\n",
    "# Imprimimos el resumen del modelo\n",
    "print(modelo.summary())"
   ]
  },
  {
   "cell_type": "code",
   "execution_count": 20,
   "metadata": {},
   "outputs": [
    {
     "name": "stdout",
     "output_type": "stream",
     "text": [
      "Coeficiente de intersección:  -194.17592865813765\n",
      "Coeficiente de la pendiente:  72.09240825473894\n"
     ]
    }
   ],
   "source": [
    "# Imprimimos los coeficientes del modelo\n",
    "print(\"Coeficiente de intersección: \", modelo.params[0]) # Pendiente \n",
    "print(\"Coeficiente de la pendiente: \", modelo.params[1]) # coeficiente de la intersección "
   ]
  },
  {
   "cell_type": "code",
   "execution_count": 21,
   "metadata": {},
   "outputs": [
    {
     "data": {
      "image/png": "[encoded data removed]",
      "text/plain": [
       "<Figure size 864x492.48 with 1 Axes>"
      ]
     },
     "metadata": {
      "needs_background": "light"
     },
     "output_type": "display_data"
    }
   ],
   "source": [
    " # Predicciones con intervalo de confianza del 85%\n",
    "# ============================================================================== \n",
    "predicciones = modelo.get_prediction(x).summary_frame(alpha=0.15)\n",
    "predicciones['x'] = x1\n",
    "predicciones['y'] = y\n",
    "predicciones = predicciones.sort_values('x')\n",
    "# Gráfico del modelo\n",
    "# ============================================================================== \n",
    "fig, ax = plt.subplots(figsize = (12, 6.84))\n",
    "ax.scatter(predicciones['x'], predicciones['y'], marker='o', color = \"gray\")\n",
    "ax.plot(predicciones['x'], predicciones[\"mean\"], linestyle='-', label=\"OLS\")\n",
    "# ax.plot(predicciones['x'], predicciones[\"mean_ci_lower\"], linestyle='--', color='red', label=\"85% CI\")\n",
    "# ax.plot(predicciones['x'], predicciones[\"mean_ci_upper\"], linestyle='--', color='red')\n",
    "#ax.fill_between(predicciones['x'], predicciones[\"mean_ci_lower\"], predicciones[\"mean_ci_upper\"], alpha=0.1)\n",
    "ax.legend();"
   ]
  },
  {
   "cell_type": "code",
   "execution_count": null,
   "metadata": {},
   "outputs": [],
   "source": []
  }
 ],
 "metadata": {
  "kernelspec": {
   "display_name": "Python 3",
   "language": "python",
   "name": "python3"
  },
  "language_info": {
   "codemirror_mode": {
    "name": "ipython",
    "version": 3
   },
   "file_extension": ".py",
   "mimetype": "text/x-python",
   "name": "python",
   "nbconvert_exporter": "python",
   "pygments_lexer": "ipython3",
   "version": "3.8.8"
  }
 },
 "nbformat": 4,
 "nbformat_minor": 4
}
