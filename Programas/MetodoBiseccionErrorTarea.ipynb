{
 "cells": [
  {
   "cell_type": "markdown",
   "metadata": {},
   "source": [
    "# Tarea2 de la sesión 5 de la clase de Métodos Numéricos\n",
    "\n",
    "## Método de bisección: Tarea\n",
    "\n",
    "### Nombre: De Luna Ocampo Yanina\n",
    "### Fecha de clase: 31/08/2021\n",
    "\n",
    "### Descripción: Determine una raíz de la ecuación f(x) = 0\n",
    "\n",
    "\n",
    "En este cuaderno de trabajo implementaremos y analizaremos el método de bisección aplicada en ecuaciones algebráicas de una variable, lo anterior considerará que ya contamos con un primer intervalo de búsqueda.\n",
    "\n",
    "Recordando un poco sobre el método de bisección, para lo que consideraremos que contamos con una función $f$ y un intervalo de búsqueda $[a,b]$ este consiste en aplicar los siguientes pasos:\n",
    "\n",
    "- Validamos que el producto de los extremos del intervalo sea negativo $f(a) f(b) < 0$.\n",
    "\n",
    "\n",
    "- Calculamos punto medio del intervalo y designamos a $c$.\n",
    "\n",
    "\n",
    "- Validamos que el producto del punto medio y el extremo izquierdo sea negativo $f(a) f(c) < 0$.\n",
    "\n",
    "\n",
    "- Si es cierto definimos $b =  c$, en caso contrario definimos $a = c$ y regresamos al paso 5."
   ]
  },
  {
   "cell_type": "code",
   "execution_count": 1,
   "metadata": {},
   "outputs": [],
   "source": [
    "# Importaremos las funciones a emplear necesarias para definir la ecuación algebraíca\n",
    "import math\n",
    "from numpy import exp\n",
    "\n",
    "# Condiciones de conlusion del método\n",
    "tol = 1.*(10**(-10)) # Obtener un error relativo de 10^(-10)\n",
    "maxItera = 100 # Realizar máximo 100 iteraciones"
   ]
  },
  {
   "cell_type": "code",
   "execution_count": 6,
   "metadata": {},
   "outputs": [],
   "source": [
    "# Definimos la funcion objetivo\n",
    "def fx(x):\n",
    "    fx = x**(2)-(math.sin(x))\n",
    "    return fx"
   ]
  },
  {
   "cell_type": "code",
   "execution_count": 7,
   "metadata": {},
   "outputs": [],
   "source": [
    "# Definimos el intervalo de busqueda inicial y validamos que funcione para el método\n",
    "a = 0 # Extremo izquierdo\n",
    "b = math.pi # Extremo derecho\n",
    "k = 0 # Inicilizamos las iteraciones\n",
    "error = 10000 # Inicializamos el valor del error en un número muy grande"
   ]
  },
  {
   "cell_type": "code",
   "execution_count": 8,
   "metadata": {},
   "outputs": [],
   "source": [
    "# Definimos el método iterativo\n",
    "def itebiseccion(a,b,fx):\n",
    "    \n",
    "    # Calculamos el punto medio\n",
    "    pmedio = a + 0.5*(b-a)\n",
    "    \n",
    "    # Validamos que intervalo podemos emplear\n",
    "    if fx(a)*fx(pmedio)<0:\n",
    "        # Mandamos una bandera que aún no se ha encontrada la raíz y redefinimos b = punto medio\n",
    "        return 1, a, pmedio, pmedio\n",
    "    \n",
    "    elif fx(pmedio)*fx(b)<0:\n",
    "        # Mandamos una bandera que aún no se ha encontrada la raíz y redefinimos a = punto medio\n",
    "        return 1, pmedio, b, pmedio\n",
    "    \n",
    "    else:\n",
    "        # Mandamos una bandera que se ha encontrada la raíz y regresamos la raíz\n",
    "        return 0, pmedio"
   ]
  },
  {
   "cell_type": "code",
   "execution_count": 9,
   "metadata": {},
   "outputs": [
    {
     "name": "stdout",
     "output_type": "stream",
     "text": [
      "La raíz de la ecuación se encuentra en el punto:  0\n"
     ]
    }
   ],
   "source": [
    "# Empezamos el método de bisección verificando las diferentes condiciones sobre el intervalo para lo que se\n",
    "# validan las posibilidades de la existencia de la raíz en el intervalo dado\n",
    "\n",
    "# En este caso no existe una raíz en el intervalo\n",
    "if fx(a)*fx(b)>0:\n",
    "    # Se describe que no existe una raíz en el intervalo dado\n",
    "    print('No existen raices de la funcion objetivo en el intervalo dado \\n')\n",
    "\n",
    "# En este caso se ha encontrado la raíz y esta puede estar en a o en b.\n",
    "elif fx(a)*fx(b)==0:\n",
    "    \n",
    "    # La raíz se encuentra en el punto a\n",
    "    if fx(a)==0:\n",
    "        # Se describe que la raíz se encuentra en el punto a\n",
    "        print('La raíz de la ecuación se encuentra en el punto: ', a)\n",
    "        \n",
    "    # Dado que la raíz no es a, entonces es b.\n",
    "    else:\n",
    "        # Se describe que la raíz se encuentra en el punto b\n",
    "        print('La raíz de la ecuación se encuentra en el punto: ', b)\n",
    "\n",
    "# Dado que existe una raíz en el intervalo comenzaremos el proceso iterativo\n",
    "else:\n",
    "    \n",
    "    # Señalamos que iniciamos el proceso iterativo\n",
    "    print('Iniciamos el proceso iterativo')\n",
    "    \n",
    "    # Iniciamos el proceso iterativo\n",
    "    while (error > tol and k < maxItera):\n",
    "        \n",
    "        # Iteramos hasta satisfacer las condiciones o encontrar una raiz\n",
    "        itera = itebiseccion(a,b,fx)\n",
    "        \n",
    "        # Validamos los casos obtenidos de la bandera, si esta es 0, se ha determinado la raíz\n",
    "        if itera[0] == 0:\n",
    "            # Describimos que hemos determinado la raíz y la imprimimos\n",
    "            print('La raíz de la ecuación se encuentra en el punto: ', itera[1])\n",
    "            \n",
    "        # Validamos los casos obtenidos de la bandera, si esta es 1, no se ha determinado la raíz\n",
    "        else:\n",
    "            # Incrementamos en 1 las iteraciones realizadas\n",
    "            k = k + 1\n",
    "            \n",
    "            # Imprimimos los resultados obtenidos de la iteracion\n",
    "            print('Resultados de la iteracion: ', k)\n",
    "            print('La aproximación de la raíz se encuentra dada por: ', itera[3])\n",
    "            print('El valor de la función bajo la aproximación es: ', fx(itera[3]))\n",
    "            print('El intervalor de búsqueda se ha reducido al [', itera[1], ' , ', itera[2], ' ]')\n",
    "            print('El tamaño del intervalo donde se encuentra la raiz es ', itera[2]-itera[1], '\\n')\n",
    "            \n",
    "            # Actualizamos las variables\n",
    "            a = itera[1]\n",
    "            b = itera[2]\n",
    "            error = b - a"
   ]
  },
  {
   "cell_type": "code",
   "execution_count": null,
   "metadata": {},
   "outputs": [],
   "source": [
    "#Pusimos nuestra función junto con sus intervalos, nos da 35 iteraciones.\n",
    "\n",
    "#Si nosotros usamos la fórmula vista en clase de:\n",
    "#    log(b-a)-log(e)\n",
    "#   ----------------- <= n\n",
    "#        log(2)\n",
    "\n",
    "#Sustituimos:\n",
    "#    log(2-0)-log(1x10^-10)\n",
    "#   ------------------------ <= n\n",
    "#            log(2)\n",
    "\n",
    "#Obtenemos como resultado: 34.21928095\n",
    "#Quiere decir que debemos realizar al menos 35 iteraciones para garantizar lo anterior. Vemos que es correcto lo que obtuvimos."
   ]
  }
 ],
 "metadata": {
  "kernelspec": {
   "display_name": "Python 3",
   "language": "python",
   "name": "python3"
  },
  "language_info": {
   "codemirror_mode": {
    "name": "ipython",
    "version": 3
   },
   "file_extension": ".py",
   "mimetype": "text/x-python",
   "name": "python",
   "nbconvert_exporter": "python",
   "pygments_lexer": "ipython3",
   "version": "3.8.8"
  }
 },
 "nbformat": 4,
 "nbformat_minor": 4
}
