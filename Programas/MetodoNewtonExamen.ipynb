{
 "cells": [
  {
   "cell_type": "markdown",
   "metadata": {},
   "source": [
    "# Tarea4.1 de la sesión 5 de la clase de Métodos Numéricos\n",
    "\n",
    "## Método de Newton: Tarea\n",
    "\n",
    "### Nombre: De Luna Ocampo Yanina\n",
    "### Fecha de clase: 07/09/2021\n",
    "\n",
    "### Descripción: Considere la ecuación algebráica f(x)=0, aplique el método de Newton para obtener una aproximación para la cual se satisfaga el siguiente error.\n",
    "\n",
    "## Condiciones\n",
    "\n",
    "Para asegurar el buen funcionamiento del método debemos asegurar que nos encontramos cerca de la raíz a fin de que la convergencia se presente de forma adecuada.\n",
    "\n",
    "## Proceso iterativo\n",
    "\n",
    "El proceso iterativo se realiza al selecccionar una primer aproximación de la raíz y posteriormente, las siguientes aproximaciones se determinan por medio de la sucesión generada por:\n",
    "\n",
    "$$p_n=p_{n-1}-\\frac{f\\left(p_{n-1}\\right)}{f'\\left(p_{n-1}\\right)}$$\n",
    "\n",
    "## Condición de paro\n",
    "\n",
    "Al igual que en los métodos anteriores podemos imponer una condición de paro en función de las aproximaciones sucesivas en términos del error absoluto y del valor de la función, es decir:\n",
    "\n",
    "$$\\left | f\\left(x_n\\right)\\right | + \\left | x_n-x_{n-1} \\right | \\leq \\varepsilon$$\n",
    "\n",
    "Esto únicamente lo aplicamos para este método debido a su velocidad de convergencia."
   ]
  },
  {
   "cell_type": "code",
   "execution_count": 1,
   "metadata": {},
   "outputs": [],
   "source": [
    "# Importamos las funciones necesarias que empleara la función objetivo\n",
    "from numpy import cos, sin, exp, log\n",
    "# Procedemos a definir e inicializar las condiciones de paro del método\n",
    "tol = 1.*(10**(-15)) # Obtener un error relativo de 10^(-10)\n",
    "maxItera = 100 # Realizar máximo 100 iteraciones"
   ]
  },
  {
   "cell_type": "code",
   "execution_count": 2,
   "metadata": {},
   "outputs": [],
   "source": [
    "# Definimos la funcion objetivo\n",
    "e=2.71828182846\n",
    "\n",
    "def fx(x):\n",
    "    fx = x**(2) - (2)*cos(x) + 1\n",
    "    return fx\n",
    "\n",
    "# Definimos la derivada de la funcion objetivo\n",
    "def fxp(x):\n",
    "    fxp = (2*x) + (2)*sin(x)\n",
    "    return fxp"
   ]
  },
  {
   "cell_type": "code",
   "execution_count": 6,
   "metadata": {},
   "outputs": [],
   "source": [
    "# Definimos el punto inicial donde comenzaremos por aplicar el método así como el indice de conteo de las\n",
    "# iteraciones y un error grande a fin de inicializar el método\n",
    "p0 = 1 # aproximación inicial\n",
    "k = 0 # Inicilizamos las iteraciones\n",
    "error = 10000 # Inicializamos el valor del error en un número muy grande\n",
    "pAnterior = p0 # Inicializamos la primer aproximación como b"
   ]
  },
  {
   "cell_type": "code",
   "execution_count": 7,
   "metadata": {},
   "outputs": [],
   "source": [
    "# Definimos una funcion que defina el método iterativo del punto fijo\n",
    "def itenewton(a, fx, fxp):\n",
    "    # Evaluamos para validar si ya tenemos la raíz\n",
    "    evalua = fx(a)\n",
    "    # Validamos si llegamos a las raíz\n",
    "    if evalua==0:\n",
    "        return 0, a\n",
    "    \n",
    "    else:\n",
    "        return 1, a - (fx(a) / fxp(a))"
   ]
  },
  {
   "cell_type": "code",
   "execution_count": 8,
   "metadata": {},
   "outputs": [
    {
     "name": "stdout",
     "output_type": "stream",
     "text": [
      "Iniciamos el proceso iterativo\n",
      "Resultados de la iteracion 1.\n",
      "La aproximación del punto fijo se encuentra dada por 0.7503638678402439.\n",
      "El valor de la función bajo la aproximación es 0.10016434612391811.\n",
      "El error relativo se encuentra dado por 1.1690315204234767.\n",
      "\n",
      "Resultados de la iteracion 2.\n",
      "La aproximación del punto fijo se encuentra dada por 0.7153968474490409.\n",
      "El valor de la función bajo la aproximación es 0.0021266460200337622.\n",
      "El error relativo se encuentra dado por 0.13513136651512114.\n",
      "\n",
      "Resultados de la iteracion 3.\n",
      "La aproximación del punto fijo se encuentra dada por 0.714621442901773.\n",
      "El valor de la función bajo la aproximación es 1.055199133515039e-06.\n",
      "El error relativo se encuentra dado por 0.0029020505673016395.\n",
      "\n",
      "Resultados de la iteracion 4.\n",
      "La aproximación del punto fijo se encuentra dada por 0.7146210577793786.\n",
      "El valor de la función bajo la aproximación es 2.603472992745992e-13.\n",
      "El error relativo se encuentra dado por 1.440321527934607e-06.\n",
      "\n",
      "Resultados de la iteracion 5.\n",
      "La aproximación del punto fijo se encuentra dada por 0.7146210577792835.\n",
      "El valor de la función bajo la aproximación es 0.0.\n",
      "El error relativo se encuentra dado por 3.553823901825126e-13.\n",
      "\n",
      "El punto fijo de la función se encuentra en el punto: 0.7146210577792835.\n"
     ]
    }
   ],
   "source": [
    "# Empezamos el método de newton con los datos dados\n",
    "\n",
    "# En este caso ya tenemos la raíz deseada\n",
    "if fx(p0) == 0:\n",
    "    # Se describe que existe una raíz en el punto dado previamente\n",
    "    print('Se ha encontrado el punto fijo, el cual está dado por el punto {0}.'.format(p0))\n",
    "    \n",
    "# Dado que no tenemos la raíz aún procedemos a realizar iteraciones\n",
    "else:\n",
    "    # Señalamos que iniciamos el proceso iterativo\n",
    "    print('Iniciamos el proceso iterativo')\n",
    "    \n",
    "    # Iniciamos el proceso iterativo\n",
    "    while (error > tol and k < maxItera):\n",
    "        \n",
    "        # Iteramos el proceso\n",
    "        itera = itenewton(p0, fx, fxp)\n",
    "        \n",
    "        # Validamos los casos obtenidos de la bandera, si esta es 0, se ha determinado la raíz\n",
    "        if itera[0] == 0:\n",
    "            # Describimos que hemos determinado el punto fijo y lo imprimimos\n",
    "            print('El punto fijo de la función se encuentra en el punto: {0}.'.format(itera[1]))\n",
    "            k = maxItera\n",
    "            \n",
    "        # Validamos los casos obtenidos de la bandera, si esta es 1, no se ha determinado el punto fijo\n",
    "        else:\n",
    "            # Incrementamos en 1 las iteraciones realizadas\n",
    "            k = k + 1\n",
    "            \n",
    "            # Imprimimos los resultados obtenidos de la iteracion\n",
    "            print('Resultados de la iteracion {0}.'.format(k))\n",
    "            print('La aproximación del punto fijo se encuentra dada por {0}.'.format(itera[1]))\n",
    "            print('El valor de la función bajo la aproximación es {0}.'.format(fx(itera[1])))\n",
    "            \n",
    "            # Actualizamos las variables\n",
    "            error = abs(p0 - itera[1]) + abs(fx(p0)) # Error de aproximaciones\n",
    "            p0 = itera[1]\n",
    "            \n",
    "            # Imprimimos el error\n",
    "            print('El error relativo se encuentra dado por {0}.\\n'.format(error))"
   ]
  },
  {
   "cell_type": "code",
   "execution_count": null,
   "metadata": {},
   "outputs": [],
   "source": []
  }
 ],
 "metadata": {
  "kernelspec": {
   "display_name": "Python 3",
   "language": "python",
   "name": "python3"
  },
  "language_info": {
   "codemirror_mode": {
    "name": "ipython",
    "version": 3
   },
   "file_extension": ".py",
   "mimetype": "text/x-python",
   "name": "python",
   "nbconvert_exporter": "python",
   "pygments_lexer": "ipython3",
   "version": "3.8.8"
  }
 },
 "nbformat": 4,
 "nbformat_minor": 4
}
