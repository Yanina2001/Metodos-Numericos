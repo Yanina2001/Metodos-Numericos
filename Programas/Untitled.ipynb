{
 "cells": [
  {
   "cell_type": "code",
   "execution_count": null,
   "id": "744b7c40",
   "metadata": {},
   "outputs": [],
   "source": [
    "# EJERCICIO2\n",
    "\n",
    "#Definimos los metodos a utilizar\n",
    "from numpy import log, cos, sin, tan, pi, exp\n",
    "import numpy as np\n",
    "\n",
    "# Ahora con esta función definimos los parámetros de la aproximación:\n",
    "a = 1 # Extremo izquierdo donde se aproximará la integral\n",
    "b = 11 # Extremo derecho donde se aproximará la integral\n",
    "n = 10 # Numero de subdivisiones\n",
    "\n",
    "# Definimos ahora la función sobre la que trabajaremos\n",
    "def fx(x):\n",
    "    fx = x**2 * log(x)\n",
    "    return fx\n",
    "\n",
    "# Definimos la regla del trapecio compuesto\n",
    "def trapecioC(fx, a, b, n):\n",
    "\n",
    "    # Calculamos h\n",
    "    h = (b - a) / n\n",
    "\n",
    "    # Creamos el arreglo de puntos y lo evaluamos\n",
    "    eval = fx(np.arange(a, b+h, h))\n",
    "\n",
    "    # Aplicamos la cuadratura\n",
    "    trapecioC = (h / 2) * (eval[0] + 2 * eval[1:n].sum() + eval[n])\n",
    "\n",
    "    return trapecioC\n",
    "\n",
    "# Definimos la regla del trapecio compuesto\n",
    "def simpsonC(fx, a, b, n):\n",
    "\n",
    "    # Calculamos h\n",
    "    h = (b - a) / n\n",
    "\n",
    "    # Creamos el arreglo de puntos y lo evaluamos\n",
    "    eval = fx(np.arange(a, b+h, h))\n",
    "\n",
    "    # Aplicamos la cuadratura\n",
    "    simpsonC = (h / 3) * (eval[0] + 2 * eval[::2][1:int((n/2))].sum() + 4 * eval[1::2].sum() + eval[n])\n",
    "\n",
    "    return simpsonC\n",
    "\n",
    "# Calculamos el tamaño de h\n",
    "h = (b - a) / n"
   ]
  }
 ],
 "metadata": {
  "kernelspec": {
   "display_name": "Python 3",
   "language": "python",
   "name": "python3"
  },
  "language_info": {
   "codemirror_mode": {
    "name": "ipython",
    "version": 3
   },
   "file_extension": ".py",
   "mimetype": "text/x-python",
   "name": "python",
   "nbconvert_exporter": "python",
   "pygments_lexer": "ipython3",
   "version": "3.8.8"
  }
 },
 "nbformat": 4,
 "nbformat_minor": 5
}
