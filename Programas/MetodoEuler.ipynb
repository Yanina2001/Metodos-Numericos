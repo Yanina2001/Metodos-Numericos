{
 "cells": [
  {
   "cell_type": "markdown",
   "metadata": {},
   "source": [
    "# Método de Euler\n",
    "\n",
    "Consideraremos el problema de valores iniciales siguiente:\n",
    "\n",
    "\\begin{equation}\n",
    "\t\\frac{dy}{dt} = f(t,y),\\;\\;\\; a\\leq t \\leq b,\\;\\;\\; y(a) = \\alpha.\n",
    "\\end{equation}\n",
    "\n",
    "En primer lugar entonces obtendremos los puntos de la red en las cuales generaremos las aproximaciones, supondremos que dichos puntos son uniformes es decir, se encuentran dados por:\n",
    "\n",
    "\n",
    "\\begin{equation*}\n",
    "\tt_i = a + ih\\;\\;\\;\\; i = 0,1,2,\\dots, n,\n",
    "\\end{equation*}\n",
    "\n",
    "\n",
    "donde $h$ es la distancia común entre los puntos, la cual se encuentra dada por $h = \\frac{b-a}{n}$, el cual recibe el nombre de **tamaño de paso**.\n",
    "\n",
    "\n",
    "Por lo que, entonces considerando que partimos de una aproximación inical obtenemos:\n",
    "\n",
    "\n",
    "\\begin{equation*}\n",
    "\t\\begin{split}\n",
    "\t\tw_0 & = \\alpha \\\\\n",
    "\t\tw_{i+1} & = w_i + h f(t_i,w_i), \\\\\n",
    "\t\\end{split}\n",
    "\\end{equation*}\n",
    "\n",
    "donde se ha empleado a $w_i \\approx = y(t_i)$."
   ]
  },
  {
   "cell_type": "code",
   "execution_count": 16,
   "metadata": {},
   "outputs": [],
   "source": [
    "# Importamos las librerias y funciones necesarias para replicar el método\n",
    "import numpy as np\n",
    "from numpy import exp, log\n",
    "e = 2.71828182846"
   ]
  },
  {
   "cell_type": "code",
   "execution_count": 17,
   "metadata": {},
   "outputs": [],
   "source": [
    "# Determinamos los parámetros donde trabajaremos\n",
    "a = 0 # Punto inicial\n",
    "b = 1 # Punto final\n",
    "ci = 1 # Condicion inicial\n",
    "n = 20 # Número de pasos"
   ]
  },
  {
   "cell_type": "code",
   "execution_count": 18,
   "metadata": {},
   "outputs": [],
   "source": [
    "# Definimos la función f(t,y)\n",
    "def fty(t,y):\n",
    "    fty = e**(t - y)\n",
    "    return fty"
   ]
  },
  {
   "cell_type": "code",
   "execution_count": 19,
   "metadata": {},
   "outputs": [
    {
     "data": {
      "text/plain": [
       "0.05"
      ]
     },
     "execution_count": 19,
     "metadata": {},
     "output_type": "execute_result"
    }
   ],
   "source": [
    "# Determinamos el tamaño de salto\n",
    "h = (b - a) / n\n",
    "h"
   ]
  },
  {
   "cell_type": "code",
   "execution_count": 20,
   "metadata": {},
   "outputs": [
    {
     "name": "stdout",
     "output_type": "stream",
     "text": [
      "[0.   0.05 0.1  0.15 0.2  0.25 0.3  0.35 0.4  0.45 0.5  0.55 0.6  0.65\n",
      " 0.7  0.75 0.8  0.85 0.9  0.95 1.  ]\n"
     ]
    }
   ],
   "source": [
    "# Generamos el arreglo de puntos y de aproximaciones donde trabajaremos\n",
    "euler = np.empty((2,n+1))\n",
    "\n",
    "# La primer dimensión tendra los puntos donde trabajaremos, es decir, los puntos de la malla\n",
    "euler[0,:] = np.arange(a,b + h, h)\n",
    "\n",
    "# Imprimimos la primer dimensión a fin de validar los resultados:\n",
    "print(euler[0,:])"
   ]
  },
  {
   "cell_type": "code",
   "execution_count": 21,
   "metadata": {},
   "outputs": [
    {
     "name": "stdout",
     "output_type": "stream",
     "text": [
      "La aproximaci\n",
      "La aproximaci\n",
      "La aproximaci\n",
      "La aproximaci\n",
      "La aproximaci\n",
      "La aproximaci\n",
      "La aproximaci\n",
      "La aproximaci\n",
      "La aproximaci\n",
      "La aproximaci\n",
      "La aproximaci\n",
      "La aproximaci\n",
      "La aproximaci\n",
      "La aproximaci\n",
      "La aproximaci\n",
      "La aproximaci\n",
      "La aproximaci\n",
      "La aproximaci\n",
      "La aproximaci\n",
      "La aproximaci\n",
      "La aproximaci\n"
     ]
    }
   ],
   "source": [
    "# Comenzamos a determinar las aproximaciones\n",
    "\n",
    "# Asignamos la primer aproximación, la cual corresponde a la condicion inicial\n",
    "euler[1,0] = ci\n",
    "\n",
    "# Comenzamos el proceso iterativo\n",
    "for i in range(1,n+1):\n",
    "    euler[1,i] = euler[1,i-1] + h * fty(euler[0,i-1],euler[1,i-1])\n",
    "    \n",
    "# Imprimimos los resultados obtenidos\n",
    "for i in range(n+1):\n",
    "    print('La aproximaci')"
   ]
  },
  {
   "cell_type": "code",
   "execution_count": 22,
   "metadata": {},
   "outputs": [],
   "source": [
    "# Determinamos los valores exactos y los error de aproximacion\n",
    "# Primero definimos la solución real\n",
    "def ftyR(t):\n",
    "    ftyR = log(e**(t) + e - 1)\n",
    "    return ftyR"
   ]
  },
  {
   "cell_type": "code",
   "execution_count": 23,
   "metadata": {},
   "outputs": [],
   "source": [
    "# Creamos el arreglo donde trabajaremos\n",
    "resumen = np.empty((4,n+1))\n",
    "\n",
    "# Asignamos los puntos donde trabajamos y los valores aproximados\n",
    "resumen[0:2,:] = euler.copy()\n",
    "\n",
    "# Asignamos los valores reales\n",
    "resumen[2,:] = ftyR(euler[0,:])\n",
    "\n",
    "# Determinamos el error de aproximación\n",
    "resumen[3,:] = abs(resumen[2,:].copy() - resumen[1,:].copy())"
   ]
  },
  {
   "cell_type": "code",
   "execution_count": 24,
   "metadata": {},
   "outputs": [
    {
     "name": "stdout",
     "output_type": "stream",
     "text": [
      "El valor aproximado de la función en el punto 0.0 es 1.0 el cual tiene un error de 0.0\n",
      "El valor aproximado de la función en el punto 0.05 es 1.01839397 el cual tiene un error de 0.00029194\n",
      "El valor aproximado de la función en el punto 0.1 es 1.03737859 el cual tiene un error de 0.00058192\n",
      "El valor aproximado de la función en el punto 0.15 es 1.05696125 el cual tiene un error de 0.00086935\n",
      "El valor aproximado de la función en el punto 0.2 es 1.07714871 el cual tiene un error de 0.00115358\n",
      "El valor aproximado de la función en el punto 0.25 es 1.09794707 el cual tiene un error de 0.001434\n",
      "El valor aproximado de la función en el punto 0.3 es 1.11936174 el cual tiene un error de 0.00170998\n",
      "El valor aproximado de la función en el punto 0.35 es 1.14139738 el cual tiene un error de 0.00198091\n",
      "El valor aproximado de la función en el punto 0.4 es 1.16405793 el cual tiene un error de 0.00224619\n",
      "El valor aproximado de la función en el punto 0.45 es 1.18734656 el cual tiene un error de 0.00250522\n",
      "El valor aproximado de la función en el punto 0.5 es 1.21126564 el cual tiene un error de 0.00275742\n",
      "El valor aproximado de la función en el punto 0.55 es 1.23581676 el cual tiene un error de 0.00300226\n",
      "El valor aproximado de la función en el punto 0.6 es 1.26100069 el cual tiene un error de 0.0032392\n",
      "El valor aproximado de la función en el punto 0.65 es 1.28681741 el cual tiene un error de 0.00346776\n",
      "El valor aproximado de la función en el punto 0.7 es 1.31326607 el cual tiene un error de 0.00368747\n",
      "El valor aproximado de la función en el punto 0.75 es 1.34034503 el cual tiene un error de 0.0038979\n",
      "El valor aproximado de la función en el punto 0.8 es 1.36805183 el cual tiene un error de 0.00409866\n",
      "El valor aproximado de la función en el punto 0.85 es 1.39638324 el cual tiene un error de 0.00428942\n",
      "El valor aproximado de la función en el punto 0.9 es 1.42533526 el cual tiene un error de 0.00446987\n",
      "El valor aproximado de la función en el punto 0.95 es 1.45490311 el cual tiene un error de 0.00463973\n",
      "El valor aproximado de la función en el punto 1.0 es 1.48508131 el cual tiene un error de 0.00479881\n"
     ]
    }
   ],
   "source": [
    "# Imprimimos los resultados\n",
    "for i in range(n+1):\n",
    "    print('El valor aproximado de la función en el punto {0} es {1} el cual tiene un error de {2}'.format(\n",
    "        round(resumen[0,i],8), round(resumen[1,i],8), round(resumen[3,i],8)))"
   ]
  },
  {
   "cell_type": "code",
   "execution_count": null,
   "metadata": {},
   "outputs": [],
   "source": []
  },
  {
   "cell_type": "code",
   "execution_count": null,
   "metadata": {},
   "outputs": [],
   "source": []
  }
 ],
 "metadata": {
  "kernelspec": {
   "display_name": "Python 3",
   "language": "python",
   "name": "python3"
  },
  "language_info": {
   "codemirror_mode": {
    "name": "ipython",
    "version": 3
   },
   "file_extension": ".py",
   "mimetype": "text/x-python",
   "name": "python",
   "nbconvert_exporter": "python",
   "pygments_lexer": "ipython3",
   "version": "3.8.8"
  }
 },
 "nbformat": 4,
 "nbformat_minor": 4
}
