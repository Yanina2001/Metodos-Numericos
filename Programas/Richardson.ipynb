{
 "cells": [
  {
   "cell_type": "markdown",
   "metadata": {},
   "source": [
    "# Extrapolación de Richardson\n",
    "\n",
    "\n",
    "Este método de extrapolación es usado para aquellas aproximaciones de orden $O(h^2)$ y a partir de estas se procede a determinar aproximaciones con un error mucho menor, es decir, de orden superior.\n",
    "\n",
    "Lo anterior, sin incrementar el número de puntos a emplear a fin de no incrementar la complejidad de los cálculos del método.\n",
    "\n",
    "Entonces dicho lo anterior, las aproximaciones deben tener la forma:\n",
    "\n",
    "$$M = N_1(h) + h^2 K_1 + h^4 K_2 + h^6 K_3 + \\cdots,$$\n",
    "\n",
    "A partir de estas apromaximaciones sólo variaremos el tamaño de paso $h$ y con esto mejorar el tamaño del error, empleando una tabla de aproximaciones de la forma siguiente:\n",
    "\n",
    "$$\\begin{array}{|cccc|}\\hline\n",
    "\t\t\t\tO(h^2) & O(h^4) & O(h^6) & O(h^8) \\\\\\hline\n",
    "\t\t\t\tN_1(h) & \\; & \\; & \\;\\\\\n",
    "\t\t\t\tN_1\\left(\\frac{h}{2}\\right) & N_2\\left(h\\right) & \\; & \\; \\\\\n",
    "\t\t\t\tN_1\\left(\\frac{h}{4}\\right) & N_2\\left(\\frac{h}{2}\\right) & N_3\\left(h\\right) & \\; \\\\\n",
    "\t\t\t\tN_1\\left(\\frac{h}{8}\\right) & N_2\\left(\\frac{h}{4}\\right) & N_3\\left(\\frac{h}{2}\\right) & N_4\\left(h\\right)\\\\ \\hline\n",
    "\t\t\t\\end{array}$$\n",
    "\n",
    "Donde cada términos de orden $O(h^4)$, $O(h^6)$, y de ahí en adelante se encuentran mediante la fórmula siguiente:\n",
    "\n",
    "$$N_j(h) = N_{j-1}\\left(\\frac{h}{2}\\right) + \\frac{N_{j-1}\\left(\\frac{h}{2}\\right) - N_{j-1}\\left(h\\right)}{4^{j-1} - 1},$$\n"
   ]
  },
  {
   "cell_type": "code",
   "execution_count": 1,
   "metadata": {},
   "outputs": [],
   "source": [
    "# Importamos todas aquellas funciones externas necesarias para definir la función objetivo\n",
    "from numpy import exp, log,sin, cos\n",
    "e = 2.71828182846"
   ]
  },
  {
   "cell_type": "code",
   "execution_count": 2,
   "metadata": {},
   "outputs": [],
   "source": [
    "# Definimos el proceso de aproximación de diferencias centrasl de segundo orden\n",
    "def central2(fx, h, x0):\n",
    "    central2 = (fx(x0 + h) - fx(x0 - h)) / (2 * h)\n",
    "    return central2"
   ]
  },
  {
   "cell_type": "code",
   "execution_count": 3,
   "metadata": {},
   "outputs": [],
   "source": [
    "# Definimos tambien los tamaños de pasos iniciales, el punto de aproximación:\n",
    "x0 = 2.00000000 # Punto de aproximación\n",
    "h = 0.50000000 # Tamaño de paso"
   ]
  },
  {
   "cell_type": "code",
   "execution_count": 4,
   "metadata": {},
   "outputs": [],
   "source": [
    "# Definimos la función para la cual la emplearemos\n",
    "def fx(x):\n",
    "    fx = 2**x * sin(x)\n",
    "    return fx"
   ]
  },
  {
   "cell_type": "code",
   "execution_count": 5,
   "metadata": {},
   "outputs": [],
   "source": [
    "# Definimos el orden de la aproximación que buscamos\n",
    "n = 5\n",
    "\n",
    "# Determinamos las diferencias iniciales de referencia\n",
    "richard = [[round(central2(fx, h / (2**i), x0),8) for i in range(n)]]\n",
    "\n",
    "# Calculamos las siguientes aproximaciones\n",
    "for j in range(1, n, 1):\n",
    "    # Generamos un arreglo para las aproximaciones de orden O(h^{2i})\n",
    "    richard.append([])\n",
    "    \n",
    "    # Agregamos las diferencias\n",
    "    for i in range(n - j):\n",
    "        # Aplicamos la fórmula de Richardson\n",
    "        aprox = richard[j - 1][i + 1] + (1 / (4**j - 1)) * (richard[j - 1][i + 1] - richard[j - 1][i])\n",
    "        richard[j].append(round(aprox,8))"
   ]
  },
  {
   "cell_type": "code",
   "execution_count": 6,
   "metadata": {},
   "outputs": [
    {
     "data": {
      "text/plain": [
       "[0.5641278146680371,\n",
       " 0.7828794107656272,\n",
       " 0.8380765877622469,\n",
       " 0.8519073857033774,\n",
       " 0.8553670490325445]"
      ]
     },
     "execution_count": 6,
     "metadata": {},
     "output_type": "execute_result"
    }
   ],
   "source": [
    "[central2(fx, h / (2**i), x0) for i in range(5)]"
   ]
  },
  {
   "cell_type": "code",
   "execution_count": 8,
   "metadata": {},
   "outputs": [
    {
     "ename": "NameError",
     "evalue": "name 'x' is not defined",
     "output_type": "error",
     "traceback": [
      "\u001b[1;31m---------------------------------------------------------------------------\u001b[0m",
      "\u001b[1;31mNameError\u001b[0m                                 Traceback (most recent call last)",
      "\u001b[1;32m<ipython-input-8-433fe1ab2027>\u001b[0m in \u001b[0;36m<module>\u001b[1;34m\u001b[0m\n\u001b[0;32m      1\u001b[0m \u001b[1;31m# Valor de la derivada\u001b[0m\u001b[1;33m\u001b[0m\u001b[1;33m\u001b[0m\u001b[1;33m\u001b[0m\u001b[0m\n\u001b[1;32m----> 2\u001b[1;33m \u001b[1;36m2\u001b[0m\u001b[1;33m**\u001b[0m\u001b[0mx\u001b[0m \u001b[1;33m*\u001b[0m \u001b[1;33m(\u001b[0m\u001b[0mcos\u001b[0m\u001b[1;33m(\u001b[0m\u001b[0mx\u001b[0m\u001b[1;33m)\u001b[0m \u001b[1;33m+\u001b[0m \u001b[0mlog\u001b[0m\u001b[1;33m(\u001b[0m\u001b[1;36m2\u001b[0m\u001b[1;33m)\u001b[0m \u001b[1;33m*\u001b[0m \u001b[0msin\u001b[0m\u001b[1;33m(\u001b[0m\u001b[0mx\u001b[0m\u001b[1;33m)\u001b[0m\u001b[1;33m)\u001b[0m\u001b[1;33m\u001b[0m\u001b[1;33m\u001b[0m\u001b[0m\n\u001b[0m",
      "\u001b[1;31mNameError\u001b[0m: name 'x' is not defined"
     ]
    }
   ],
   "source": [
    "# Valor de la derivada\n",
    "2**x * (cos(x) + log(2) * sin(x))"
   ]
  },
  {
   "cell_type": "code",
   "execution_count": 7,
   "metadata": {},
   "outputs": [
    {
     "data": {
      "text/plain": [
       "[[0.56412781, 0.78287941, 0.83807659, 0.85190739, 0.85536705],\n",
       " [0.85579661, 0.85647565, 0.85651766, 0.85652027],\n",
       " [0.85652092, 0.85652046, 0.85652044],\n",
       " [0.85652045, 0.85652044],\n",
       " [0.85652044]]"
      ]
     },
     "execution_count": 7,
     "metadata": {},
     "output_type": "execute_result"
    }
   ],
   "source": [
    "richard"
   ]
  },
  {
   "cell_type": "code",
   "execution_count": null,
   "metadata": {},
   "outputs": [],
   "source": []
  }
 ],
 "metadata": {
  "kernelspec": {
   "display_name": "Python 3",
   "language": "python",
   "name": "python3"
  },
  "language_info": {
   "codemirror_mode": {
    "name": "ipython",
    "version": 3
   },
   "file_extension": ".py",
   "mimetype": "text/x-python",
   "name": "python",
   "nbconvert_exporter": "python",
   "pygments_lexer": "ipython3",
   "version": "3.8.8"
  }
 },
 "nbformat": 4,
 "nbformat_minor": 4
}
