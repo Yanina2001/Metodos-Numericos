{
 "cells": [
  {
   "cell_type": "markdown",
   "metadata": {},
   "source": [
    "# Tarea4 de la sesión ? de la clase de Métodos Numéricos\n",
    "\n",
    "## Método de Newton para raíces múltiples: Tarea\n",
    "\n",
    "### Nombre: De Luna Ocampo Yanina\n",
    "### Fecha de clase: 06/09/2021\n",
    "\n",
    "### Descripción: Emplee la variante del método de Newton analizando en esta sección a las ecuaicones algebráicas f(x)=0, derivadas de las siguientes funciones, de tal forma que se obtenga un error de al menos 10**-15\n",
    "\n",
    "## Condiciones\n",
    "\n",
    "Para asegurar el buen funcionamiento del método debemos asegurar que nos encontramos cerca de la raíz a fin de que la convergencia se presente de forma adecuada.\n",
    "\n",
    "## Proceso iterativo\n",
    "\n",
    "El proceso iterativo se realiza al selecccionar una primer aproximación de la raíz y posteriormente, las siguientes aproximaciones se determinan por medio de la sucesión generada por:\n",
    "\n",
    "$$p_{n+1} = p_n - \\frac{f\\left(p_n\\right)f'\\left(p_n\\right)}{\\left(f'\\left(p_n\\right)\\right)^2 - f\\left(p_n\\right)f''\\left(p_n\\right)}$$\n",
    "\n",
    "## Condición de paro\n",
    "\n",
    "Al igual que en los métodos anteriores podemos imponer una condición de paro en función de las aproximaciones sucesivas en términos del error absoluto y del valor de la función, es decir:\n",
    "\n",
    "$$\\left | f\\left(x_n\\right)\\right | + \\left | x_n-x_{n-1} \\right | \\leq \\varepsilon$$\n",
    "\n",
    "Esto únicamente lo aplicamos para este método debido a su velocidad de convergencia."
   ]
  },
  {
   "cell_type": "code",
   "execution_count": 1,
   "metadata": {},
   "outputs": [],
   "source": [
    "# Importamos las funciones necesarias que empleara la función objetivo\n",
    "from numpy import cos, sin, exp\n",
    "\n",
    "# Procedemos a definir e inicializar las condiciones de paro del método\n",
    "tol = 1.*(10**(-10)) # Obtener un error relativo de 10^(-20)\n",
    "maxItera = 100 # Realizar máximo 100 iteraciones"
   ]
  },
  {
   "cell_type": "code",
   "execution_count": 2,
   "metadata": {},
   "outputs": [],
   "source": [
    "# Definimos la funcion objetivo\n",
    "def fx(x):\n",
    "    fx = (exp**(3*x)) - (27*x**(6)) + (27*x**(4)*e**(x)) - (9*x**(2)*e**(2*x))\n",
    "    return fx\n",
    "\n",
    "# Definimos la primera derivada de la funcion objetivo\n",
    "def fxp(x):\n",
    "    fxp = (e**(3*x))*(3) - (162*x**(5)) + (27*(4*x**(3)*e**(x)) + (e**(x)*x**(4))) - (9*((2*x*e**(2*x)) + (e**(2*x))*(2*x**(2))))\n",
    "    return fxp\n",
    "\n",
    "# Definimos la segunda derivada de la funcion objetivo\n",
    "def fxpp(x):\n",
    "    fxpp = ((-1134*x**(5)) + (27*e**(x)*x**(5)) + (270*e**(x)*x**(4)) + (540*e**(x)*x**(3)) - (36*e**(2*x)*x**(3)) - (108*e**(2*x)*x**(2)) - (54*e**(2*x)*x) + (9*e**(3*x)*x) + (6*2**(3*x)))\n",
    "    return fxpp"
   ]
  },
  {
   "cell_type": "code",
   "execution_count": 3,
   "metadata": {},
   "outputs": [],
   "source": [
    "# Definimos el punto inicial donde comenzaremos por aplicar el método así como el indice de conteo de las\n",
    "# iteraciones y un error grande a fin de inicializar el método\n",
    "p0 = 3.5 # aproximación inicial\n",
    "k = 0 # Inicilizamos las iteraciones\n",
    "error = 10000 # Inicializamos el valor del error en un número muy grande\n",
    "pAnterior = p0 # Inicializamos la primer aproximación como b"
   ]
  },
  {
   "cell_type": "code",
   "execution_count": 4,
   "metadata": {},
   "outputs": [],
   "source": [
    "# Definimos una funcion que defina el método iterativo del punto fijo\n",
    "def itenewtonmultiple(a, fx, fxp, fxpp):\n",
    "    # Evaluamos para validar si ya tenemos la raíz\n",
    "    evalua = fx(a)\n",
    "    # Validamos si llegamos a las raíz\n",
    "    if evalua==0:\n",
    "        return 0, a\n",
    "    else:\n",
    "        return 1, a -((fx(a)*fxp(a))/(fxp(a)**2-fx(a)*fxpp(a)))"
   ]
  },
  {
   "cell_type": "code",
   "execution_count": 5,
   "metadata": {},
   "outputs": [
    {
     "ename": "TypeError",
     "evalue": "unsupported operand type(s) for ** or pow(): 'numpy.ufunc' and 'float'",
     "output_type": "error",
     "traceback": [
      "\u001b[1;31m---------------------------------------------------------------------------\u001b[0m",
      "\u001b[1;31mTypeError\u001b[0m                                 Traceback (most recent call last)",
      "\u001b[1;32m<ipython-input-5-5e6b396156ff>\u001b[0m in \u001b[0;36m<module>\u001b[1;34m\u001b[0m\n\u001b[0;32m      2\u001b[0m \u001b[1;33m\u001b[0m\u001b[0m\n\u001b[0;32m      3\u001b[0m \u001b[1;31m# En este caso ya tenemos la raíz deseada\u001b[0m\u001b[1;33m\u001b[0m\u001b[1;33m\u001b[0m\u001b[1;33m\u001b[0m\u001b[0m\n\u001b[1;32m----> 4\u001b[1;33m \u001b[1;32mif\u001b[0m \u001b[0mfx\u001b[0m\u001b[1;33m(\u001b[0m\u001b[0mp0\u001b[0m\u001b[1;33m)\u001b[0m \u001b[1;33m==\u001b[0m \u001b[1;36m0\u001b[0m\u001b[1;33m:\u001b[0m\u001b[1;33m\u001b[0m\u001b[1;33m\u001b[0m\u001b[0m\n\u001b[0m\u001b[0;32m      5\u001b[0m     \u001b[1;31m# Se describe que existe una raíz en el punto dado previamente\u001b[0m\u001b[1;33m\u001b[0m\u001b[1;33m\u001b[0m\u001b[1;33m\u001b[0m\u001b[0m\n\u001b[0;32m      6\u001b[0m     \u001b[0mprint\u001b[0m\u001b[1;33m(\u001b[0m\u001b[1;34m'Se ha encontrado la raíz de la ecuación, la cual está dado por el punto {0}.'\u001b[0m\u001b[1;33m.\u001b[0m\u001b[0mformat\u001b[0m\u001b[1;33m(\u001b[0m\u001b[0mp0\u001b[0m\u001b[1;33m)\u001b[0m\u001b[1;33m)\u001b[0m\u001b[1;33m\u001b[0m\u001b[1;33m\u001b[0m\u001b[0m\n",
      "\u001b[1;32m<ipython-input-2-932a45558d69>\u001b[0m in \u001b[0;36mfx\u001b[1;34m(x)\u001b[0m\n\u001b[0;32m      1\u001b[0m \u001b[1;31m# Definimos la funcion objetivo\u001b[0m\u001b[1;33m\u001b[0m\u001b[1;33m\u001b[0m\u001b[1;33m\u001b[0m\u001b[0m\n\u001b[0;32m      2\u001b[0m \u001b[1;32mdef\u001b[0m \u001b[0mfx\u001b[0m\u001b[1;33m(\u001b[0m\u001b[0mx\u001b[0m\u001b[1;33m)\u001b[0m\u001b[1;33m:\u001b[0m\u001b[1;33m\u001b[0m\u001b[1;33m\u001b[0m\u001b[0m\n\u001b[1;32m----> 3\u001b[1;33m     \u001b[0mfx\u001b[0m \u001b[1;33m=\u001b[0m \u001b[1;33m(\u001b[0m\u001b[0mexp\u001b[0m\u001b[1;33m**\u001b[0m\u001b[1;33m(\u001b[0m\u001b[1;36m3\u001b[0m\u001b[1;33m*\u001b[0m\u001b[0mx\u001b[0m\u001b[1;33m)\u001b[0m\u001b[1;33m)\u001b[0m \u001b[1;33m-\u001b[0m \u001b[1;33m(\u001b[0m\u001b[1;36m27\u001b[0m\u001b[1;33m*\u001b[0m\u001b[0mx\u001b[0m\u001b[1;33m**\u001b[0m\u001b[1;33m(\u001b[0m\u001b[1;36m6\u001b[0m\u001b[1;33m)\u001b[0m\u001b[1;33m)\u001b[0m \u001b[1;33m+\u001b[0m \u001b[1;33m(\u001b[0m\u001b[1;36m27\u001b[0m\u001b[1;33m*\u001b[0m\u001b[0mx\u001b[0m\u001b[1;33m**\u001b[0m\u001b[1;33m(\u001b[0m\u001b[1;36m4\u001b[0m\u001b[1;33m)\u001b[0m\u001b[1;33m*\u001b[0m\u001b[0me\u001b[0m\u001b[1;33m**\u001b[0m\u001b[1;33m(\u001b[0m\u001b[0mx\u001b[0m\u001b[1;33m)\u001b[0m\u001b[1;33m)\u001b[0m \u001b[1;33m-\u001b[0m \u001b[1;33m(\u001b[0m\u001b[1;36m9\u001b[0m\u001b[1;33m*\u001b[0m\u001b[0mx\u001b[0m\u001b[1;33m**\u001b[0m\u001b[1;33m(\u001b[0m\u001b[1;36m2\u001b[0m\u001b[1;33m)\u001b[0m\u001b[1;33m*\u001b[0m\u001b[0me\u001b[0m\u001b[1;33m**\u001b[0m\u001b[1;33m(\u001b[0m\u001b[1;36m2\u001b[0m\u001b[1;33m*\u001b[0m\u001b[0mx\u001b[0m\u001b[1;33m)\u001b[0m\u001b[1;33m)\u001b[0m\u001b[1;33m\u001b[0m\u001b[1;33m\u001b[0m\u001b[0m\n\u001b[0m\u001b[0;32m      4\u001b[0m     \u001b[1;32mreturn\u001b[0m \u001b[0mfx\u001b[0m\u001b[1;33m\u001b[0m\u001b[1;33m\u001b[0m\u001b[0m\n\u001b[0;32m      5\u001b[0m \u001b[1;33m\u001b[0m\u001b[0m\n",
      "\u001b[1;31mTypeError\u001b[0m: unsupported operand type(s) for ** or pow(): 'numpy.ufunc' and 'float'"
     ]
    }
   ],
   "source": [
    "# Empezamos el método de newton con los datos dados\n",
    "\n",
    "# En este caso ya tenemos la raíz deseada\n",
    "if fx(p0) == 0:\n",
    "    # Se describe que existe una raíz en el punto dado previamente\n",
    "    print('Se ha encontrado la raíz de la ecuación, la cual está dado por el punto {0}.'.format(p0))\n",
    "    \n",
    "# Dado que no tenemos la raíz aún procedemos a realizar iteraciones\n",
    "else:\n",
    "    # Señalamos que iniciamos el proceso iterativo\n",
    "    print('Iniciamos el proceso iterativo')\n",
    "    \n",
    "    # Iniciamos el proceso iterativo\n",
    "    while (error > tol and k < maxItera):\n",
    "        \n",
    "        # Iteramos el proceso\n",
    "        itera = itenewtonmultiple(p0, fx, fxp, fxpp)\n",
    "        \n",
    "        # Validamos los casos obtenidos de la bandera, si esta es 0, se ha determinado la raíz\n",
    "        if itera[0] == 0:\n",
    "            # Describimos que hemos determinado el punto fijo y lo imprimimos\n",
    "            print('La raíz de la ecuación se encuentra en el punto: {0}.'.format(itera[1]))\n",
    "            k = maxItera\n",
    "            \n",
    "        # Validamos los casos obtenidos de la bandera, si esta es 1, no se ha determinado el punto fijo\n",
    "        else:\n",
    "            # Incrementamos en 1 las iteraciones realizadas\n",
    "            k = k + 1\n",
    "            \n",
    "            # Imprimimos los resultados obtenidos de la iteracion\n",
    "            print('Resultados de la iteracion {0}.'.format(k))\n",
    "            print('La aproximación de la raíz se encuentra dada por {:.8}.'.format(itera[1]))\n",
    "            print('El valor de la función bajo la aproximación es {:.8}.'.format(fx(itera[1])))\n",
    "            \n",
    "            # Actualizamos las variables\n",
    "            error = abs(p0 - itera[1]) + abs(fx(p0)) # Error de aproximaciones\n",
    "            p0 = itera[1]\n",
    "            \n",
    "            # Imprimimos el error\n",
    "            print('El error relativo se encuentra dado por {:.8}.\\n'.format(error))"
   ]
  },
  {
   "cell_type": "code",
   "execution_count": null,
   "metadata": {},
   "outputs": [],
   "source": []
  }
 ],
 "metadata": {
  "kernelspec": {
   "display_name": "Python 3",
   "language": "python",
   "name": "python3"
  },
  "language_info": {
   "codemirror_mode": {
    "name": "ipython",
    "version": 3
   },
   "file_extension": ".py",
   "mimetype": "text/x-python",
   "name": "python",
   "nbconvert_exporter": "python",
   "pygments_lexer": "ipython3",
   "version": "3.8.8"
  }
 },
 "nbformat": 4,
 "nbformat_minor": 4
}
