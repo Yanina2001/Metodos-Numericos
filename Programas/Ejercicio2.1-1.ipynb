{
 "cells": [
  {
   "cell_type": "code",
   "execution_count": 3,
   "id": "59fff985",
   "metadata": {},
   "outputs": [],
   "source": [
    "from numpy import exp\n",
    "\n",
    "\n",
    "tol = 1.*(10**(-10))\n",
    "maxItera = 100"
   ]
  },
  {
   "cell_type": "code",
   "execution_count": 4,
   "id": "28d8c5ba",
   "metadata": {},
   "outputs": [],
   "source": [
    "def fx(x):\n",
    "    fx = x**6 - x - 1\n",
    "    return fx"
   ]
  },
  {
   "cell_type": "code",
   "execution_count": 5,
   "id": "9f64c626",
   "metadata": {},
   "outputs": [],
   "source": [
    "a = 0\n",
    "b = 1\n",
    "k = 0\n",
    "error = 1000\n",
    "pmedioanterior = b"
   ]
  },
  {
   "cell_type": "code",
   "execution_count": 6,
   "id": "bcb47fef",
   "metadata": {},
   "outputs": [],
   "source": [
    "def itebiseccion(a,b,fx):\n",
    "    \n",
    "    pmedio = (a+b)/2\n",
    "    \n",
    "    if fx(a)*fx(pmedio) < 0:\n",
    "        return 1, a, pmedio, pmedio\n",
    "    \n",
    "    elif fx(pmedio)*fx(b) < 0:\n",
    "        return 1, pmedio, b, pmedio\n",
    "    \n",
    "    else:\n",
    "        return 0, pmedio"
   ]
  },
  {
   "cell_type": "code",
   "execution_count": 7,
   "id": "eb973f78",
   "metadata": {},
   "outputs": [
    {
     "name": "stdout",
     "output_type": "stream",
     "text": [
      "No existen raices de la funcion objetivo en el intervalo dado \n",
      "\n"
     ]
    }
   ],
   "source": [
    "if fx(a)*fx(b)>0:\n",
    "    print('No existen raices de la funcion objetivo en el intervalo dado \\n')\n",
    "\n",
    "\n",
    "elif fx(a)*fx(b)==0:\n",
    "    \n",
    "  \n",
    "    if fx(a)==0:\n",
    "        print('La raíz de la ecuación se encuentra en el punto: ', a)\n",
    "        \n",
    "    else:\n",
    "        print('La raíz de la ecuación se encuentra en el punto: ', b)\n",
    "\n",
    "else:\n",
    "    print('Iniciamos el proceso iterativo')\n",
    "\n",
    "    while (error > tol and k < maxItera): \n",
    "        itera = itebiseccion(a,b,fx)\n",
    "        if itera[0] == 0:\n",
    "            print('La raíz de la ecuación se encuentra en el punto: ', itera[1])\n",
    "\n",
    "        else:\n",
    "            k = k + 1\n",
    "            \n",
    "            print('Resultados de la iteracion: ', k)\n",
    "            print('La aproximación de la raíz se encuentra dada por: ', itera[3])\n",
    "            print('El valor de la función bajo la aproximación es: ', fx(itera[3]))\n",
    "            print('El intervalor de búsqueda se ha reducido al [', itera[1], ' , ', itera[2], ' ]')\n",
    "            \n",
    "            a = itera[1]\n",
    "            b = itera[2]\n",
    "            error = abs(itera[3] - pmedioanterior)/abs(pmedioanterior)\n",
    "            pmedioanterior = itera[3]\n",
    "            \n",
    "            print('El error porcentual se encuentra dado por ', error, '\\n')"
   ]
  },
  {
   "cell_type": "code",
   "execution_count": null,
   "id": "36ca8cb8",
   "metadata": {},
   "outputs": [],
   "source": []
  }
 ],
 "metadata": {
  "kernelspec": {
   "display_name": "Python 3",
   "language": "python",
   "name": "python3"
  },
  "language_info": {
   "codemirror_mode": {
    "name": "ipython",
    "version": 3
   },
   "file_extension": ".py",
   "mimetype": "text/x-python",
   "name": "python",
   "nbconvert_exporter": "python",
   "pygments_lexer": "ipython3",
   "version": "3.8.8"
  }
 },
 "nbformat": 4,
 "nbformat_minor": 5
}
