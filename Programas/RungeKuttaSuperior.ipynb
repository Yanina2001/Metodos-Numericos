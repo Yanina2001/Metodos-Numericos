{
 "cells": [
  {
   "cell_type": "markdown",
   "metadata": {},
   "source": [
    "# Método de Runge Kutta de orden superior\n",
    "\n",
    "Recordemos que el método de Taylor de orden superior se obtiene al generar la aproximación con el teorema de Taylor de orden $n$ en el problema de valores iniciales, por lo anterior, considere el siguiente problema de valores iniciales:\n",
    "<p>&nbsp;</p>\n",
    "\\begin{equation}\n",
    "\ty' = f(t,y),\\;\\;\\; a\\leq t \\leq b,\\;\\;\\; y(a) = \\alpha,\n",
    "\\end{equation}\n",
    "<p>&nbsp;</p>\n",
    "Si definimos $w(t_i) \\approx y(t_i)$ obtenemos entonces el método de Runge - Kutta de orden 3:\n",
    "\n",
    "<p>&nbsp;</p>\n",
    "\\begin{equation}\n",
    "\t\\begin{split}\n",
    "\t\tw_0 & = \\alpha \\\\\n",
    "\t\tw_{i+1} & = w_i + \\frac{h}{4} \\left[f(t_i, w_i) + 3 f\\left(t_{i} + \\frac{2h}{3} , w_i + \\frac{2h}{3} f\\left(t_i + \\frac{h}{3}, w_i + \\frac{h}{3} f(t_i, w_i)\\right)\\right)\\right],\\;\\; i = 0, 1, \\dots, N-1, \\\\\n",
    "\t\\end{split}\n",
    "\\end{equation}\n",
    "<p>&nbsp;</p>\n",
    "Ahora también incorporaremos el método de Runge - Kutta de orden 4, el cual se encuentra dado por:\n",
    "donde se obtiene que:\n",
    "<p>&nbsp;</p>\n",
    "\\begin{equation}\n",
    "\t\\begin{split}\n",
    "\t\tw_0 & = \\alpha \\\\\n",
    "        k_1 & = h f(t_i, w_i) \\\\\n",
    "        k_2 & = h f\\left(t_i + \\frac{h}{2}, w_i + \\frac{1}{2} k_1\\right) \\\\\n",
    "        k_3 & = h f\\left(t_i + \\frac{h}{2}, w_i + \\frac{1}{2} k_2\\right) \\\\\n",
    "        k_4 & = h f(t_{i+1}, w_i + k_3) \\\\\n",
    "\t\tw_{i+1} & = w_i + \\frac{h}{6} \\left(k_1 + 2k_2 + 2k_3 + k_4\\right),\\;\\; i = 0, 1, \\dots, N-1, \\\\\n",
    "\t\\end{split}\n",
    "\\end{equation}"
   ]
  },
  {
   "cell_type": "code",
   "execution_count": 28,
   "metadata": {},
   "outputs": [],
   "source": [
    "# Importamos las librerias y funciones necesarias para replicar el método\n",
    "import numpy as np\n",
    "from numpy import exp, log\n",
    "e = 2.71828182846"
   ]
  },
  {
   "cell_type": "code",
   "execution_count": 29,
   "metadata": {},
   "outputs": [],
   "source": [
    "# Determinamos los parámetros donde trabajaremos\n",
    "\n",
    "a = 0   # Punto inicial\n",
    "b = 1   # Punto final\n",
    "ci = 1  # Condicion inicial\n",
    "n = 20  # Número de pasos"
   ]
  },
  {
   "cell_type": "code",
   "execution_count": 30,
   "metadata": {},
   "outputs": [],
   "source": [
    "# Definimos cadenas auxiliares para impresión de pantalla\n",
    "punto = 'Punto'\n",
    "aproxima = 'Aproximacion'\n",
    "real = 'Real'\n",
    "error = 'Error Absoluto'"
   ]
  },
  {
   "cell_type": "code",
   "execution_count": 31,
   "metadata": {},
   "outputs": [],
   "source": [
    "# Definimos la función f(t,y)\n",
    "def fty(t,y):\n",
    "    fty = e**(t - y)\n",
    "    return fty"
   ]
  },
  {
   "cell_type": "code",
   "execution_count": 32,
   "metadata": {},
   "outputs": [
    {
     "data": {
      "text/plain": [
       "0.05"
      ]
     },
     "execution_count": 32,
     "metadata": {},
     "output_type": "execute_result"
    }
   ],
   "source": [
    "# Determinamos el tamaño de salto\n",
    "h = (b - a) / n\n",
    "h"
   ]
  },
  {
   "cell_type": "code",
   "execution_count": 33,
   "metadata": {},
   "outputs": [
    {
     "name": "stdout",
     "output_type": "stream",
     "text": [
      "[0.   0.05 0.1  0.15 0.2  0.25 0.3  0.35 0.4  0.45 0.5  0.55 0.6  0.65\n",
      " 0.7  0.75 0.8  0.85 0.9  0.95 1.  ]\n"
     ]
    }
   ],
   "source": [
    "# Generamos el arreglo de puntos y de aproximaciones donde trabajaremos\n",
    "aprox = np.empty((2,n+1))\n",
    "\n",
    "# La primer dimensión tendra los puntos donde trabajaremos, es decir, los puntos de la malla\n",
    "aprox[0,:] = np.arange(a,b + h, h)\n",
    "\n",
    "# Imprimimos la primer dimensión a fin de validar los resultados:\n",
    "print(aprox[0,:])"
   ]
  },
  {
   "cell_type": "code",
   "execution_count": 34,
   "metadata": {},
   "outputs": [],
   "source": [
    "# Definimos la función T^(3)\n",
    "def rungeK3(t, w, h):\n",
    "    k = h / 3\n",
    "    rungeK3 = fty(t, w) + 3 * fty(t + 2 * k, w + 2 * k * fty(t + k, w + k * fty(t, w)))\n",
    "    return rungeK3"
   ]
  },
  {
   "cell_type": "code",
   "execution_count": 35,
   "metadata": {},
   "outputs": [],
   "source": [
    "# Definimos la función T^(4)\n",
    "def rungeK4(t, w, h):\n",
    "    k1 = h * fty(t, w)\n",
    "    k2 = h * fty(t + h / 2, w + k1 / 2)\n",
    "    k3 = h * fty(t + h / 2, w + k2 / 2)\n",
    "    k4 = h * fty(t + h, w + k3)\n",
    "    rungeK4 = k1 + 2 * k2 + 2 * k3 + k4\n",
    "    return rungeK4"
   ]
  },
  {
   "cell_type": "code",
   "execution_count": 36,
   "metadata": {},
   "outputs": [],
   "source": [
    "# Determinamos los valores exactos y los error de aproximacion\n",
    "# Primero definimos la solución real\n",
    "def ftyR(t):\n",
    "    ftyR = log(e**(t) + e -1)\n",
    "    return ftyR"
   ]
  },
  {
   "cell_type": "code",
   "execution_count": 37,
   "metadata": {},
   "outputs": [],
   "source": [
    "# Comenzamos a determinar las aproximaciones\n",
    "\n",
    "# Asignamos la primer aproximación, la cual corresponde a la condicion inicial\n",
    "aprox[1,0] = ci\n",
    "\n",
    "# Comenzamos el proceso iterativo\n",
    "for i in range(1,n+1):\n",
    "    aprox[1,i] = aprox[1,i-1] + (h / 4) * rungeK3(aprox[0,i-1], aprox[1,i-1], h)\n",
    "\n",
    "# Creamos el arreglo donde trabajaremos\n",
    "resumen = np.empty((4,n+1))\n",
    "\n",
    "# Asignamos los puntos donde trabajamos y los valores aproximados\n",
    "resumen[0:2,:] = aprox.copy()\n",
    "\n",
    "# Asignamos los valores reales\n",
    "resumen[2,:] = ftyR(aprox[0,:])\n",
    "\n",
    "# Determinamos el error de aproximación\n",
    "resumen[3,:] = abs(resumen[2,:].copy() - aprox[1,:].copy())"
   ]
  },
  {
   "cell_type": "code",
   "execution_count": 38,
   "metadata": {},
   "outputs": [
    {
     "name": "stdout",
     "output_type": "stream",
     "text": [
      "La aproximacion obtenida se encuentra dada por:\n",
      "Punto             Aproximacion     Real             Error Absoluto \n",
      "            0.0               1.0               1.0               0.0\n",
      "           0.05        1.01868591        1.01868591               0.0\n",
      "            0.1        1.03796051        1.03796051               0.0\n",
      "           0.15        1.05783059         1.0578306             1e-08\n",
      "            0.2        1.07830228        1.07830229             1e-08\n",
      "           0.25        1.09938106        1.09938107             1e-08\n",
      "            0.3        1.12107171        1.12107172             2e-08\n",
      "           0.35        1.14337828         1.1433783             2e-08\n",
      "            0.4         1.1663041        1.16630412             2e-08\n",
      "           0.45        1.18985175        1.18985177             3e-08\n",
      "            0.5        1.21402303        1.21402306             3e-08\n",
      "           0.55        1.23881897        1.23881902             4e-08\n",
      "            0.6        1.26423985        1.26423989             5e-08\n",
      "           0.65        1.29028511        1.29028517             5e-08\n",
      "            0.7        1.31695347        1.31695354             6e-08\n",
      "           0.75        1.34424285        1.34424292             7e-08\n",
      "            0.8        1.37215042         1.3721505             8e-08\n",
      "           0.85        1.40067258        1.40067267             9e-08\n",
      "            0.9        1.42980502        1.42980512             1e-07\n",
      "           0.95        1.45954274        1.45954285           1.1e-07\n",
      "            1.0        1.48988001        1.48988013           1.2e-07\n"
     ]
    }
   ],
   "source": [
    "# Imprimimos los resultados obtenidos\n",
    "print('La aproximacion obtenida se encuentra dada por:')\n",
    "\n",
    "# Titulos de la tabla\n",
    "print(f'{punto:15}   {aproxima:15}  {real:15}  {error:15}')\n",
    "\n",
    "for i in range(n+1):\n",
    "    print('{0:15}   {1:15}   {2:15}   {3:15}'.format(round(resumen[0,i],8), round(resumen[1,i],8), round(resumen[2,i],8), round(resumen[3,i],8)))"
   ]
  },
  {
   "cell_type": "code",
   "execution_count": 39,
   "metadata": {},
   "outputs": [],
   "source": [
    "# Comenzamos a determinar las aproximaciones\n",
    "\n",
    "# Asignamos la primer aproximación, la cual corresponde a la condicion inicial\n",
    "aprox[1,0] = ci\n",
    "\n",
    "# Comenzamos el proceso iterativo\n",
    "for i in range(1,n+1):\n",
    "    aprox[1,i] = aprox[1,i-1] + (1 / 6) * rungeK4(aprox[0,i-1], aprox[1,i-1], h)\n",
    "\n",
    "# Creamos el arreglo donde trabajaremos\n",
    "resumen = np.empty((4,n+1))\n",
    "\n",
    "# Asignamos los puntos donde trabajamos y los valores aproximados\n",
    "resumen[0:2,:] = aprox.copy()\n",
    "\n",
    "# Asignamos los valores reales\n",
    "resumen[2,:] = ftyR(aprox[0,:])\n",
    "\n",
    "# Determinamos el error de aproximación\n",
    "resumen[3,:] = abs(resumen[2,:].copy() - aprox[1,:].copy())"
   ]
  },
  {
   "cell_type": "code",
   "execution_count": 40,
   "metadata": {},
   "outputs": [
    {
     "name": "stdout",
     "output_type": "stream",
     "text": [
      "La aproximacion obtenida se encuentra dada por:\n",
      "Punto             Aproximacion     Real             Error Absoluto \n",
      "            0.0               1.0               1.0               0.0\n",
      "           0.05        1.01868591        1.01868591               0.0\n",
      "            0.1        1.03796051        1.03796051               0.0\n",
      "           0.15         1.0578306         1.0578306               0.0\n",
      "            0.2        1.07830229        1.07830229               0.0\n",
      "           0.25        1.09938108        1.09938107               0.0\n",
      "            0.3        1.12107172        1.12107172               0.0\n",
      "           0.35         1.1433783         1.1433783               0.0\n",
      "            0.4        1.16630412        1.16630412               0.0\n",
      "           0.45        1.18985178        1.18985177               0.0\n",
      "            0.5        1.21402306        1.21402306               0.0\n",
      "           0.55        1.23881902        1.23881902               0.0\n",
      "            0.6        1.26423989        1.26423989               0.0\n",
      "           0.65        1.29028517        1.29028517               0.0\n",
      "            0.7        1.31695354        1.31695354               0.0\n",
      "           0.75        1.34424293        1.34424292               0.0\n",
      "            0.8         1.3721505         1.3721505               0.0\n",
      "           0.85        1.40067267        1.40067267               0.0\n",
      "            0.9        1.42980513        1.42980512               0.0\n",
      "           0.95        1.45954285        1.45954285               0.0\n",
      "            1.0        1.48988013        1.48988013               0.0\n"
     ]
    }
   ],
   "source": [
    "# Imprimimos los resultados obtenidos\n",
    "print('La aproximacion obtenida se encuentra dada por:')\n",
    "\n",
    "# Titulos de la tabla\n",
    "print(f'{punto:15}   {aproxima:15}  {real:15}  {error:15}')\n",
    "\n",
    "for i in range(n+1):\n",
    "    print('{0:15}   {1:15}   {2:15}   {3:15}'.format(round(resumen[0,i],8), round(resumen[1,i],8), round(resumen[2,i],8), round(resumen[3,i],8)))"
   ]
  },
  {
   "cell_type": "code",
   "execution_count": null,
   "metadata": {},
   "outputs": [],
   "source": []
  },
  {
   "cell_type": "code",
   "execution_count": null,
   "metadata": {},
   "outputs": [],
   "source": []
  }
 ],
 "metadata": {
  "kernelspec": {
   "display_name": "Python 3",
   "language": "python",
   "name": "python3"
  },
  "language_info": {
   "codemirror_mode": {
    "name": "ipython",
    "version": 3
   },
   "file_extension": ".py",
   "mimetype": "text/x-python",
   "name": "python",
   "nbconvert_exporter": "python",
   "pygments_lexer": "ipython3",
   "version": "3.8.8"
  }
 },
 "nbformat": 4,
 "nbformat_minor": 4
}
