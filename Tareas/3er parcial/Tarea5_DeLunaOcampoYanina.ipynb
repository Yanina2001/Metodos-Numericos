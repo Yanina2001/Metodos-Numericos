{
 "cells": [
  {
   "cell_type": "markdown",
   "metadata": {},
   "source": [
    "# Método iterativo de Jacobi\n",
    "\n",
    "El método de Jacobi se obtiene a partir de resolver la $i$ - ésima ecuación del sistema de ecuaciones $A\\mathbf{x} = \\mathbf{b}$ para la variable $x_{i}$, lo que resulta en (siempre y cuando $a_{ii}\\neq 0$).\n",
    "\n",
    "\n",
    "\\begin{equation}\n",
    "\t\\forall i=1,2,\\dots,n\\;\\;\\;\\;x_{i}=\\sum_{j=1;j\\neq i}^{n}\\left(-\\frac{a_{ij}x_{j}}{a_{ii}}\\right)+\\frac{b_{i}}{a_{ii}}\n",
    "\\end{equation}\n",
    "\n",
    "\n",
    "Posteriormente, para cada $k\\geq 1$, se generan la siguientes componentes de $x_{i}^{(k)}$ del vector $\\mathbf{x}^{(k)}$ a partir de los componentes de $\\mathbf{x}^{(k-1)}$, siguiendo la siguiente fórmula:\n",
    "\n",
    "\n",
    "\\begin{equation}\n",
    "    \\forall i=1,2,\\dots,n\\;\\;\\;\\;x_{i}^{(k)}=\\frac{1}{a_{ii}}\\sum_{j=1;j\\neq i}^{n}\\left(-a_{ij}x_{j}^{(k-1)}\\right)+b_{i}\n",
    "\\end{equation}\n",
    "\n",
    "\n",
    "El cual se puede ver en su forma matricial como:\n",
    "\n",
    "\n",
    "\\begin{equation}\n",
    "    \\mathbf{x}^{(k)}=A\\mathbf{x}^{(k-1)}+\\mathbf{b}\n",
    "\\end{equation}"
   ]
  },
  {
   "cell_type": "markdown",
   "metadata": {},
   "source": [
    "### IPN, ESCOM\n",
    "#### Tarea5, parcial3\n",
    "#### Alumna: De Luna Ocampo Yanina, profesor: Israel Sánchez Mendoza\n",
    "#### 01/12/2021"
   ]
  },
  {
   "cell_type": "markdown",
   "metadata": {},
   "source": [
    "#### Introducción\n",
    "Es un método iterativo usado para resolver sistemas de ecuaciones lineales del tipo. Este método consiste en usar fórmulas como iteración de punto fijo.\n",
    "Un método iterativo con el cual se resuelve el sistema lineal A x = b, comienza con una aproximación inicial x (0) a la solución x y genera una sucesión de vectores x (k) que converge a x. Los métodos iterativos traen consigo un proceso que convierte el sistema A x = b en otro equivalente de la forma x = T x + c para alguna matriz fija T y un vector c."
   ]
  },
  {
   "cell_type": "markdown",
   "metadata": {},
   "source": [
    "#### Proceso\n",
    "Como siempre, debemos empezar importando las librerías a utilizar que en este caso son para manipular arreglor y para álgebra lineal. Asimismo, las funciones para el determinante."
   ]
  },
  {
   "cell_type": "code",
   "execution_count": 1,
   "metadata": {},
   "outputs": [],
   "source": [
    "from numpy import array, zeros, eye\n",
    "import numpy as np\n",
    "\n",
    "from numpy.linalg import det, solve, inv"
   ]
  },
  {
   "cell_type": "markdown",
   "metadata": {},
   "source": [
    "Empezamos definiendo los arreglos con los cuales vamos a trabajar en este problema."
   ]
  },
  {
   "cell_type": "code",
   "execution_count": 2,
   "metadata": {},
   "outputs": [],
   "source": [
    "A = array([[3, -1, 1], [3, 6, 2], [3, 3, 7]], dtype = float)\n",
    "b = array([1, 0, 4], dtype = float)"
   ]
  },
  {
   "cell_type": "markdown",
   "metadata": {},
   "source": [
    "Definimos nuestra aproximación inicial, la tolerancia de la misma, las máximas iteraciones y el contador que necesitaremos."
   ]
  },
  {
   "cell_type": "code",
   "execution_count": 3,
   "metadata": {},
   "outputs": [],
   "source": [
    "x = array([0, 0, 0], dtype = float)\n",
    "tol = 10 ** (-6)\n",
    "maxItera = 10\n",
    "k = 0"
   ]
  },
  {
   "cell_type": "markdown",
   "metadata": {},
   "source": [
    "Definimos la estandarización, dentro de esta la longitus y debemos proceder a normalizar la matriz. Definimos el método Jacobi, inicializamos el error y el contador. Imprimimos los resultados."
   ]
  },
  {
   "cell_type": "code",
   "execution_count": 4,
   "metadata": {},
   "outputs": [],
   "source": [
    "# Definimos la operación de la estandarización\n",
    "def normal(A, b):\n",
    "    \n",
    "    # Determinamos la longitud de la matriz\n",
    "    n = len(A)\n",
    "    \n",
    "    # Copia del arreglo\n",
    "    Aestandar = A.copy()\n",
    "    \n",
    "    # Procedemos a normalizar la matriz\n",
    "    for i in range(n):\n",
    "        \n",
    "        # Normalizamos el vector b\n",
    "        b[i] = b[i] / A[i,i]\n",
    "        \n",
    "        # Normalizamos\n",
    "        Aestandar[i] = Aestandar[i] / A[i,i]\n",
    "        \n",
    "        # Eliminamos el elemento de la diagonal\n",
    "        Aestandar[i,i] = 0\n",
    "        \n",
    "    return -Aestandar, b\n",
    "\n",
    "# Definimos el método de jacobi\n",
    "def jacobi(A, b, x):\n",
    "    \n",
    "    # Calculamos el método\n",
    "    jacobi = A@x + b\n",
    "    \n",
    "    return jacobi\n",
    "\n",
    "# Definimos el proceso iterativo\n",
    "def iterajacobi(A, b, x, tol, maxItera):\n",
    "    \n",
    "    # Inicializamos el error\n",
    "    error = 100\n",
    "    \n",
    "    # Inicializamos el contador\n",
    "    k = 0\n",
    "    \n",
    "    # iteramos el proceso\n",
    "    while (error > tol and k < maxItera):\n",
    "        \n",
    "        # Actualizamos el contador\n",
    "        k += 1\n",
    "        \n",
    "        # Actualizamos la aproximación\n",
    "        x1 = jacobi(A, b, x)\n",
    "        \n",
    "        # Calculamos el error\n",
    "        error = max(abs(x - x1))\n",
    "        \n",
    "        # Actualizamos\n",
    "        x = x1\n",
    "        \n",
    "        # Imprimimos resultados\n",
    "        print('Resultados de la iteracion: ', k)\n",
    "        print('La aproximación de la solución se encuentra dada por:\\n {}'.format(x))\n",
    "        print('El error entre aproximaciones es de {}'.format(error))"
   ]
  },
  {
   "cell_type": "code",
   "execution_count": 5,
   "metadata": {},
   "outputs": [],
   "source": [
    "A, b = normal(A, b)"
   ]
  },
  {
   "cell_type": "markdown",
   "metadata": {},
   "source": [
    "Imprimimos los resultados para poder vusualizarlos de una mejor manera."
   ]
  },
  {
   "cell_type": "code",
   "execution_count": 6,
   "metadata": {},
   "outputs": [
    {
     "name": "stdout",
     "output_type": "stream",
     "text": [
      "Resultados de la iteracion:  1\n",
      "La aproximación de la solución se encuentra dada por:\n",
      " [0.33333333 0.         0.57142857]\n",
      "El error entre aproximaciones es de 0.5714285714285714\n",
      "Resultados de la iteracion:  2\n",
      "La aproximación de la solución se encuentra dada por:\n",
      " [ 0.14285714 -0.35714286  0.42857143]\n",
      "El error entre aproximaciones es de 0.3571428571428571\n",
      "Resultados de la iteracion:  3\n",
      "La aproximación de la solución se encuentra dada por:\n",
      " [ 0.07142857 -0.21428571  0.66326531]\n",
      "El error entre aproximaciones es de 0.2346938775510204\n",
      "Resultados de la iteracion:  4\n",
      "La aproximación de la solución se encuentra dada por:\n",
      " [ 0.04081633 -0.25680272  0.63265306]\n",
      "El error entre aproximaciones es de 0.04251700680272111\n",
      "Resultados de la iteracion:  5\n",
      "La aproximación de la solución se encuentra dada por:\n",
      " [ 0.03684807 -0.23129252  0.66399417]\n",
      "El error entre aproximaciones es de 0.031341107871720175\n",
      "Resultados de la iteracion:  6\n",
      "La aproximación de la solución se encuentra dada por:\n",
      " [ 0.03490444 -0.23975543  0.6547619 ]\n",
      "El error entre aproximaciones es de 0.00923226433430524\n",
      "Resultados de la iteracion:  7\n",
      "La aproximación de la solución se encuentra dada por:\n",
      " [ 0.03516089 -0.23570619  0.65922185]\n",
      "El error entre aproximaciones es de 0.0044599472442038435\n",
      "Resultados de la iteracion:  8\n",
      "La aproximación de la solución se encuentra dada por:\n",
      " [ 0.03502399 -0.23732106  0.65737656]\n",
      "El error entre aproximaciones es de 0.0018452959415058423\n",
      "Resultados de la iteracion:  9\n",
      "La aproximación de la solución se encuentra dada por:\n",
      " [ 0.03510079 -0.23663751  0.65812732]\n",
      "El error entre aproximaciones es de 0.0007507619179839553\n",
      "Resultados de la iteracion:  10\n",
      "La aproximación de la solución se encuentra dada por:\n",
      " [ 0.03507839 -0.23692617  0.65780145]\n",
      "El error entre aproximaciones es de 0.00032586730837458333\n"
     ]
    }
   ],
   "source": [
    "iterajacobi(A, b, x, tol, maxItera)"
   ]
  },
  {
   "cell_type": "markdown",
   "metadata": {},
   "source": [
    "¿Qué aprendí con esta tarea?\n",
    "Partimos de una aproximación inicial para las soluciones al sistema de ecuaciones y sustituimos estos valores en la ecuación. De esta forma, se genera una nueva aproximación a la solución del sistema, que en determinadas condiciones, es mejor que la aproximación inicial. Esta nueva aproximación se puede sustituir de nuevo en la parte derecha de la ecuación y así sucesivamente hasta obtener la convergencia."
   ]
  }
 ],
 "metadata": {
  "kernelspec": {
   "display_name": "Python 3",
   "language": "python",
   "name": "python3"
  },
  "language_info": {
   "codemirror_mode": {
    "name": "ipython",
    "version": 3
   },
   "file_extension": ".py",
   "mimetype": "text/x-python",
   "name": "python",
   "nbconvert_exporter": "python",
   "pygments_lexer": "ipython3",
   "version": "3.8.8"
  }
 },
 "nbformat": 4,
 "nbformat_minor": 4
}
