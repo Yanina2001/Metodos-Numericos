{
 "cells": [
  {
   "cell_type": "markdown",
   "metadata": {},
   "source": [
    "# Factorización $LU$\n",
    "\n",
    "Esta factorización consiste en determinar una forma equivalente para la matriz $A$ en la forma:\n",
    "\n",
    "\n",
    "$$A = LU$$\n",
    "\n",
    "\n",
    "Donde, $L$ es una matriz triangular inferior y $U$ es una matriz triangular superior, ahora bien, es importante señalar que no toda matriz no singular puede ser factorizada de esta forma, pero si una gran mayoría, por otra parte esta factorización nos beneficia al reducir el tiempo empleada en la solución del sistema."
   ]
  },
  {
   "cell_type": "markdown",
   "metadata": {},
   "source": [
    "## IPN, ESCOM\n",
    "### Tarea 4, ejercicio 5.6\n",
    "### Profesor: Israel Sánchez Mendoza, alumna: De Luna Ocampo Yanina\n",
    "### Fecha de entrega: 29/11/2021"
   ]
  },
  {
   "cell_type": "markdown",
   "metadata": {},
   "source": [
    "### Introducción\n",
    "La factorización LU es una factorización que resume el proceso de eliminación gaussiana, se basa en separar una matriz A en dos matrices triangulares A = LU, donde L es una matriz triangular inferior y U (upper) es una matriz triangular superior, así, la resolución de estas dos subecuaciones es trivial.\n",
    "En la lectura, primeramente consideraremos la factorización LU sin intercambio basada en matrices elementales y posteriormente da la factorización PA = LU."
   ]
  },
  {
   "cell_type": "markdown",
   "metadata": {},
   "source": [
    "### Proceso\n",
    "Como siempre, debemos comenzar importando nuestras librerias necesarias, en este caso es para manipular arreglos y cosas necesarias de álgebra lineal, así como las funciones necesarias del determinante y para el método LU."
   ]
  },
  {
   "cell_type": "code",
   "execution_count": 1,
   "metadata": {},
   "outputs": [],
   "source": [
    "from numpy import array, zeros\n",
    "import numpy as np\n",
    "\n",
    "from numpy.linalg import det, solve, inv\n",
    "\n",
    "from scipy.linalg import lu"
   ]
  },
  {
   "cell_type": "markdown",
   "metadata": {},
   "source": [
    "Procedemos a definir la matriz con la que trabajaremos que es este caso es la siguiente:"
   ]
  },
  {
   "cell_type": "code",
   "execution_count": 2,
   "metadata": {},
   "outputs": [],
   "source": [
    "A = array([[2, 1, 0, 0], [-1, 3, 3, 0], [2, -2, 1, 4], [-2, 2, 2, 5]], dtype = float)\n",
    "B = array([[2, 1, 0, 0], [-1, 3, 3, 0], [2, -2, 1, 4], [-2, 2, 2, 5]], dtype = float)"
   ]
  },
  {
   "cell_type": "markdown",
   "metadata": {},
   "source": [
    "Primero debemos validar que es una matriz invertible, de ahí calculamos el tamaño del sistema.\n",
    "Construimos una matriz aumentada y asignamos los elementos de esta para determinar la factorización LU. Procedemos a identificar cómo se debe proceder para reducir la matriz para la siguiente fila tomando la fila para pivote de eliminación hacia abajo.\n",
    "Debemos validar si el coeficiente de la línea pivote no es cero, luego si es diferente a cero y buscamos la celda que cumpla con esta última condición.\n",
    "Imprimimos la matriz triangular inferior y el superior."
   ]
  },
  {
   "cell_type": "code",
   "execution_count": 3,
   "metadata": {},
   "outputs": [
    {
     "name": "stdout",
     "output_type": "stream",
     "text": [
      "La matriz aumentada con la que trabajaremos es: \n",
      " [[ 2.  1.  0.  0.  1.  0.  0.  0.]\n",
      " [-1.  3.  3.  0.  0.  1.  0.  0.]\n",
      " [ 2. -2.  1.  4.  0.  0.  1.  0.]\n",
      " [-2.  2.  2.  5.  0.  0.  0.  1.]] \n",
      "\n",
      "La matriz L es: \n",
      " [[ 1.          0.          0.          0.        ]\n",
      " [ 0.5         1.          0.          0.        ]\n",
      " [-0.57142857  0.85714286  1.          0.        ]\n",
      " [ 0.48       -0.72        0.16        1.        ]] \n",
      "\n",
      "La matriz U es: \n",
      " [[2.         1.         0.         0.        ]\n",
      " [0.         3.5        3.         0.        ]\n",
      " [0.         0.         3.57142857 4.        ]\n",
      " [0.         0.         0.         5.64      ]] \n",
      "\n"
     ]
    }
   ],
   "source": [
    "n = len(A)\n",
    "\n",
    "if (det(A[:,:n]) != 0 and abs(det(A[:,:n])) > 10 ** (-5)):\n",
    "\n",
    "    matrizA = np.zeros((n,2 * n))\n",
    "\n",
    "    matrizA[:,0:n] = A.copy()\n",
    "    matrizA[:,n:] = np.eye(n)\n",
    "    \n",
    "    print('La matriz aumentada con la que trabajaremos es: \\n', matrizA, '\\n')\n",
    "\n",
    "    for j in range(n):\n",
    "\n",
    "        pivote = matrizA[j,j]\n",
    "\n",
    "        if pivote == 0:\n",
    "\n",
    "            for k in range(j+1, n):\n",
    "\n",
    "                if matrizA[k,j] != 0 :\n",
    "\n",
    "                    cambio = matrizA[j,:].copy()\n",
    "\n",
    "                    matrizA[j,:] = matrizA[k,:].copy()\n",
    "                    matrizA[k,:] = cambio.copy()\n",
    "\n",
    "                    break\n",
    "\n",
    "        for i in range(j+1, n):\n",
    "\n",
    "            coef = matrizA[i,j] / matrizA[j,j]\n",
    "\n",
    "            matrizA[i,:] = matrizA[i,:] - coef * matrizA[j,:]\n",
    "    \n",
    "    # Imprimimos la matriz triangular inferior del proceso de eliminación\n",
    "    print('La matriz L es: \\n', matrizA[:,n:], '\\n')\n",
    "    \n",
    "    # Imprimimos la matriz triangular superior\n",
    "    print('La matriz U es: \\n', matrizA[:,0:n], '\\n')\n",
    "    \n",
    "else:\n",
    "    \n",
    "    print('La matriz no tiene solución única')"
   ]
  },
  {
   "cell_type": "markdown",
   "metadata": {},
   "source": [
    "Validamos lo que el producto da como resultado."
   ]
  },
  {
   "cell_type": "code",
   "execution_count": 4,
   "metadata": {},
   "outputs": [
    {
     "data": {
      "text/plain": [
       "array([[ 2.,  1.,  0.,  0.],\n",
       "       [-1.,  3.,  3.,  0.],\n",
       "       [ 2., -2.,  1.,  4.],\n",
       "       [-2.,  2.,  2.,  5.]])"
      ]
     },
     "execution_count": 4,
     "metadata": {},
     "output_type": "execute_result"
    }
   ],
   "source": [
    "inv(matrizA[:,n:]) @ matrizA[:,0:n]"
   ]
  },
  {
   "cell_type": "markdown",
   "metadata": {},
   "source": [
    "¿Qué aprendí con esta tarea?\n",
    "Aprendimos de este método que es de gran utilidad ya que nos permite alivianar la cantidad de operaciones para resolver un sistema. Proporciona un medio eficiente para calcular matrices inversas y estas poseen un importante número de aplicaciones en la práctica de ingeniería. Este es un proceso abreviado, cuando programamos nos da ganancia."
   ]
  }
 ],
 "metadata": {
  "kernelspec": {
   "display_name": "Python 3",
   "language": "python",
   "name": "python3"
  },
  "language_info": {
   "codemirror_mode": {
    "name": "ipython",
    "version": 3
   },
   "file_extension": ".py",
   "mimetype": "text/x-python",
   "name": "python",
   "nbconvert_exporter": "python",
   "pygments_lexer": "ipython3",
   "version": "3.8.8"
  }
 },
 "nbformat": 4,
 "nbformat_minor": 4
}
