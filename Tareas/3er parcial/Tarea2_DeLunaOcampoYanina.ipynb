{
 "cells": [
  {
   "cell_type": "markdown",
   "metadata": {},
   "source": [
    "# Sistemas de ecuaciones diferenciales\n",
    "\n",
    "Considere un \\textbf{sistema de ecuaciones diferenciales de orden $m$} de problemas de valores iniciales de primer orden, el cual se encuentra dado por:\n",
    "\n",
    "\n",
    "\\begin{equation}\n",
    "\t\\begin{split}\n",
    "\t\t\\frac{dy_1}{dt} & = f_1(t, y_1, y_2, y_3, \\dots, y_m) \\\\\n",
    "\t\t\\frac{dy_2}{dt} & = f_2(t, y_1, y_2, y_3, \\dots, y_m) \\\\\n",
    "\t\t\\frac{dy_3}{dt} & = f_3(t, y_1, y_2, y_3, \\dots, y_m) \\\\\n",
    "\t\t\\;\\;\\;\\;\\vdots\\;\\;\\; & \\;\\;\\;\\;\\;\\;\\;\\;\\vdots\\;\\;\\;\\;\\;\\;\\;\\;\\;\\;\\;\\;\\;\\;\\;\\;\\vdots\\;\\;\\;\\; \\\\\n",
    "\t\t\\frac{dy_m}{dt} & = f_m(t, y_1, y_2, y_3, \\dots, y_m) \\\\\n",
    "\t\\end{split}\n",
    "\\end{equation}\n",
    "\n",
    "\n",
    "en el intervalo $a \\leq t \\leq b$ con las condiciones iniciales $y_1(a) = \\alpha_1, y_2(a) = \\alpha_2, y_3(a) = \\alpha_3$, $\\dots$, $y_m(a) = \\alpha_m$. \n",
    "\n",
    "\n",
    "Entonces si buscamos aproximar la solución del mismo tenemos que podemos emplear el método de Runge - Kutta de orden 4 para determinar los coeficientes y emplear los siguientes pasos:\n",
    "\n",
    "\n",
    "\\begin{equation}\n",
    "\t\\begin{split}\n",
    "\t\t\\forall i = 1, 2, \\dots, m \\;\\;\\; w_{i,0} & = \\alpha_i \\\\\n",
    "\t\t\\forall j = 1, 2, \\dots, N \\;\\;\\; \\text{Realizar} & \\\\\n",
    "\t\t\\forall i = 1, 2, 3, \\dots, m \\;\\;\\; k_{1,i} & = h f_i\\left(t_j, w_{1,j}, w_{2,j}, w_{3,j}, \\dots, w_{m,j}\\right) \\\\\n",
    "\t\t\\forall i = 1, 2, \\dots, m \\;\\;\\; k_{2,i} & = h f_i\\left(t_j + \\frac{h}{2}, w_{1,j} + \\frac{k_{1,1}}{2}, w_{2,j} + \\frac{k_{1,2}}{2}, \\dots, w_{m,j} + \\frac{k_{1,m}}{2}\\right) \\\\\n",
    "\t\t\\forall i = 1, 2, \\dots, m \\;\\;\\; k_{3,i} & = h f_i\\left(t_j + \\frac{h}{2}, w_{1,j} + \\frac{k_{2,1}}{2}, w_{2,j} + \\frac{k_{2,2}}{2}, \\dots, w_{m,j} + \\frac{k_{2,m}}{2}\\right) \\\\\n",
    "\t\t\\forall i = 1, 2, \\dots, m \\;\\;\\; k_{4,i} & = h f_i\\left(t_j + h, w_{1,j} + k_{3,1}, w_{2,j} + k_{3,2}, \\dots, w_{m,j} + k_{3,m}\\right) \\\\\n",
    "\t\t\\forall i = 1, 2, \\dots, m \\;\\;\\; w_{i,j+1} & = w_{i,j} + \\frac{1}{6}(k_{1,i} + 2 k_{2,1} + 2 k_{3,i} + k_{4,i}).\n",
    "\t\\end{split}\n",
    "\\end{equation}"
   ]
  },
  {
   "cell_type": "code",
   "execution_count": 1,
   "metadata": {},
   "outputs": [],
   "source": [
    "# Instituto Politecnico Nacional\n",
    "# Escuela Superior de Cómputo\n",
    "# Tarea 2 del 3er parcial de Métodos Numéricos\n",
    "# De Luna Ocampo Yanina"
   ]
  },
  {
   "cell_type": "markdown",
   "metadata": {},
   "source": [
    "Importamos nuestras librerías a utilizar junto con nuestras funciones."
   ]
  },
  {
   "cell_type": "code",
   "execution_count": 2,
   "metadata": {},
   "outputs": [],
   "source": [
    "import numpy as np\n",
    "from numpy import exp\n",
    "e = 2.718281828459045"
   ]
  },
  {
   "cell_type": "markdown",
   "metadata": {},
   "source": [
    "Ingresamos el punto inicial, el punto final, el número de pasos y el número de ecuaciones en el sistema. Asimismo, añadimos nuestra condición inicial y nuestra condición final en y1 y y2."
   ]
  },
  {
   "cell_type": "code",
   "execution_count": 3,
   "metadata": {},
   "outputs": [],
   "source": [
    "# Determinamos los parámetros donde trabajaremos\n",
    "a = 0 \n",
    "b = 1 \n",
    "n = 10\n",
    "m = 2 \n",
    "\n",
    "# Condiciones iniciales\n",
    "w10 = 1 \n",
    "w20 = 1 "
   ]
  },
  {
   "cell_type": "code",
   "execution_count": 4,
   "metadata": {},
   "outputs": [],
   "source": [
    "# Definimos cadenas auxiliares para impresión de pantalla\n",
    "punto = 'Punto'\n",
    "aproxima1 = 'Aprox y1'\n",
    "aproxima2 = 'Aprox y2'\n",
    "real1 = 'Real y1'\n",
    "real2 = 'Real y2'\n",
    "error1 = 'Error y1'\n",
    "error2 = 'Error y2'"
   ]
  },
  {
   "cell_type": "markdown",
   "metadata": {},
   "source": [
    "Definimos las dos ecuaciones que conforman nuestro sistema de ecuaciones y al final, concatenamos las funciones en una lista."
   ]
  },
  {
   "cell_type": "code",
   "execution_count": 5,
   "metadata": {},
   "outputs": [],
   "source": [
    "# Definimos la función f1(t,y1, y2)\n",
    "def f1(t, y1, y2):\n",
    "    f1 = 3 * y1 + 2 * y2 - (2 * t**2 + 1) * e**(2*t)\n",
    "    return f1\n",
    "\n",
    "# Definimos la función f2(t,y1, y2)\n",
    "def f2(t, y1, y2):\n",
    "    f1 = 4 * y1 + y2 + (t**2 +2*t -4) * e**(2*t)\n",
    "    return f1\n",
    "\n",
    "# Concatenamos las funciones en una lista\n",
    "func = [f1, f2]"
   ]
  },
  {
   "cell_type": "markdown",
   "metadata": {},
   "source": [
    "Definimos nuestras soluciones reales para las dos funciones.\n",
    "Una vez hecho esto, obtenemos h con la fórmula que ya conocemos."
   ]
  },
  {
   "cell_type": "code",
   "execution_count": 6,
   "metadata": {},
   "outputs": [],
   "source": [
    "# Definimos las soluciones reales del sistema\n",
    "\n",
    "# Definimos la función y1(t)\n",
    "def y1(t):\n",
    "    y1 = (1/3)*exp(5*t) - (1/3)*exp(-t) + exp(2*t)\n",
    "    return y1\n",
    "\n",
    "# Definimos la función y2(t)\n",
    "def y2(t):\n",
    "    y2 = (1/3)*exp(5*t) + (2/3)*exp(-t) + (t**2)*exp(2*t)\n",
    "    return y2"
   ]
  },
  {
   "cell_type": "code",
   "execution_count": 7,
   "metadata": {},
   "outputs": [
    {
     "data": {
      "text/plain": [
       "0.1"
      ]
     },
     "execution_count": 7,
     "metadata": {},
     "output_type": "execute_result"
    }
   ],
   "source": [
    "# Determinamos el tamaño de salto\n",
    "h = (b - a) / n\n",
    "h"
   ]
  },
  {
   "cell_type": "markdown",
   "metadata": {},
   "source": [
    "Obtendremos los siguientes resultados:"
   ]
  },
  {
   "cell_type": "code",
   "execution_count": 8,
   "metadata": {},
   "outputs": [
    {
     "name": "stdout",
     "output_type": "stream",
     "text": [
      "[0.  0.1 0.2 0.3 0.4 0.5 0.6 0.7 0.8 0.9 1. ]\n"
     ]
    }
   ],
   "source": [
    "# Generamos el arreglo de puntos y de aproximaciones donde trabajaremos\n",
    "aprox = np.empty((m+1, n+1))\n",
    "\n",
    "# La primer dimensión tendra los puntos donde trabajaremos, es decir, los puntos de la malla\n",
    "aprox[0,:] = np.arange(a,b + h, h)\n",
    "\n",
    "# Imprimimos la primer dimensión a fin de validar los resultados:\n",
    "print(aprox[0])"
   ]
  },
  {
   "cell_type": "code",
   "execution_count": 9,
   "metadata": {},
   "outputs": [],
   "source": [
    "# Incorporamos los valores asociados con las condiciones iniciales\n",
    "aprox[1,0] = w10\n",
    "aprox[2,0] = w20"
   ]
  },
  {
   "cell_type": "markdown",
   "metadata": {},
   "source": [
    "Utilizamos a Runge - Kutta para aproximar la solución de este sistema."
   ]
  },
  {
   "cell_type": "code",
   "execution_count": 10,
   "metadata": {},
   "outputs": [],
   "source": [
    "# Definimos el método de Runge - Kutta de orden 4\n",
    "def rungeK4(t, h, w, func):\n",
    "    \n",
    "    # Definimos un arreglo donde se encontrarán los valores de los coeficientes\n",
    "    coef = np.empty((m, 5))\n",
    "    \n",
    "    # determinamos los coeficientes de k1\n",
    "    for i in range(m):\n",
    "        coef[i,0] = h * func[i](t, w[0], w[1])\n",
    "        \n",
    "    # determinamos los coeficientes de k2\n",
    "    for i in range(m):\n",
    "        coef[i,1] = h * func[i](t + (h / 2), w[0] + (coef[0,0] / 2), w[1] + (coef[1,0] / 2))\n",
    "        \n",
    "    # determinamos los coeficientes de k3\n",
    "    for i in range(m):\n",
    "        coef[i,2] = h * func[i](t + (h / 2), w[0] + (coef[0,1] / 2), w[1] + (coef[1,1] / 2))\n",
    "        \n",
    "    # determinamos los coeficientes de k4\n",
    "    for i in range(m):\n",
    "        coef[i,3] = h * func[i](t + h, w[0] + coef[0,2], w[1] + coef[1,2])\n",
    "        \n",
    "    # determinamos las aproximaciones de w\n",
    "    for i in range(m):\n",
    "        coef[i,4] = w[i] + (coef[i,0] + 2 * coef[i,1] + 2 * coef[i,2] + coef[i,3]) / 6\n",
    "    \n",
    "    return coef"
   ]
  },
  {
   "cell_type": "code",
   "execution_count": 11,
   "metadata": {},
   "outputs": [
    {
     "data": {
      "text/plain": [
       "0.06865911998880614"
      ]
     },
     "execution_count": 11,
     "metadata": {},
     "output_type": "execute_result"
    }
   ],
   "source": [
    "rungeK4(0, h, aprox[:,0], func)[0,4]"
   ]
  },
  {
   "cell_type": "code",
   "execution_count": 12,
   "metadata": {},
   "outputs": [],
   "source": [
    "# Comenzamos el proceso iterativo\n",
    "for i in range(1,n+1):\n",
    "    \n",
    "    # Llamamos a la función objetivo\n",
    "    coef = rungeK4(aprox[0,i-1], h, aprox[:,i-1][1:(m+1)], func)\n",
    "    \n",
    "    # Asignamos los valores al arreglo correspondiente\n",
    "    aprox[1,i] = coef[0,4]\n",
    "    aprox[2,i] = coef[1,4]\n",
    "\n",
    "# Creamos el arreglo donde trabajaremos\n",
    "resumen = np.empty((7,n+1))\n",
    "\n",
    "# Asignamos los puntos donde trabajamos y los valores aproximados\n",
    "resumen[0:(m+1),:] = aprox.copy()\n",
    "\n",
    "# Agregamos los valores reales de y1\n",
    "resumen[3] = y1(resumen[0])\n",
    "\n",
    "# Agregamos los valores reales de y2\n",
    "resumen[4] = y2(resumen[0])\n",
    "\n",
    "# Determinamos el error de aproximacion de y1\n",
    "resumen[5,:] = abs(resumen[3].copy() - resumen[1].copy())\n",
    "\n",
    "# Determinamos el error de aproximacion de y2\n",
    "resumen[6,:] = abs(resumen[4].copy() - resumen[2].copy())"
   ]
  },
  {
   "cell_type": "markdown",
   "metadata": {},
   "source": [
    "Arriba empezamos todo el proceso necesario para obtener los resultados esperados y así podemos imprimir nuestros resultados y poder visualizar lo esperado."
   ]
  },
  {
   "cell_type": "code",
   "execution_count": 13,
   "metadata": {
    "scrolled": true
   },
   "outputs": [
    {
     "name": "stdout",
     "output_type": "stream",
     "text": [
      "La aproximacion obtenida se encuentra dada por:\n",
      "Punto          Aprox y1       Aprox y2      Real y1        Real y2       Error y1         Error y2      \n",
      "         0.0            1.0            1.0            1.0            1.0         0.000000         0.000000\n",
      "         0.1     1.46922995     1.16487986     1.46936404     1.16501273         0.000134         0.000133\n",
      "         0.2     2.12457934     1.51116142     2.12500839     1.51158743         0.000429         0.000426\n",
      "         0.3     3.06804265     2.15073842     3.06907575     2.15176586         0.001033         0.001027\n",
      "         0.4      4.4629019       3.263777     4.46511961     3.26598528         0.002218         0.002208\n",
      "         0.5      6.5724616     5.14029565     6.57693626     5.14475555         0.004475         0.004460\n",
      "         0.6     9.82367168     8.24763071     9.83235869     8.25629549         0.008687         0.008665\n",
      "         0.7    14.91172651    13.34019235    14.92815552    13.35658884         0.016429         0.016396\n",
      "         0.8    22.97214909    21.63843304    23.00263945    21.66887674         0.030490         0.030444\n",
      "         0.9     35.8640456    35.12124815    35.91983468    35.17697132         0.055789         0.055723\n",
      "         1.0    56.63652548    57.00449684    56.73748265    57.10536209         0.100957         0.100865\n"
     ]
    }
   ],
   "source": [
    "# Imprimimos los resultados obtenidos\n",
    "print('La aproximacion obtenida se encuentra dada por:')\n",
    "\n",
    "# Titulos de la tabla\n",
    "print(f'{punto:12}   {aproxima1:12}   {aproxima2:12}  {real1:12}   {real2:12}  {error1:14}   {error2:14}')\n",
    "\n",
    "for i in range(n+1):\n",
    "    print('{0:12}   {1:12}   {2:12}   {3:12}   {4:12}   {5:14f}   {6:14f}'.format(round(resumen[0,i],8), round(resumen[1,i],8), round(resumen[2,i],8), round(resumen[3,i],8), round(resumen[4,i],8), round(resumen[5,i],10), round(resumen[6,i],10)))"
   ]
  },
  {
   "cell_type": "markdown",
   "metadata": {},
   "source": [
    "¿Qué aprendí?\n",
    "\n",
    "Durante la realizacion de este programa pude reafirmar mis conocimientos tanto de ecuaciones diferenciales, como\n",
    "la utilización de python, tambien pude realizar la comprobacion de los resultados con la ecuacion general dada\n",
    "con anterioridad.\n",
    "Aprendimos a analizar métodos enfocados a resolver sistemas de ecuaciones diferenciales, los cuales resultan al considerar la evolución de un sistema dinámico el cual evoluciona en función de diferentes características y propiedades."
   ]
  }
 ],
 "metadata": {
  "kernelspec": {
   "display_name": "Python 3",
   "language": "python",
   "name": "python3"
  },
  "language_info": {
   "codemirror_mode": {
    "name": "ipython",
    "version": 3
   },
   "file_extension": ".py",
   "mimetype": "text/x-python",
   "name": "python",
   "nbconvert_exporter": "python",
   "pygments_lexer": "ipython3",
   "version": "3.8.8"
  }
 },
 "nbformat": 4,
 "nbformat_minor": 4
}
