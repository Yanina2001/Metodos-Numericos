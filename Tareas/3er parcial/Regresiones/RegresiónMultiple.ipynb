{
 "cells": [
  {
   "cell_type": "markdown",
   "metadata": {},
   "source": [
    "# Regresión lineal múltiple\n",
    "\n",
    "Una extensión útil de la regresión lineal es el caso en el que y es una función lineal de dos o más variables independientes. Por ejemplo, $y$ podría ser una función lineal de $x_1$ y $x_2$, como en el modelo:\n",
    "\n",
    "\n",
    "\\begin{equation*}\n",
    "\ty = a_0 + a_1 x_1 + a_2 x_2 + e.\n",
    "\\end{equation*}\n",
    "\n",
    "\n",
    "Como en los casos anteriores, los mejores valores para los coeficientes se deter- minan al realizar la suma de los cuadrados de los residuos:\n",
    "\n",
    "\n",
    "\\begin{equation}\n",
    "    E = \\sum_{i = 1}^n e_i^2 = \\sum_{i =1}^n \\left( y_i - \\overline{y}_i \\right)^2 = \\sum_{i =1}^n \\left( y_i - a_0 - a_1 x_{1i} - a_2 x_{2i}\\right)^2.\n",
    "\\end{equation}\n",
    "\n",
    "\n",
    "\n",
    "Siguiendo el proceso, entonces ahora procedemos a determinar las derivadas parciales del método:\n",
    "\n",
    "\n",
    "\\begin{equation*}\n",
    "\t\\begin{split}\n",
    "\t\t\\frac{\\partial E}{\\partial a_0} & = -2\\sum_{i =1}^n \\left( y_i - a_0 - a_1 x_{1i} - a_2 x_{2i}\\right) \\\\\n",
    "\t\t\\frac{\\partial E}{\\partial a_1} & = -2\\sum_{i =1}^n \\left( y_i - a_0 - a_1 x_{1i} - a_2 x_{2i}\\right) x_{1i} \\\\\n",
    "\t\t\\frac{\\partial E}{\\partial a_2} & = -2\\sum_{i =1}^n \\left( y_i - a_0 - a_1 x_{1i} - a_2 x_{2i}\\right) x_{2i} \\\\\n",
    "\t\\end{split}\n",
    "\\end{equation*}\n",
    "\n",
    "\n",
    "Entonces al reajustar las ecuaciones para los coeficientes que determinan el modelo de regresión con un polinomio de segundo orden:\n",
    "\n",
    "\n",
    "\\begin{equation*}\n",
    "\t\\begin{split}\n",
    "\t\ta_0 n + a_1 \\sum_{i =1}^n x_{1i} + a_2 \\sum_{i =1} x_{2i} & = \\sum_{i=1} y_i \\\\\n",
    "\t\ta_0 \\sum_{i =1}^n x_{1i} + a_1 \\sum_{i =1} x^2_{1i} + a_2 \\sum_{i =1} x_{1i} x_{2i} & = \\sum_{i=1} x_{1i} y_i \\\\\n",
    "\t\ta_0 \\sum_{i =1} x_{2i} + a_1 \\sum_{i =1}^n x_{1i} x_{2i} + a_2 \\sum_{i =1} x^2_{2i} & = \\sum_{i=1} x_{2i} y_i \\\\\n",
    "\t\\end{split}\n",
    "\\end{equation*}"
   ]
  },
  {
   "cell_type": "code",
   "execution_count": null,
   "metadata": {},
   "outputs": [],
   "source": [
    "# A fin de facilitar la carga de los datos emplearemos la libreria de pandas\n",
    "import pandas as pd\n",
    "\n",
    "# Importamos numpy en caso de ocuparlo\n",
    "import numpy as np\n",
    "\n",
    "# Importamos la función señalada del determinante\n",
    "from numpy.linalg import det, solve\n",
    "\n",
    "# Libreria para graficar\n",
    "import matplotlib.pyplot as plt\n",
    "from matplotlib import style\n",
    "import seaborn as sns\n",
    "\n",
    "# Configuramos los warnings\n",
    "import warnings\n",
    "warnings.filterwarnings('ignore')"
   ]
  },
  {
   "cell_type": "code",
   "execution_count": null,
   "metadata": {},
   "outputs": [],
   "source": [
    "# Importamos la información mediante un archivo en csv\n",
    "data = pd.read_csv('Ejemplo3.csv')\n",
    "\n",
    "# Visualizamos la información\n",
    "data"
   ]
  },
  {
   "cell_type": "code",
   "execution_count": null,
   "metadata": {},
   "outputs": [],
   "source": [
    "# Ahora procederemos a determinar el modelo, por lo que,\n",
    "# determinamos la longitud de los datos\n",
    "n = len(data)\n",
    "\n",
    "# Número de variables dependientes\n",
    "m = len(data.columns) - 1\n",
    "\n",
    "# Imprimimos el número de datos\n",
    "print('Tenemos {} datos con {} variables dependientes.'.format(n, m))"
   ]
  },
  {
   "cell_type": "code",
   "execution_count": null,
   "metadata": {},
   "outputs": [],
   "source": [
    "# Calculamos las sumas\n",
    "sumx1 = data['x1'].sum()\n",
    "sumx2 = data['x2'].sum()\n",
    "sumx1x1 = (data['x1'] ** 2).sum()\n",
    "sumx1x2 = (data['x1'] * data['x2']).sum()\n",
    "sumx2x2 = (data['x2'] ** 2).sum()\n",
    "sumy = data['y'].sum()\n",
    "sumyx1 = (data['y'] * data['x1']).sum()\n",
    "sumyx2 = (data['y'] * data['x2']).sum()"
   ]
  },
  {
   "cell_type": "code",
   "execution_count": null,
   "metadata": {},
   "outputs": [],
   "source": [
    "# Creamos una matriz con los arreglos\n",
    "A = np.empty((m+1, m+1))\n",
    "\n",
    "# Asigamos los valores\n",
    "A[0,0] = n\n",
    "A[0,1] = sumx1\n",
    "A[1,0] = sumx1\n",
    "A[0,2] = sumx2\n",
    "A[2,0] = sumx2\n",
    "A[1,1] = sumx1x1\n",
    "A[1,2] = sumx1x2\n",
    "A[2,1] = sumx1x2\n",
    "A[2,2] = sumx2x2\n",
    "\n",
    "# Creamos el vector b\n",
    "b = np.empty(m+1)\n",
    "b[0] = sumy\n",
    "b[1] = sumyx1\n",
    "b[2] = sumyx2\n",
    "\n",
    "# Imprimimos los arreglos\n",
    "print('La matriz del sistema es: \\n', A)\n",
    "\n",
    "# Imprimimos el vector columna\n",
    "print('El vector columnas es: \\n', b)"
   ]
  },
  {
   "cell_type": "code",
   "execution_count": null,
   "metadata": {},
   "outputs": [],
   "source": [
    "# Resolvemos el sistema\n",
    "solve(A,b)"
   ]
  },
  {
   "cell_type": "code",
   "execution_count": null,
   "metadata": {},
   "outputs": [],
   "source": [
    "b"
   ]
  },
  {
   "cell_type": "code",
   "execution_count": null,
   "metadata": {},
   "outputs": [],
   "source": []
  }
 ],
 "metadata": {
  "kernelspec": {
   "display_name": "Python 3",
   "language": "python",
   "name": "python3"
  },
  "language_info": {
   "codemirror_mode": {
    "name": "ipython",
    "version": 3
   },
   "file_extension": ".py",
   "mimetype": "text/x-python",
   "name": "python",
   "nbconvert_exporter": "python",
   "pygments_lexer": "ipython3",
   "version": "3.8.5"
  }
 },
 "nbformat": 4,
 "nbformat_minor": 4
}
