{
 "cells": [
  {
   "cell_type": "markdown",
   "metadata": {},
   "source": [
    "# Regresión lineal\n",
    "\n",
    "\n"
   ]
  },
  {
   "cell_type": "markdown",
   "metadata": {},
   "source": [
    "Ajustaremos con una línea recta a un conjunto de observaciones (de datos discretos) definidos por los puntos:\n",
    "\n",
    "\n",
    "$$(x_1, y_1), (x_2, y_2), (x_3, y_3), \\dots, (x_n, y_n);$$\n",
    "\n",
    "\n",
    "por lo que, la ecuación de la recta que debe de aproximar el conjunto de datos es:\n",
    "\n",
    "\n",
    "\\begin{equation}\n",
    "\ty = a_0 + a_1 x + e,\n",
    "\\end{equation}\n",
    "\n",
    "\n",
    "donde $a_0$ y $a_1$ son los coeficiente que representan la intersección con el eje $y$ y la pendiente de la recta, asimismo, $e$ es el error, es decir, la diferencia entre el modelo y las observaciones, entonces:\n",
    "\n",
    "\n",
    "\\begin{equation*}\n",
    "\te = y - a_0 - a_1x.\n",
    "\\end{equation*}\n",
    "\n",
    "\n",
    "Entonces la estrategia es minimizar la suma de todos los errores de aproximación con la recta lineal y el valor de la medicion, entonces tenemos la siguiente función por minimizar:\n",
    "\n",
    "\n",
    "\\begin{equation}\n",
    "\tE = \\sum_{i = 1}^n e_i^2 = \\sum_{i =1}^n \\left( y_i - \\overline{y}_i \\right)^2 = \\sum_{i =1}^n \\left( y_i - a_0 - a_1 x_i \\right)^2,\n",
    "\\end{equation}\n",
    "\n",
    "\n",
    "Así que los coeficientes del modelo son\n",
    "\n",
    "\n",
    "\\begin{equation}\n",
    "\t\\begin{split}\n",
    "\t\ta_1 & = \\frac{n\\sum_{i =1}^n y_i x_i  - \\left(\\sum_{i = 1}^n x_i\\right)\\left(\\sum_{i = 1}^n y_i\\right)}{n\\sum_{i =1}^n x^2_i - \\left(\\sum_{i =1}^n x_i \\right)^2} \\\\\n",
    "\t\ta_0 & = \\overline{y} - a_1 \\overline{x}\n",
    "\t\\end{split}\n",
    "\\end{equation}\n",
    "\n",
    "\n",
    "Por ultimo describimos el coeficiente de bondad $r^2$\n",
    "\n",
    "\n",
    "\\begin{equation}\n",
    "\tr^2 = \\left(\\frac{n\\sum_{i =1}^n x_i y_i - \\left(\\sum_{i =1}^n x_i\\right)\\left(\\sum_{i =1}^n y_i\\right)}{\\sqrt{n\\sum_{i =1}x_i^2 - \\left(\\sum_{i =1}^n x_i\\right)^2}\\sqrt{n\\sum_{i =1}y_i^2 - \\left(\\sum_{i =1}^n y_i\\right)^2}}\\right)^2.\n",
    "\\end{equation}"
   ]
  },
  {
   "cell_type": "markdown",
   "metadata": {},
   "source": [
    "### IPN, ESCOM\n",
    "#### Tarea6, parcial3\n",
    "#### Alumna: De Luna Ocampo Yanina, profesor: Israel Sánchez Mendoza\n",
    "#### 06/12/2021"
   ]
  },
  {
   "cell_type": "markdown",
   "metadata": {},
   "source": [
    "#### Introducción\n",
    "Es un modelo matemático usado para aproximar la relación de dependencia entre una variable dependiente y variables independientes. Existen diferentes tipos de regresiones, donde cada una de ellas cuenta con sus distintas condiciones y características, por lo que es importante saber para qué casos qué tipo de regresión conviene más aplicar.\n",
    "La ecuación de regresión lineal se usa para predecir el valor de la variable dependiente basado en la variable o variable predictorias. "
   ]
  },
  {
   "cell_type": "markdown",
   "metadata": {},
   "source": [
    "#### Procedimiento \n",
    "Empezaremos importando una nueva librería que es la de pandas, asimismo, librerías para graficar que en este caso es la de matplotlib."
   ]
  },
  {
   "cell_type": "code",
   "execution_count": 1,
   "metadata": {},
   "outputs": [],
   "source": [
    "import pandas as pd\n",
    "\n",
    "import numpy as np\n",
    "\n",
    "import matplotlib.pyplot as plt\n",
    "from matplotlib import style\n",
    "import seaborn as sns\n",
    "\n",
    "# Configuramos los warnings\n",
    "import warnings\n",
    "warnings.filterwarnings('ignore')"
   ]
  },
  {
   "cell_type": "markdown",
   "metadata": {},
   "source": [
    "Continuamos pasando los datos de nuestro ejercicio en un .csv y mandándolo llamar desde el código para que pueda leer todo lo que hemos digitado. "
   ]
  },
  {
   "cell_type": "code",
   "execution_count": 2,
   "metadata": {},
   "outputs": [
    {
     "data": {
      "text/html": [
       "<div>\n",
       "<style scoped>\n",
       "    .dataframe tbody tr th:only-of-type {\n",
       "        vertical-align: middle;\n",
       "    }\n",
       "\n",
       "    .dataframe tbody tr th {\n",
       "        vertical-align: top;\n",
       "    }\n",
       "\n",
       "    .dataframe thead th {\n",
       "        text-align: right;\n",
       "    }\n",
       "</style>\n",
       "<table border=\"1\" class=\"dataframe\">\n",
       "  <thead>\n",
       "    <tr style=\"text-align: right;\">\n",
       "      <th></th>\n",
       "      <th>x</th>\n",
       "      <th>y</th>\n",
       "    </tr>\n",
       "  </thead>\n",
       "  <tbody>\n",
       "    <tr>\n",
       "      <th>0</th>\n",
       "      <td>1</td>\n",
       "      <td>10.0</td>\n",
       "    </tr>\n",
       "    <tr>\n",
       "      <th>1</th>\n",
       "      <td>2</td>\n",
       "      <td>16.3</td>\n",
       "    </tr>\n",
       "    <tr>\n",
       "      <th>2</th>\n",
       "      <td>3</td>\n",
       "      <td>23.0</td>\n",
       "    </tr>\n",
       "    <tr>\n",
       "      <th>3</th>\n",
       "      <td>4</td>\n",
       "      <td>27.5</td>\n",
       "    </tr>\n",
       "    <tr>\n",
       "      <th>4</th>\n",
       "      <td>5</td>\n",
       "      <td>31.0</td>\n",
       "    </tr>\n",
       "    <tr>\n",
       "      <th>5</th>\n",
       "      <td>6</td>\n",
       "      <td>35.6</td>\n",
       "    </tr>\n",
       "    <tr>\n",
       "      <th>6</th>\n",
       "      <td>7</td>\n",
       "      <td>39.0</td>\n",
       "    </tr>\n",
       "    <tr>\n",
       "      <th>7</th>\n",
       "      <td>8</td>\n",
       "      <td>41.5</td>\n",
       "    </tr>\n",
       "    <tr>\n",
       "      <th>8</th>\n",
       "      <td>9</td>\n",
       "      <td>42.9</td>\n",
       "    </tr>\n",
       "    <tr>\n",
       "      <th>9</th>\n",
       "      <td>10</td>\n",
       "      <td>45.0</td>\n",
       "    </tr>\n",
       "    <tr>\n",
       "      <th>10</th>\n",
       "      <td>11</td>\n",
       "      <td>46.0</td>\n",
       "    </tr>\n",
       "    <tr>\n",
       "      <th>11</th>\n",
       "      <td>12</td>\n",
       "      <td>45.5</td>\n",
       "    </tr>\n",
       "    <tr>\n",
       "      <th>12</th>\n",
       "      <td>13</td>\n",
       "      <td>46.0</td>\n",
       "    </tr>\n",
       "    <tr>\n",
       "      <th>13</th>\n",
       "      <td>14</td>\n",
       "      <td>49.0</td>\n",
       "    </tr>\n",
       "    <tr>\n",
       "      <th>14</th>\n",
       "      <td>15</td>\n",
       "      <td>50.0</td>\n",
       "    </tr>\n",
       "  </tbody>\n",
       "</table>\n",
       "</div>"
      ],
      "text/plain": [
       "     x     y\n",
       "0    1  10.0\n",
       "1    2  16.3\n",
       "2    3  23.0\n",
       "3    4  27.5\n",
       "4    5  31.0\n",
       "5    6  35.6\n",
       "6    7  39.0\n",
       "7    8  41.5\n",
       "8    9  42.9\n",
       "9   10  45.0\n",
       "10  11  46.0\n",
       "11  12  45.5\n",
       "12  13  46.0\n",
       "13  14  49.0\n",
       "14  15  50.0"
      ]
     },
     "execution_count": 2,
     "metadata": {},
     "output_type": "execute_result"
    }
   ],
   "source": [
    "data = pd.read_csv('tarea0.csv')\n",
    "\n",
    "# Visualizamos la información\n",
    "data"
   ]
  },
  {
   "cell_type": "markdown",
   "metadata": {},
   "source": [
    "Tenemos que determinar el modelo por lo que empezamos determinando la longitud de los datos."
   ]
  },
  {
   "cell_type": "code",
   "execution_count": 3,
   "metadata": {},
   "outputs": [],
   "source": [
    "n = len(data)"
   ]
  },
  {
   "cell_type": "markdown",
   "metadata": {},
   "source": [
    "Calculamos la suma de los datos como se visualizará a continuación."
   ]
  },
  {
   "cell_type": "code",
   "execution_count": 4,
   "metadata": {},
   "outputs": [
    {
     "data": {
      "text/plain": [
       "x    120.0\n",
       "y    548.3\n",
       "dtype: float64"
      ]
     },
     "execution_count": 4,
     "metadata": {},
     "output_type": "execute_result"
    }
   ],
   "source": [
    "# Calculamos la suma de datos en x\n",
    "data.sum()"
   ]
  },
  {
   "cell_type": "markdown",
   "metadata": {},
   "source": [
    "Declaramos la suma de nuestras dos columnas digitalizadas en Excel, x y y."
   ]
  },
  {
   "cell_type": "code",
   "execution_count": 5,
   "metadata": {},
   "outputs": [],
   "source": [
    "sumx = data.sum()['x']\n",
    "sumy = data.sum()['y']"
   ]
  },
  {
   "cell_type": "markdown",
   "metadata": {},
   "source": [
    "Calculamos el cuadrado y procedemos a imprimirlo para visualizar que se haya hecho de manera correcta dicha instrucción."
   ]
  },
  {
   "cell_type": "code",
   "execution_count": 6,
   "metadata": {},
   "outputs": [],
   "source": [
    "datacuadrado = data ** 2"
   ]
  },
  {
   "cell_type": "code",
   "execution_count": 7,
   "metadata": {},
   "outputs": [
    {
     "data": {
      "text/html": [
       "<div>\n",
       "<style scoped>\n",
       "    .dataframe tbody tr th:only-of-type {\n",
       "        vertical-align: middle;\n",
       "    }\n",
       "\n",
       "    .dataframe tbody tr th {\n",
       "        vertical-align: top;\n",
       "    }\n",
       "\n",
       "    .dataframe thead th {\n",
       "        text-align: right;\n",
       "    }\n",
       "</style>\n",
       "<table border=\"1\" class=\"dataframe\">\n",
       "  <thead>\n",
       "    <tr style=\"text-align: right;\">\n",
       "      <th></th>\n",
       "      <th>x</th>\n",
       "      <th>y</th>\n",
       "    </tr>\n",
       "  </thead>\n",
       "  <tbody>\n",
       "    <tr>\n",
       "      <th>0</th>\n",
       "      <td>1</td>\n",
       "      <td>100.00</td>\n",
       "    </tr>\n",
       "    <tr>\n",
       "      <th>1</th>\n",
       "      <td>4</td>\n",
       "      <td>265.69</td>\n",
       "    </tr>\n",
       "    <tr>\n",
       "      <th>2</th>\n",
       "      <td>9</td>\n",
       "      <td>529.00</td>\n",
       "    </tr>\n",
       "    <tr>\n",
       "      <th>3</th>\n",
       "      <td>16</td>\n",
       "      <td>756.25</td>\n",
       "    </tr>\n",
       "    <tr>\n",
       "      <th>4</th>\n",
       "      <td>25</td>\n",
       "      <td>961.00</td>\n",
       "    </tr>\n",
       "    <tr>\n",
       "      <th>5</th>\n",
       "      <td>36</td>\n",
       "      <td>1267.36</td>\n",
       "    </tr>\n",
       "    <tr>\n",
       "      <th>6</th>\n",
       "      <td>49</td>\n",
       "      <td>1521.00</td>\n",
       "    </tr>\n",
       "    <tr>\n",
       "      <th>7</th>\n",
       "      <td>64</td>\n",
       "      <td>1722.25</td>\n",
       "    </tr>\n",
       "    <tr>\n",
       "      <th>8</th>\n",
       "      <td>81</td>\n",
       "      <td>1840.41</td>\n",
       "    </tr>\n",
       "    <tr>\n",
       "      <th>9</th>\n",
       "      <td>100</td>\n",
       "      <td>2025.00</td>\n",
       "    </tr>\n",
       "    <tr>\n",
       "      <th>10</th>\n",
       "      <td>121</td>\n",
       "      <td>2116.00</td>\n",
       "    </tr>\n",
       "    <tr>\n",
       "      <th>11</th>\n",
       "      <td>144</td>\n",
       "      <td>2070.25</td>\n",
       "    </tr>\n",
       "    <tr>\n",
       "      <th>12</th>\n",
       "      <td>169</td>\n",
       "      <td>2116.00</td>\n",
       "    </tr>\n",
       "    <tr>\n",
       "      <th>13</th>\n",
       "      <td>196</td>\n",
       "      <td>2401.00</td>\n",
       "    </tr>\n",
       "    <tr>\n",
       "      <th>14</th>\n",
       "      <td>225</td>\n",
       "      <td>2500.00</td>\n",
       "    </tr>\n",
       "  </tbody>\n",
       "</table>\n",
       "</div>"
      ],
      "text/plain": [
       "      x        y\n",
       "0     1   100.00\n",
       "1     4   265.69\n",
       "2     9   529.00\n",
       "3    16   756.25\n",
       "4    25   961.00\n",
       "5    36  1267.36\n",
       "6    49  1521.00\n",
       "7    64  1722.25\n",
       "8    81  1840.41\n",
       "9   100  2025.00\n",
       "10  121  2116.00\n",
       "11  144  2070.25\n",
       "12  169  2116.00\n",
       "13  196  2401.00\n",
       "14  225  2500.00"
      ]
     },
     "execution_count": 7,
     "metadata": {},
     "output_type": "execute_result"
    }
   ],
   "source": [
    "datacuadrado"
   ]
  },
  {
   "cell_type": "markdown",
   "metadata": {},
   "source": [
    "Asignamos la suma a lo que acabamos de calcular que es el cuadrado."
   ]
  },
  {
   "cell_type": "code",
   "execution_count": 8,
   "metadata": {},
   "outputs": [],
   "source": [
    "sumxx = datacuadrado.sum()['x']\n",
    "sumyy = datacuadrado.sum()['y']"
   ]
  },
  {
   "cell_type": "markdown",
   "metadata": {},
   "source": [
    "Calculamos el producto cruzado"
   ]
  },
  {
   "cell_type": "code",
   "execution_count": 9,
   "metadata": {},
   "outputs": [
    {
     "data": {
      "text/plain": [
       "0      10.0\n",
       "1      32.6\n",
       "2      69.0\n",
       "3     110.0\n",
       "4     155.0\n",
       "5     213.6\n",
       "6     273.0\n",
       "7     332.0\n",
       "8     386.1\n",
       "9     450.0\n",
       "10    506.0\n",
       "11    546.0\n",
       "12    598.0\n",
       "13    686.0\n",
       "14    750.0\n",
       "dtype: float64"
      ]
     },
     "execution_count": 9,
     "metadata": {},
     "output_type": "execute_result"
    }
   ],
   "source": [
    "data['x'] * data['y']"
   ]
  },
  {
   "cell_type": "markdown",
   "metadata": {},
   "source": [
    "Asimismo, calculamos y asignamos de igual forma el cuadrado."
   ]
  },
  {
   "cell_type": "code",
   "execution_count": 10,
   "metadata": {},
   "outputs": [],
   "source": [
    "sumxy = (data['x'] * data['y']).sum()"
   ]
  },
  {
   "cell_type": "markdown",
   "metadata": {},
   "source": [
    "Imprimimos los coeficientes de la pendiente y de la intersección obtenidas mediante los valores de arriba."
   ]
  },
  {
   "cell_type": "code",
   "execution_count": 11,
   "metadata": {},
   "outputs": [
    {
     "name": "stdout",
     "output_type": "stream",
     "text": [
      "El coeficiente de la pendiente es 2.610357142857143 y el de la intersección es 15.670476190476183\n"
     ]
    }
   ],
   "source": [
    "a1 = (n * sumxy - sumx * sumy) / (n * sumxx - sumx ** 2)\n",
    "a0 = (sumy / n) - a1 * (sumx / n)\n",
    "\n",
    "print('El coeficiente de la pendiente es {} y el de la intersección es {}'.format(a1, a0))"
   ]
  },
  {
   "cell_type": "markdown",
   "metadata": {},
   "source": [
    "Calculamos las estimaciones con el modelo y lo imprimimos para visualizarlos de mejor manera."
   ]
  },
  {
   "cell_type": "code",
   "execution_count": 12,
   "metadata": {},
   "outputs": [
    {
     "name": "stdout",
     "output_type": "stream",
     "text": [
      "0     18.280833\n",
      "1     20.891190\n",
      "2     23.501548\n",
      "3     26.111905\n",
      "4     28.722262\n",
      "5     31.332619\n",
      "6     33.942976\n",
      "7     36.553333\n",
      "8     39.163690\n",
      "9     41.774048\n",
      "10    44.384405\n",
      "11    46.994762\n",
      "12    49.605119\n",
      "13    52.215476\n",
      "14    54.825833\n",
      "Name: x, dtype: float64\n"
     ]
    }
   ],
   "source": [
    "estimados = a0 + a1 * data['x']\n",
    "\n",
    "print(estimados)"
   ]
  },
  {
   "cell_type": "markdown",
   "metadata": {},
   "source": [
    "Calculamos los errores, los estandarizamos y procedemos a imprimirlo para poder ver su valor."
   ]
  },
  {
   "cell_type": "code",
   "execution_count": 13,
   "metadata": {},
   "outputs": [],
   "source": [
    "E = ((estimados - data['y']) ** 2).sum()"
   ]
  },
  {
   "cell_type": "code",
   "execution_count": 14,
   "metadata": {},
   "outputs": [
    {
     "name": "stdout",
     "output_type": "stream",
     "text": [
      "4.306589741485158\n"
     ]
    }
   ],
   "source": [
    "S = np.sqrt(E / (n - 2))\n",
    "\n",
    "print(S)"
   ]
  },
  {
   "cell_type": "markdown",
   "metadata": {},
   "source": [
    "Calculamos el coeficiente de bondad y de igual forma procedemos a imprimirlo para poder visualizarlo."
   ]
  },
  {
   "cell_type": "code",
   "execution_count": 15,
   "metadata": {},
   "outputs": [
    {
     "name": "stdout",
     "output_type": "stream",
     "text": [
      "El coeficiente de bondad es:  0.8878057920337629\n"
     ]
    }
   ],
   "source": [
    "bondad = ((n * sumxy - sumx * sumy) / (np.sqrt(n * sumxx - sumx ** 2) * np.sqrt(n * sumyy - sumy ** 2))) ** 2\n",
    "\n",
    "print('El coeficiente de bondad es: ', bondad)"
   ]
  },
  {
   "cell_type": "markdown",
   "metadata": {},
   "source": [
    "### Ahora, haremos lo mismo que hemos hecho arriba pero sistematizado."
   ]
  },
  {
   "cell_type": "code",
   "execution_count": 16,
   "metadata": {},
   "outputs": [],
   "source": [
    "# Ahora sistematizaremos el procedo anterior\n",
    "def regresionlineal(data):\n",
    "    \n",
    "    # Calculamos el numero de datos\n",
    "    n = len(data)\n",
    "    \n",
    "    # Calculamos los coeficientes de las sumas necesarios\n",
    "    sumx = data.sum()['x']\n",
    "    sumy = data.sum()['y']\n",
    "    \n",
    "    # Asignamos la suma de los cuadrados\n",
    "    sumxx = datacuadrado.sum()['x']\n",
    "    sumyy = datacuadrado.sum()['y']\n",
    "    \n",
    "    # Asignamos la suma cruzada\n",
    "    sumxy = (data['x'] * data['y']).sum()\n",
    "    \n",
    "    # Calculamos los coeficientes\n",
    "    a1 = (n * sumxy - sumx * sumy) / (n * sumxx - sumx ** 2)\n",
    "    a0 = (sumy / n) - a1 * (sumx / n)\n",
    "    \n",
    "    # Imprimimos los coeficientes\n",
    "    print('El coeficiente de la pendiente es {} y el de la intersección es {}'.format(a1, a0))\n",
    "    \n",
    "    # Ahora calculamos las estimaciones con el modelo\n",
    "    estimados = a0 + a1 * data['x']\n",
    "    \n",
    "    # Ahora calculamos los errores\n",
    "    E = ((estimados - data['y']) ** 2).sum()\n",
    "    \n",
    "    # Estandarizamos el error\n",
    "    S = np.sqrt(E / (n - 2))\n",
    "    \n",
    "    # Imprimimos el valor del error estandarizado\n",
    "    print('El error estandarizado del modelo de regresion lineal es: ',S)\n",
    "    \n",
    "    # Calculamos el coeficiente de la bondad\n",
    "    bondad = ((n * sumxy - sumx * sumy) / (np.sqrt(n * sumxx - sumx ** 2) * np.sqrt(n * sumyy - sumy ** 2))) ** 2\n",
    "\n",
    "    # Imprimimos el coeficiente de bondad\n",
    "    print('El coeficiente de bondad es: ', bondad)\n",
    "    \n",
    "    return a0, a1, S, bondad"
   ]
  },
  {
   "cell_type": "markdown",
   "metadata": {},
   "source": [
    "Imprimimos los resultados obtenidos con la función en la parte de arriba."
   ]
  },
  {
   "cell_type": "code",
   "execution_count": 17,
   "metadata": {},
   "outputs": [
    {
     "name": "stdout",
     "output_type": "stream",
     "text": [
      "El coeficiente de la pendiente es 2.610357142857143 y el de la intersección es 15.670476190476183\n",
      "El error estandarizado del modelo de regresion lineal es:  4.306589741485158\n",
      "El coeficiente de bondad es:  0.8878057920337629\n"
     ]
    }
   ],
   "source": [
    "a0, a1, S, bondad = regresionlineal(data)"
   ]
  },
  {
   "cell_type": "markdown",
   "metadata": {},
   "source": [
    "### Ahora, haremos lo mismo que hemos hecho arriba pero efectuado de forma directa con el código de Python."
   ]
  },
  {
   "cell_type": "code",
   "execution_count": 18,
   "metadata": {},
   "outputs": [],
   "source": [
    "# Importamos la libreria de modelos estadisticos\n",
    "import statsmodels.api as sm"
   ]
  },
  {
   "cell_type": "code",
   "execution_count": 19,
   "metadata": {},
   "outputs": [
    {
     "name": "stdout",
     "output_type": "stream",
     "text": [
      "                            OLS Regression Results                            \n",
      "==============================================================================\n",
      "Dep. Variable:                      y   R-squared:                       0.888\n",
      "Model:                            OLS   Adj. R-squared:                  0.879\n",
      "Method:                 Least Squares   F-statistic:                     102.9\n",
      "Date:                Mon, 06 Dec 2021   Prob (F-statistic):           1.53e-07\n",
      "Time:                        19:44:53   Log-Likelihood:                -42.113\n",
      "No. Observations:                  15   AIC:                             88.23\n",
      "Df Residuals:                      13   BIC:                             89.64\n",
      "Df Model:                           1                                         \n",
      "Covariance Type:            nonrobust                                         \n",
      "==============================================================================\n",
      "                 coef    std err          t      P>|t|      [0.025      0.975]\n",
      "------------------------------------------------------------------------------\n",
      "const         15.6705      2.340      6.697      0.000      10.615      20.726\n",
      "x              2.6104      0.257     10.143      0.000       2.054       3.166\n",
      "==============================================================================\n",
      "Omnibus:                        1.392   Durbin-Watson:                   0.251\n",
      "Prob(Omnibus):                  0.499   Jarque-Bera (JB):                1.070\n",
      "Skew:                          -0.443   Prob(JB):                        0.586\n",
      "Kurtosis:                       2.037   Cond. No.                         19.3\n",
      "==============================================================================\n",
      "\n",
      "Notes:\n",
      "[1] Standard Errors assume that the covariance matrix of the errors is correctly specified.\n"
     ]
    }
   ],
   "source": [
    "# Asignamos las variables\n",
    "x = data[['x']]\n",
    "y = data['y']\n",
    "\n",
    "# Variable para predecir\n",
    "x1 = data[['x']]\n",
    "\n",
    "# Agregamos una constante al conjunto x\n",
    "x = sm.add_constant(x, prepend = True)\n",
    "\n",
    "# Ajustamos el modelo\n",
    "modelo = sm.OLS(y,x)\n",
    "\n",
    "# Ajustamos el modelo\n",
    "modelo = modelo.fit()\n",
    "\n",
    "# Imprimimos el resumen del modelo\n",
    "print(modelo.summary())"
   ]
  },
  {
   "cell_type": "code",
   "execution_count": 20,
   "metadata": {},
   "outputs": [
    {
     "name": "stdout",
     "output_type": "stream",
     "text": [
      "Coeficiente de intersección:  15.670476190476196\n",
      "Coeficiente de la pendiente:  2.6103571428571444\n"
     ]
    }
   ],
   "source": [
    "# Imprimimos los coeficientes del modelo\n",
    "print(\"Coeficiente de intersección: \", modelo.params[0]) # Pendiente \n",
    "print(\"Coeficiente de la pendiente: \", modelo.params[1]) # coeficiente de la intersección "
   ]
  },
  {
   "cell_type": "code",
   "execution_count": 21,
   "metadata": {},
   "outputs": [
    {
     "data": {
      "image/png": "[encoded data removed]",
      "text/plain": [
       "<Figure size 864x492.48 with 1 Axes>"
      ]
     },
     "metadata": {
      "needs_background": "light"
     },
     "output_type": "display_data"
    }
   ],
   "source": [
    " # Predicciones con intervalo de confianza del 85%\n",
    "# ============================================================================== \n",
    "predicciones = modelo.get_prediction(x).summary_frame(alpha=0.15)\n",
    "predicciones['x'] = x1\n",
    "predicciones['y'] = y\n",
    "predicciones = predicciones.sort_values('x')\n",
    "# Gráfico del modelo\n",
    "# ============================================================================== \n",
    "fig, ax = plt.subplots(figsize = (12, 6.84))\n",
    "ax.scatter(predicciones['x'], predicciones['y'], marker='o', color = \"gray\")\n",
    "ax.plot(predicciones['x'], predicciones[\"mean\"], linestyle='-', label=\"OLS\")\n",
    "# ax.plot(predicciones['x'], predicciones[\"mean_ci_lower\"], linestyle='--', color='red', label=\"85% CI\")\n",
    "# ax.plot(predicciones['x'], predicciones[\"mean_ci_upper\"], linestyle='--', color='red')\n",
    "#ax.fill_between(predicciones['x'], predicciones[\"mean_ci_lower\"], predicciones[\"mean_ci_upper\"], alpha=0.1)\n",
    "ax.legend();"
   ]
  },
  {
   "cell_type": "markdown",
   "metadata": {},
   "source": [
    "#### ¿Qué aprendí con esta tarea?\n",
    "Aprendí nuevas librerías que me parecen muy interesantes aprender debido a que todas contienen cosas que hemos visto conforme avanzamos en los temas, lo que lo vuelve interesante. \n",
    "De igual forma recordemos que las observaciones se ponen en dos columnas, en \"x\" y en \"y\", estas distribuciones radican en investigar como influye una variable sobre la otra. Si utilizamos un sistema de coordenadas cartesianas, para representar dicha distribución, obtendremos un conjunto de puntos que conocemos como el diagrama de dispersión, que podemos observar en la parte de arriba, cuyo análisis permite estudiar cualitativamente la dependencia funcional entre las dos variables. Además nos permite determinar el grado de dependencia de las series de valores X y Y, prediciendo el valor estimado que se obtendrá para un valor x que no esté en la distribución."
   ]
  }
 ],
 "metadata": {
  "kernelspec": {
   "display_name": "Python 3",
   "language": "python",
   "name": "python3"
  },
  "language_info": {
   "codemirror_mode": {
    "name": "ipython",
    "version": 3
   },
   "file_extension": ".py",
   "mimetype": "text/x-python",
   "name": "python",
   "nbconvert_exporter": "python",
   "pygments_lexer": "ipython3",
   "version": "3.8.8"
  }
 },
 "nbformat": 4,
 "nbformat_minor": 4
}
