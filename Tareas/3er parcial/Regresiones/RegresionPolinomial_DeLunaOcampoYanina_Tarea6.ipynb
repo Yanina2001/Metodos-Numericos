{
 "cells": [
  {
   "cell_type": "markdown",
   "metadata": {},
   "source": [
    "# Regresion polinomial\n",
    "\n",
    "\n",
    "Por lo anterior, ahora debemos de considerar un polinomio de segundo orden para el ajuste, entonces suponemos un modelo de la forma:\n",
    "\n",
    "\n",
    "\\begin{equation*}\n",
    "\ty = a_0 + a_1 x + a_2 x^2 + e,\n",
    "\\end{equation*}\n",
    "\n",
    "\n",
    "por lo que, entonces buscamos de igual forma obtener el modelo mediante la minimización de los errores, salvo que, ahora es un modelo de segundo orden:\n",
    "\t\t\t\n",
    "            \n",
    "\\begin{equation}\n",
    "\tE = \\sum_{i = 1}^n e_i^2 = \\sum_{i =1}^n \\left( y_i - \\overline{y}_i \\right)^2 = \\sum_{i =1}^n \\left( y_i - a_0 - a_1 x_i - a_2 x^2_i\\right)^2.\n",
    "\\end{equation}\n",
    "\n",
    "\n",
    "Siguiendo el proceso, entonces ahora procedemos a determinar las derivadas parciales del método:\n",
    "\n",
    "\n",
    "\\begin{equation*}\n",
    "    \\begin{split}\n",
    "\t\t\\frac{\\partial E}{\\partial a_0} & = -2\\sum_{i =1}^n \\left( y_i - a_0 - a_1 x_i - a_2 x^2_i\\right) \\\\\n",
    "\t\t\\frac{\\partial E}{\\partial a_1} & = -2\\sum_{i =1}^n \\left( y_i - a_0 - a_1 x_i - a_2 x^2_i\\right) x_i \\\\\n",
    "\t\t\\frac{\\partial E}{\\partial a_2} & = -2\\sum_{i =1}^n \\left( y_i - a_0 - a_1 x_i - a_2 x^2_i\\right) x^2_i \\\\\n",
    "\t\\end{split}\n",
    "\\end{equation*}\n",
    "            \n",
    "\n",
    "Entonces al reajustar las ecuaciones para los coeficientes que determinan el modelo de regresión con un polinomio de segundo orden:\n",
    "\n",
    "\n",
    "\\begin{equation*}\n",
    "    \\begin{split}\n",
    "\t\ta_0 n + a_1 \\sum_{i =1}^n x_i + a_2 \\sum_{i =1} x^2_i & = \\sum_{i=1} y_i \\\\\n",
    "\t\ta_0 \\sum_{i =1}^n x_i + a_1 \\sum_{i =1} x^2_i + a_2 \\sum_{i =1} x^3_i & = \\sum_{i=1} x_i y_i \\\\\n",
    "\t\ta_0 \\sum_{i =1} x^2_i + a_1 \\sum_{i =1}^n x^3_i + a_2 \\sum_{i =1} x^4_i & = \\sum_{i=1} x^2_i y_i \\\\\n",
    "\t\\end{split}\n",
    "\\end{equation*}"
   ]
  },
  {
   "cell_type": "markdown",
   "metadata": {},
   "source": [
    "### IPN, ESCOM\n",
    "#### Tarea6, parcial3\n",
    "#### Alumna: De Luna Ocampo Yanina, profesor: Israel Sánchez Mendoza\n",
    "#### 06/12/2021"
   ]
  },
  {
   "cell_type": "markdown",
   "metadata": {},
   "source": [
    "#### Introducción\n",
    "Esta consiste en otra alternativa, para ajustar polinomios a los datos.\n",
    "Esta regresión es una forma de regresión lineal en la que la relación entre la variable independiente xy la variable dependiente y es modelada como un polinomio de grado n en x. \n",
    "Esta se ajusta a una relación no lineal entre el valor de x y la correspondiente media condicional de y, se ha utilizado para describir fenómenos no lineales con la tasa de crecimiento de los tejidos. "
   ]
  },
  {
   "cell_type": "markdown",
   "metadata": {},
   "source": [
    "#### Procedimiento \n",
    "Empezaremos importando una nueva librería que es la de pandas, asimismo, librerías para graficar que en este caso es la de matplotlib  y la función del determinante."
   ]
  },
  {
   "cell_type": "code",
   "execution_count": 1,
   "metadata": {},
   "outputs": [],
   "source": [
    "import pandas as pd\n",
    "\n",
    "import numpy as np\n",
    "\n",
    "from numpy.linalg import det, solve\n",
    "\n",
    "import matplotlib.pyplot as plt\n",
    "from matplotlib import style\n",
    "import seaborn as sns\n",
    "\n",
    "# Configuramos los warnings\n",
    "import warnings\n",
    "warnings.filterwarnings('ignore')"
   ]
  },
  {
   "cell_type": "markdown",
   "metadata": {},
   "source": [
    "Continuamos pasando los datos de nuestro ejercicio en un .csv y mandándolo llamar desde el código para que pueda leer todo lo que hemos digitado. "
   ]
  },
  {
   "cell_type": "code",
   "execution_count": 2,
   "metadata": {},
   "outputs": [
    {
     "data": {
      "text/html": [
       "<div>\n",
       "<style scoped>\n",
       "    .dataframe tbody tr th:only-of-type {\n",
       "        vertical-align: middle;\n",
       "    }\n",
       "\n",
       "    .dataframe tbody tr th {\n",
       "        vertical-align: top;\n",
       "    }\n",
       "\n",
       "    .dataframe thead th {\n",
       "        text-align: right;\n",
       "    }\n",
       "</style>\n",
       "<table border=\"1\" class=\"dataframe\">\n",
       "  <thead>\n",
       "    <tr style=\"text-align: right;\">\n",
       "      <th></th>\n",
       "      <th>x</th>\n",
       "      <th>y</th>\n",
       "    </tr>\n",
       "  </thead>\n",
       "  <tbody>\n",
       "    <tr>\n",
       "      <th>0</th>\n",
       "      <td>5</td>\n",
       "      <td>17</td>\n",
       "    </tr>\n",
       "    <tr>\n",
       "      <th>1</th>\n",
       "      <td>10</td>\n",
       "      <td>24</td>\n",
       "    </tr>\n",
       "    <tr>\n",
       "      <th>2</th>\n",
       "      <td>15</td>\n",
       "      <td>31</td>\n",
       "    </tr>\n",
       "    <tr>\n",
       "      <th>3</th>\n",
       "      <td>20</td>\n",
       "      <td>33</td>\n",
       "    </tr>\n",
       "    <tr>\n",
       "      <th>4</th>\n",
       "      <td>25</td>\n",
       "      <td>37</td>\n",
       "    </tr>\n",
       "    <tr>\n",
       "      <th>5</th>\n",
       "      <td>30</td>\n",
       "      <td>37</td>\n",
       "    </tr>\n",
       "    <tr>\n",
       "      <th>6</th>\n",
       "      <td>35</td>\n",
       "      <td>40</td>\n",
       "    </tr>\n",
       "    <tr>\n",
       "      <th>7</th>\n",
       "      <td>40</td>\n",
       "      <td>40</td>\n",
       "    </tr>\n",
       "    <tr>\n",
       "      <th>8</th>\n",
       "      <td>45</td>\n",
       "      <td>42</td>\n",
       "    </tr>\n",
       "    <tr>\n",
       "      <th>9</th>\n",
       "      <td>50</td>\n",
       "      <td>41</td>\n",
       "    </tr>\n",
       "  </tbody>\n",
       "</table>\n",
       "</div>"
      ],
      "text/plain": [
       "    x   y\n",
       "0   5  17\n",
       "1  10  24\n",
       "2  15  31\n",
       "3  20  33\n",
       "4  25  37\n",
       "5  30  37\n",
       "6  35  40\n",
       "7  40  40\n",
       "8  45  42\n",
       "9  50  41"
      ]
     },
     "execution_count": 2,
     "metadata": {},
     "output_type": "execute_result"
    }
   ],
   "source": [
    "data = pd.read_csv('tarea.csv')\n",
    "\n",
    "data"
   ]
  },
  {
   "cell_type": "markdown",
   "metadata": {},
   "source": [
    "Tenemos que determinar el modelo por lo que empezamos determinando la longitud de los datos e imprimimos el número de datos para poder visualizarlos y así, saber hasta qué orden podemos hacer nuestra regresión."
   ]
  },
  {
   "cell_type": "code",
   "execution_count": 3,
   "metadata": {},
   "outputs": [
    {
     "name": "stdout",
     "output_type": "stream",
     "text": [
      "Tenemos 10 datos por lo que, podemos hacer una regresión hasta orden 9.\n"
     ]
    }
   ],
   "source": [
    "n = len(data)\n",
    "\n",
    "print('Tenemos {} datos por lo que, podemos hacer una regresión hasta orden {}.'.format(n, n - 1))"
   ]
  },
  {
   "cell_type": "markdown",
   "metadata": {},
   "source": [
    "Preguntamos al usuairo qué órden busca determinar la regresión, en este caso será de dos. En caso de poner un número mayor al límite, se avisará que no se puede construir esa regresión."
   ]
  },
  {
   "cell_type": "code",
   "execution_count": 4,
   "metadata": {},
   "outputs": [
    {
     "name": "stdout",
     "output_type": "stream",
     "text": [
      "¿De que orden deseas crear la regresión? \n",
      "2\n",
      "Procedemos a crear la regresión\n"
     ]
    }
   ],
   "source": [
    "# Procedemos a preguntar al usuario que orden buscamos determinar la regresión\n",
    "m = int(input('¿De que orden deseas crear la regresión? \\n'))\n",
    "\n",
    "# Validamos que sea menor que n - 1\n",
    "if m < n:\n",
    "    print('Procedemos a crear la regresión')\n",
    "    \n",
    "else:\n",
    "    print('No se puede construir una regresión polinomial de orden ', m)"
   ]
  },
  {
   "cell_type": "markdown",
   "metadata": {},
   "source": [
    "Definimos la función que utilizaremos, vista en clase, quedando de la siguiente forma:"
   ]
  },
  {
   "cell_type": "code",
   "execution_count": 5,
   "metadata": {},
   "outputs": [],
   "source": [
    "# Definimos la funcion polinomial\n",
    "def polinomial(data, m):\n",
    "    \n",
    "    # Creamos una matriz y un vector de orden m + 1\n",
    "    A = np.empty((m+1, m+1))\n",
    "    b = np.empty(m+1)\n",
    "    \n",
    "    for i in range(m+1):\n",
    "        \n",
    "        # Asignamos para el vector b\n",
    "        b[i] = (data['x'] ** i * data['y']).sum()\n",
    "        \n",
    "        for j in range(i, m+1):\n",
    "            \n",
    "            # Calculamos la suma para la matriz del sistema\n",
    "            suma = (data ** (i + j)).sum()['x']\n",
    "            \n",
    "            # Asignamos en ambas entradas\n",
    "            A[i,j] = suma\n",
    "            A[j,i] = suma\n",
    "    \n",
    "    # Con el sistema planteado resolvemos el mismo\n",
    "    c = solve(A,b)\n",
    "    \n",
    "    return c"
   ]
  },
  {
   "cell_type": "markdown",
   "metadata": {},
   "source": [
    "La mandamos llamar con su respectivo orden para poder visualizar el resultado que nos arroja."
   ]
  },
  {
   "cell_type": "code",
   "execution_count": 6,
   "metadata": {},
   "outputs": [
    {
     "data": {
      "text/plain": [
       "array([11.76666667,  1.37787879, -0.01606061])"
      ]
     },
     "execution_count": 6,
     "metadata": {},
     "output_type": "execute_result"
    }
   ],
   "source": [
    "polinomial(data, 2)"
   ]
  },
  {
   "cell_type": "markdown",
   "metadata": {},
   "source": [
    "### Realizaremos el mismo procedimiento pero de forma automática\n",
    "Podremos observar que nos arroja los mismos resultados que el que hemos corrido y mostrado en la parte de arriba."
   ]
  },
  {
   "cell_type": "code",
   "execution_count": 7,
   "metadata": {},
   "outputs": [
    {
     "name": "stdout",
     "output_type": "stream",
     "text": [
      "a_0 = 11.766666666666246, a_i = [ 1.37787879 -0.01606061]\n"
     ]
    }
   ],
   "source": [
    "# Realizamos el mismo procedimiento pero de forma automática\n",
    "\n",
    "# Creamos las variables\n",
    "x = data['x'].values\n",
    "y = data['y'].values\n",
    "\n",
    "# Importamos de la libreria se scikit-learn la parte de modelos de regresion\n",
    "from sklearn.linear_model import LinearRegression \n",
    "\n",
    "# Importamos las caracteristicas polinomiales de modelos de regresion\n",
    "from sklearn.preprocessing import PolynomialFeatures \n",
    "\n",
    "# Asignamos el orden del polinomio\n",
    "pf = PolynomialFeatures(degree = 2)\n",
    "\n",
    "# Creamos un arreglo con 1, x, x^2\n",
    "X = pf.fit_transform(x.reshape(-1,1))\n",
    "\n",
    "# Creamos un objeto de regresión\n",
    "regresion_lineal = LinearRegression()\n",
    "\n",
    "# Ajustamos el modelo\n",
    "regresion_lineal.fit(X, y) \n",
    "\n",
    "# Imprimimos los resultados\n",
    "print(('a_0 = ' + str(regresion_lineal.intercept_)) + ', a_i = ' + str(regresion_lineal.coef_[1:]))"
   ]
  },
  {
   "cell_type": "markdown",
   "metadata": {},
   "source": [
    "Si recordamos, hemos puesto las librerías para poder visualizar lo que obtengamos en este método, visualizándolo de la siguiente forma."
   ]
  },
  {
   "cell_type": "code",
   "execution_count": 8,
   "metadata": {},
   "outputs": [],
   "source": [
    "# Ahora graficaremos el modelo, por lo que, predeciremos los valores\n",
    "prediccion_entrenamiento = regresion_lineal.predict(X)"
   ]
  },
  {
   "cell_type": "code",
   "execution_count": 9,
   "metadata": {},
   "outputs": [
    {
     "data": {
      "image/png": "[encoded data removed]",
      "text/plain": [
       "<Figure size 864x492.48 with 1 Axes>"
      ]
     },
     "metadata": {
      "needs_background": "light"
     },
     "output_type": "display_data"
    }
   ],
   "source": [
    "fig, ax = plt.subplots(figsize = (12, 6.84))\n",
    "ax.scatter(data['x'], data['y'], marker = 'o', color = \"gray\")\n",
    "ax.plot(data['x'], prediccion_entrenamiento, linestyle='-', label = \"Regresión\")\n",
    "ax.legend();"
   ]
  },
  {
   "cell_type": "markdown",
   "metadata": {},
   "source": [
    "#### ¿Qué aprendí con esta tarea?\n",
    "Debemos saber de igual forma que aunque la regresión polinómica se ajusta a un modelo no lineal a los datos, como un problema de estimación estadística, es lineal, en el sentido de que la función de regresión es lineal en los parámetros desconocidos que se calculan a partir de los datos. Por esta razón, la regresión polinomial se considera un caso especial de regresión lineal múltiple."
   ]
  }
 ],
 "metadata": {
  "kernelspec": {
   "display_name": "Python 3",
   "language": "python",
   "name": "python3"
  },
  "language_info": {
   "codemirror_mode": {
    "name": "ipython",
    "version": 3
   },
   "file_extension": ".py",
   "mimetype": "text/x-python",
   "name": "python",
   "nbconvert_exporter": "python",
   "pygments_lexer": "ipython3",
   "version": "3.8.8"
  }
 },
 "nbformat": 4,
 "nbformat_minor": 4
}
