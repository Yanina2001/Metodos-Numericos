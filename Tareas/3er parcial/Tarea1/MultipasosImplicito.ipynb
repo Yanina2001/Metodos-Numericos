{
 "cells": [
  {
   "cell_type": "markdown",
   "metadata": {},
   "source": [
    "# Métodos multipasos\n",
    "\n",
    "\n",
    "Se conoce como métodos multipasos a aquellos que emplean la aproximación en más de uno de los puntos de la red precedentes para determinar a aquellos que emplean la aproximación en el siguiente punto, a continuación se presentan en particular dos métodos.\n",
    "\n",
    "**Método explícito de Adams - Bashfort de cuatro pasos**:\n",
    "\n",
    "\n",
    "\\begin{equation}\n",
    "\t\\begin{split}\n",
    "\t\tw_0 & = \\alpha, \\;\\;w_1 = \\alpha_1, \\;\\;w_2 = \\alpha_2, \\;\\;w_3 = \\alpha_3, \\\\\n",
    "\t\tw_{i+1} & = w_i + \\frac{h}{24} \\left[55 f(t_{i}, w_{i}) - 59f(t_{i-1}, w_{i-1}) + 37f(t_{i-2}, w_{i-2}) - 9f(t_{i-3}, w_{i-3})\\right],\n",
    "\t\\end{split}\n",
    "\\end{equation}\n",
    "\n",
    "\n",
    "para cada $i = 3, 4, 5, \\dots, N - 1$, con un error de truncamiento dado por $\\frac{251}{720}y^{(5)}(\\mu_i)h^4$ para algún $\\mu_i\\in(t_{i-3},t_{i+1})$.\n",
    "\n",
    "**Método implícito de Adams - Moulton de tres pasos**:\n",
    "\n",
    "\n",
    "\\begin{equation}\n",
    "\t\\begin{split}\n",
    "\t\tw_0 & = \\alpha, \\;\\;w_1 = \\alpha_1,\\;\\; w_2 = \\alpha_2\\\\\n",
    "\t\tw_{i+1} & = w_i + \\frac{h}{24} \\left[9 f(t_{i+1}, w_{i+1}) + 19 f(t_{i}, w_{i}) - 5 f(t_{i-1}, w_{i-1}) + f(t_{i-2}, w_{i-2})\\right],\n",
    "\t\\end{split}\n",
    "\\end{equation}\n",
    "\n",
    "\n",
    "para cada $i = 3, 4, 5, \\dots, N - 1$, con un error de truncamiento dado por $\\frac{19}{720}y^{(5)}(\\mu_i)h^4$ para algún $\\mu_i\\in(t_{i-2},t_{i+1})$."
   ]
  },
  {
   "cell_type": "code",
   "execution_count": 1,
   "metadata": {},
   "outputs": [],
   "source": [
    "# Importamos las librerias y funciones necesarias para replicar el método\n",
    "import numpy as np\n",
    "from numpy import exp"
   ]
  },
  {
   "cell_type": "code",
   "execution_count": 2,
   "metadata": {},
   "outputs": [],
   "source": [
    "# Determinamos los parámetros donde trabajaremos\n",
    "a = 0 # Punto inicial\n",
    "b = 2 # Punto final\n",
    "w0 = 0.5 # Condicion inicial\n",
    "n = 10 # Número de pasos"
   ]
  },
  {
   "cell_type": "code",
   "execution_count": 3,
   "metadata": {},
   "outputs": [],
   "source": [
    "# Definimos cadenas auxiliares para impresión de pantalla\n",
    "punto = 'Punto'\n",
    "aproxima = 'Aproximacion'\n",
    "real = 'Real'\n",
    "error = 'Error Absoluto'"
   ]
  },
  {
   "cell_type": "code",
   "execution_count": 4,
   "metadata": {},
   "outputs": [],
   "source": [
    "# Definimos la función f(t,y)\n",
    "def fty(t,y):\n",
    "    fty = y - t**2 + 1\n",
    "    return fty"
   ]
  },
  {
   "cell_type": "code",
   "execution_count": 5,
   "metadata": {},
   "outputs": [],
   "source": [
    "# Determinamos el tamaño de salto\n",
    "h = (b - a) / n"
   ]
  },
  {
   "cell_type": "code",
   "execution_count": 6,
   "metadata": {},
   "outputs": [],
   "source": [
    "# Determinamos los valores exactos y los error de aproximacion\n",
    "# Primero definimos la solución real\n",
    "def ftyR(t):\n",
    "    ftyR = t**2 + 2*t + 1-0.5 * exp(t)\n",
    "    return ftyR"
   ]
  },
  {
   "cell_type": "code",
   "execution_count": 7,
   "metadata": {},
   "outputs": [
    {
     "name": "stdout",
     "output_type": "stream",
     "text": [
      "[0.  0.2 0.4 0.6 0.8 1.  1.2 1.4 1.6 1.8 2. ]\n"
     ]
    }
   ],
   "source": [
    "# Generamos el arreglo de puntos y de aproximaciones donde trabajaremos\n",
    "aprox = np.empty((2,n+1))\n",
    "\n",
    "# La primer dimensión tendra los puntos donde trabajaremos, es decir, los puntos de la malla\n",
    "aprox[0,:] = np.arange(a,b + h, h)\n",
    "\n",
    "# Imprimimos la primer dimensión a fin de validar los resultados:\n",
    "print(aprox[0,:])"
   ]
  },
  {
   "cell_type": "code",
   "execution_count": 9,
   "metadata": {},
   "outputs": [],
   "source": [
    "# Incorporamos los valores reales\n",
    "aprox[1,0] = w0\n",
    "aprox[1,1] = ftyR(aprox[0,1])\n",
    "aprox[1,2] = ftyR(aprox[0,2])\n",
    "aprox[1,3] = ftyR(aprox[0,3])"
   ]
  },
  {
   "cell_type": "code",
   "execution_count": 10,
   "metadata": {},
   "outputs": [],
   "source": [
    "# Definimos el método de Adams - Bashfort\n",
    "def adamsB4(t, h, w0, w1, w2, w3):\n",
    "    adamsB4 = (h / 24) * (55 * fty(t, w0) - 59 * fty(t - h, w1) + 37 * fty(t - 2 * h, w2) - 9 * fty(t - 3 * h, w3))\n",
    "    return adamsB4"
   ]
  },
  {
   "cell_type": "code",
   "execution_count": 11,
   "metadata": {},
   "outputs": [],
   "source": [
    "# Comenzamos el proceso iterativo\n",
    "for i in range(4,n+1):\n",
    "    aprox[1,i] = aprox[1,i-1] + adamsB4(aprox[0,i-1], h, aprox[1,i-1], aprox[1,i-2], aprox[1,i-3], aprox[1,i-4])\n",
    "\n",
    "# Creamos el arreglo donde trabajaremos\n",
    "resumen = np.empty((4,n+1))\n",
    "\n",
    "# Asignamos los puntos donde trabajamos y los valores aproximados\n",
    "resumen[0:2,:] = aprox.copy()\n",
    "\n",
    "# Asignamos los valores reales\n",
    "resumen[2,:] = ftyR(aprox[0,:])\n",
    "\n",
    "# Determinamos el error de aproximación\n",
    "resumen[3,:] = abs(resumen[2,:].copy() - aprox[1,:].copy())"
   ]
  },
  {
   "cell_type": "code",
   "execution_count": 12,
   "metadata": {},
   "outputs": [
    {
     "name": "stdout",
     "output_type": "stream",
     "text": [
      "La aproximacion obtenida se encuentra dada por:\n",
      "Punto             Aproximacion     Real             Error Absoluto \n",
      "            0.0               0.5               0.5               0.0\n",
      "            0.2        0.82929862        0.82929862               0.0\n",
      "            0.4        1.21408765        1.21408765               0.0\n",
      "            0.6         1.6489406         1.6489406               0.0\n",
      "            0.8        2.12731235        2.12722954         8.282e-05\n",
      "            1.0        2.64108102        2.64085909        0.00022193\n",
      "            1.2        3.18034802        3.17994154        0.00040648\n",
      "            1.4        3.73306013        3.73240002        0.00066011\n",
      "            1.6        4.28449313        4.28348379        0.00100934\n",
      "            1.8        4.81665748        4.81517627        0.00148121\n",
      "            2.0        5.30758381        5.30547195        0.00211186\n"
     ]
    }
   ],
   "source": [
    "# Imprimimos los resultados obtenidos\n",
    "print('La aproximacion obtenida se encuentra dada por:')\n",
    "\n",
    "# Titulos de la tabla\n",
    "print(f'{punto:15}   {aproxima:15}  {real:15}  {error:15}')\n",
    "\n",
    "for i in range(n+1):\n",
    "    print('{0:15}   {1:15}   {2:15}   {3:15}'.format(round(resumen[0,i],8), round(resumen[1,i],8), round(resumen[2,i],8), round(resumen[3,i],8)))"
   ]
  },
  {
   "cell_type": "code",
   "execution_count": 13,
   "metadata": {},
   "outputs": [
    {
     "name": "stdout",
     "output_type": "stream",
     "text": [
      "[0.  0.2 0.4 0.6 0.8 1.  1.2 1.4 1.6 1.8 2. ]\n"
     ]
    }
   ],
   "source": [
    "# Generamos el arreglo de puntos y de aproximaciones donde trabajaremos\n",
    "aprox = np.empty((2,n+1))\n",
    "\n",
    "# La primer dimensión tendra los puntos donde trabajaremos, es decir, los puntos de la malla\n",
    "aprox[0,:] = np.arange(a,b + h, h)\n",
    "\n",
    "# Imprimimos la primer dimensión a fin de validar los resultados:\n",
    "print(aprox[0,:])"
   ]
  },
  {
   "cell_type": "code",
   "execution_count": 14,
   "metadata": {},
   "outputs": [],
   "source": [
    "# Incorporamos los valores reales\n",
    "aprox[1,0] = w0\n",
    "aprox[1,1] = ftyR(aprox[0,1])\n",
    "aprox[1,2] = ftyR(aprox[0,2])"
   ]
  },
  {
   "cell_type": "code",
   "execution_count": 15,
   "metadata": {},
   "outputs": [],
   "source": [
    "# Definimos el método de Adams - Moulton de tres pasos\n",
    "def adamsM3(t, h, z, w0, w1, w2):\n",
    "    adamsM3 = w0 + (h / 24) * (9 * fty(t + h, z) + 19 * fty(t, w0) - 5 * fty(t - h, w1) + fty(t - 2 * h, w2))\n",
    "    adamsM3 = adamsM3 / 0.925\n",
    "    return adamsM3"
   ]
  },
  {
   "cell_type": "code",
   "execution_count": 16,
   "metadata": {},
   "outputs": [],
   "source": [
    "# Comenzamos el proceso iterativo\n",
    "for i in range(3,n+1):\n",
    "    aprox[1,i] = adamsM3(aprox[0,i-1], h, 0, aprox[1,i-1], aprox[1,i-2], aprox[1,i-3])\n",
    "\n",
    "# Creamos el arreglo donde trabajaremos\n",
    "resumen = np.empty((4,n+1))\n",
    "\n",
    "# Asignamos los puntos donde trabajamos y los valores aproximados\n",
    "resumen[0:2,:] = aprox.copy()\n",
    "\n",
    "# Asignamos los valores reales\n",
    "resumen[2,:] = ftyR(aprox[0,:])\n",
    "\n",
    "# Determinamos el error de aproximación\n",
    "resumen[3,:] = abs(resumen[2,:].copy() - aprox[1,:].copy())"
   ]
  },
  {
   "cell_type": "code",
   "execution_count": 17,
   "metadata": {},
   "outputs": [
    {
     "name": "stdout",
     "output_type": "stream",
     "text": [
      "La aproximacion obtenida se encuentra dada por:\n",
      "Punto             Aproximacion     Real             Error Absoluto \n",
      "            0.0               0.5               0.5               0.0\n",
      "            0.2        0.82929862        0.82929862               0.0\n",
      "            0.4        1.21408765        1.21408765               0.0\n",
      "            0.6        1.64893415         1.6489406          6.45e-06\n",
      "            0.8        2.12721358        2.12722954         1.596e-05\n",
      "            1.0        2.64082977        2.64085909         2.932e-05\n",
      "            1.2        3.17989373        3.17994154         4.781e-05\n",
      "            1.4        3.73232696        3.73240002         7.305e-05\n",
      "            1.6        4.28337666        4.28348379        0.00010713\n",
      "            1.8        4.81502355        4.81517627        0.00015272\n",
      "            2.0        5.30525871        5.30547195        0.00021324\n"
     ]
    }
   ],
   "source": [
    "# Imprimimos los resultados obtenidos\n",
    "print('La aproximacion obtenida se encuentra dada por:')\n",
    "\n",
    "# Titulos de la tabla\n",
    "print(f'{punto:15}   {aproxima:15}  {real:15}  {error:15}')\n",
    "\n",
    "for i in range(n+1):\n",
    "    print('{0:15}   {1:15}   {2:15}   {3:15}'.format(round(resumen[0,i],8), round(resumen[1,i],8), round(resumen[2,i],8), round(resumen[3,i],8)))"
   ]
  },
  {
   "cell_type": "code",
   "execution_count": null,
   "metadata": {},
   "outputs": [],
   "source": []
  }
 ],
 "metadata": {
  "kernelspec": {
   "display_name": "Python 3",
   "language": "python",
   "name": "python3"
  },
  "language_info": {
   "codemirror_mode": {
    "name": "ipython",
    "version": 3
   },
   "file_extension": ".py",
   "mimetype": "text/x-python",
   "name": "python",
   "nbconvert_exporter": "python",
   "pygments_lexer": "ipython3",
   "version": "3.8.8"
  }
 },
 "nbformat": 4,
 "nbformat_minor": 4
}
