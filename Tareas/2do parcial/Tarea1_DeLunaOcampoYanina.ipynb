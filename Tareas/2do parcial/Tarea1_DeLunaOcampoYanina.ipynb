{
 "cells": [
  {
   "cell_type": "code",
   "execution_count": null,
   "id": "9c15bef7",
   "metadata": {},
   "outputs": [],
   "source": [
    "#Tarea1, parcial2\n",
    "#Métodos Numéricos\n",
    "#3AM1\n",
    "#22/09/2021\n",
    "#DeLunaOcampoYanina\n",
    "#Fórmulas de 3 y 5 puntos"
   ]
  },
  {
   "cell_type": "code",
   "execution_count": 1,
   "id": "dc916b77",
   "metadata": {},
   "outputs": [],
   "source": [
    "from numpy import sin, cos"
   ]
  },
  {
   "cell_type": "code",
   "execution_count": 2,
   "id": "651ed5e0",
   "metadata": {},
   "outputs": [],
   "source": [
    "def fx(x):\n",
    "    fx = sin(x)\n",
    "    return fx"
   ]
  },
  {
   "cell_type": "code",
   "execution_count": 3,
   "id": "1e230f81",
   "metadata": {},
   "outputs": [
    {
     "name": "stdout",
     "output_type": "stream",
     "text": [
      "Método de diferencia progresiva\n",
      "Con el orden 2 obtenemos:  -0.42068635004807176 con un error de:  0.004539513500929349\n",
      "Con el orden 3 obtenemos:  -0.41616093494341033 con un error de:  1.4098396267925306e-05\n",
      "Con el orden 4 obtenemos:  -0.4161466104901276 con un error de:  2.260570148293617e-07\n",
      "Con el orden 5 obtenemos:  -0.41614683568464983 con un error de:  8.624925773581538e-10\n"
     ]
    }
   ],
   "source": [
    "y = 2\n",
    "h = 0.01\n",
    "\n",
    "f2 = (fx(y + h) - fx(y)) / h\n",
    "f3 = ((-3*fx(y)) + (4*fx(y + 1*h)) - fx(y + 2*h)) / (2*h)\n",
    "f4 = ((-11*fx(y)) + (18*fx(y + 1*h)) - (9*fx(y + 2*h)) + (2*fx(y + 3*h))) / (6*h)\n",
    "f5 = ((-25*fx(y)) + (48*fx(y + 1*h)) - (36*fx(y + 2*h)) + (16*fx(y + 3*h)) - (3*fx(y + 4*h))) / (12*h)\n",
    "\n",
    "print('Método de diferencia progresiva')\n",
    "print('Con el orden 2 obtenemos: ', f2, 'con un error de: ', abs(cos(2) - f2))\n",
    "print('Con el orden 3 obtenemos: ', f3, 'con un error de: ', abs(cos(2) - f3))\n",
    "print('Con el orden 4 obtenemos: ', f4, 'con un error de: ', abs(cos(2) - f4))\n",
    "print('Con el orden 5 obtenemos: ', f5, 'con un error de: ', abs(cos(2) - f5))"
   ]
  },
  {
   "cell_type": "code",
   "execution_count": 4,
   "id": "f2da918f",
   "metadata": {},
   "outputs": [
    {
     "name": "stdout",
     "output_type": "stream",
     "text": [
      "Método de diferencia regresiva\n",
      "Con el orden 2 obtenemos:  -0.41159345155434846 con un error de:  0.004553384992793952\n",
      "Con el orden 3 obtenemos:  -0.41616048030230224 con un error de:  1.3643755159831183e-05\n",
      "Con el orden 4 obtenemos:  -0.4161470651009728 con un error de:  2.2855383041697763e-07\n",
      "Con el orden 5 obtenemos:  -0.41614683574528655 con un error de:  8.01855859489109e-10\n"
     ]
    }
   ],
   "source": [
    "y = 2\n",
    "h = 0.01\n",
    "\n",
    "f2 = (fx(y) - fx(y - h)) / h\n",
    "f3 = ((3*fx(y)) - (4*fx(y - 1*h)) + fx(y - 2*h)) / (2*h)\n",
    "f4 = ((11*fx(y)) - (18*fx(y - 1*h)) + (9*fx(y - 2*h)) - (2*fx(y - 3*h))) / (6*h)\n",
    "f5 = ((25*fx(y)) - (48*fx(y - 1*h)) + (36*fx(y - 2*h)) - (16*fx(y - 3*h)) + (3*fx(y - 4*h))) / (12*h)\n",
    "\n",
    "print('Método de diferencia regresiva')\n",
    "print('Con el orden 2 obtenemos: ', f2, 'con un error de: ', abs(cos(2) - f2))\n",
    "print('Con el orden 3 obtenemos: ', f3, 'con un error de: ', abs(cos(2) - f3))\n",
    "print('Con el orden 4 obtenemos: ', f4, 'con un error de: ', abs(cos(2) - f4))\n",
    "print('Con el orden 5 obtenemos: ', f5, 'con un error de: ', abs(cos(2) - f5))"
   ]
  },
  {
   "cell_type": "code",
   "execution_count": 5,
   "id": "415862cd",
   "metadata": {},
   "outputs": [
    {
     "name": "stdout",
     "output_type": "stream",
     "text": [
      "Método de diferencia central\n",
      "Con el orden 2 obtenemos:  -4.1613990080121014e-05 con un error de:  0.4161052225570623\n",
      "Con el orden 4 obtenemos:  -0.4161468364084264 con un error de:  1.3871598314452172e-10\n",
      "Con el orden 6 obtenemos:  -0.4161468365471381 con un error de:  4.3298697960381105e-15\n"
     ]
    }
   ],
   "source": [
    "y = 2\n",
    "h = 0.01\n",
    "\n",
    "f2 = (fx(y + h) - fx(y - h)) / 2*h\n",
    "f4 = (fx(y - 2*h) - 8*fx(y - 1*h) + 8*fx(y + 1*h) - fx(y + 2*h)) / (12*h)\n",
    "f6 = (-fx(y - 3*h) + (9*fx(y - 2*h)) - (45*fx(y - 1*h)) + (45*fx(y + 1*h)) - (9*fx(y + 2*h)) + fx(y + 3*h)) / (60*h)\n",
    "\n",
    "print('Método de diferencia central')\n",
    "print('Con el orden 2 obtenemos: ', f2, 'con un error de: ', abs(cos(2) - f2))\n",
    "print('Con el orden 4 obtenemos: ', f4, 'con un error de: ', abs(cos(2) - f4))\n",
    "print('Con el orden 6 obtenemos: ', f6, 'con un error de: ', abs(cos(2) - f6))"
   ]
  },
  {
   "cell_type": "code",
   "execution_count": 6,
   "id": "694fc037",
   "metadata": {},
   "outputs": [
    {
     "data": {
      "text/plain": [
       "-0.4161468365471424"
      ]
     },
     "execution_count": 6,
     "metadata": {},
     "output_type": "execute_result"
    }
   ],
   "source": [
    "cos(2)"
   ]
  },
  {
   "cell_type": "code",
   "execution_count": null,
   "id": "ec493efb",
   "metadata": {},
   "outputs": [],
   "source": [
    "# Crearemos una lista que evalue la diferencia progresiva en tamaños de h a la mitad\n",
    "# h = 0.1, h = 0.05, h = 0.025, h = 0.0125, h = 0.00625, h = 0.003125, h = 0.0015625, h = 0.00078125, h = 0.00039062, h = 0.000019531\n"
   ]
  }
 ],
 "metadata": {
  "kernelspec": {
   "display_name": "Python 3",
   "language": "python",
   "name": "python3"
  },
  "language_info": {
   "codemirror_mode": {
    "name": "ipython",
    "version": 3
   },
   "file_extension": ".py",
   "mimetype": "text/x-python",
   "name": "python",
   "nbconvert_exporter": "python",
   "pygments_lexer": "ipython3",
   "version": "3.8.8"
  }
 },
 "nbformat": 4,
 "nbformat_minor": 5
}
